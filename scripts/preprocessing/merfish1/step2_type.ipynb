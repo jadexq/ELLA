{
 "cells": [
  {
   "cell_type": "markdown",
   "id": "002ba7e6",
   "metadata": {},
   "source": [
    "### Step2: cell typing"
   ]
  },
  {
   "cell_type": "code",
   "execution_count": 1,
   "id": "5110a179",
   "metadata": {},
   "outputs": [
    {
     "name": "stderr",
     "output_type": "stream",
     "text": [
      "/net/mulan/home/jadewang/tools/miniconda3/envs/torch/lib/python3.10/site-packages/scipy/__init__.py:146: UserWarning: A NumPy version >=1.16.5 and <1.23.0 is required for this version of SciPy (detected version 1.25.2\n",
      "  warnings.warn(f\"A NumPy version >={np_minversion} and <{np_maxversion}\"\n"
     ]
    }
   ],
   "source": [
    "import numpy as np\n",
    "import pandas as pd\n",
    "import anndata\n",
    "import matplotlib.pyplot as plt\n",
    "import pickle\n",
    "import scipy.stats as stats\n",
    "from collections import defaultdict\n",
    "from matplotlib.patches import Patch\n",
    "from matplotlib.lines import Line2D\n",
    "import matplotlib.gridspec as gridspec\n",
    "import matplotlib.colors as colors\n",
    "import random\n",
    "import math\n",
    "import timeit\n",
    "# start = timeit.default_timer()\n",
    "# stop = timeit.default_timer()\n",
    "# print(f'Time: {stop - start}') \n",
    "from shapely.geometry import Point\n",
    "from shapely.geometry.polygon import Polygon\n",
    "pd.options.mode.chained_assignment = None  # default='warn'\n",
    "from collections import Counter\n",
    "\n",
    "red = '#c0362c'\n",
    "lightgreen = '#93c572'\n",
    "darkgreen = '#4c9141'\n",
    "lightblue = '#5d8aa8'\n",
    "darkblue = '#2e589c'\n",
    "white = '#fafafa'\n",
    "lightgray = '#d3d3d3'\n",
    "darkgray ='#545454'\n",
    "lightorange = '#fabc2e'\n",
    "darkorange = '#fb9912'\n",
    "yellow = '#e4d00a'"
   ]
  },
  {
   "cell_type": "markdown",
   "id": "3c12278e",
   "metadata": {},
   "source": [
    "#### load labeled cells from step1"
   ]
  },
  {
   "cell_type": "code",
   "execution_count": 2,
   "id": "e7ae74aa",
   "metadata": {},
   "outputs": [],
   "source": [
    "# pkl\n",
    "outfile = 'output_step1/crop_data_allcells.pkl'\n",
    "# save\n",
    "# pickle_dict = {}\n",
    "# pickle_dict['crop_cell_df'] = crop_cell_df\n",
    "# pickle_dict['cl_1centroid'] = cl_1centroid\n",
    "# pickle_dict['seg_df_com'] = seg_df_com\n",
    "# pickle_dict['centroid_df_com'] = centroid_df_com\n",
    "# with open(outfile, 'wb') as f:\n",
    "#     pickle.dump(pickle_dict, f)\n",
    "    \n",
    "# load\n",
    "with open(outfile, 'rb') as f:\n",
    "    pickle_dict = pickle.load(f)\n",
    "crop_cell_df = pickle_dict['crop_cell_df']\n",
    "cl_1centroid = pickle_dict['cl_1centroid']\n",
    "seg_df_com = pickle_dict['seg_df_com']\n",
    "centroid_df_com = pickle_dict['centroid_df_com']"
   ]
  },
  {
   "cell_type": "code",
   "execution_count": 3,
   "id": "c03482fe",
   "metadata": {},
   "outputs": [],
   "source": [
    "# rename\n",
    "crop_cell_df = crop_cell_df.rename(columns={'label': 'cell', \n",
    "                                            'target_gene': 'gene', \n",
    "                                            'x': '_x',\n",
    "                                            'y': '_y',\n",
    "                                            'global_x': 'x',\n",
    "                                            'global_y': 'y',\n",
    "                                            'global_z': 'z',\n",
    "                                            'center_x': 'centerX',\n",
    "                                            'center_y': 'centerY',\n",
    "                                           })"
   ]
  },
  {
   "cell_type": "code",
   "execution_count": 4,
   "id": "7607b70e",
   "metadata": {},
   "outputs": [
    {
     "data": {
      "text/html": [
       "<div>\n",
       "<style scoped>\n",
       "    .dataframe tbody tr th:only-of-type {\n",
       "        vertical-align: middle;\n",
       "    }\n",
       "\n",
       "    .dataframe tbody tr th {\n",
       "        vertical-align: top;\n",
       "    }\n",
       "\n",
       "    .dataframe thead th {\n",
       "        text-align: right;\n",
       "    }\n",
       "</style>\n",
       "<table border=\"1\" class=\"dataframe\">\n",
       "  <thead>\n",
       "    <tr style=\"text-align: right;\">\n",
       "      <th></th>\n",
       "      <th>barcode_id</th>\n",
       "      <th>x</th>\n",
       "      <th>y</th>\n",
       "      <th>z</th>\n",
       "      <th>_x</th>\n",
       "      <th>_y</th>\n",
       "      <th>fov</th>\n",
       "      <th>gene</th>\n",
       "      <th>cell</th>\n",
       "      <th>centerX</th>\n",
       "      <th>centerY</th>\n",
       "      <th>sc_total</th>\n",
       "    </tr>\n",
       "  </thead>\n",
       "  <tbody>\n",
       "    <tr>\n",
       "      <th>41968214</th>\n",
       "      <td>77</td>\n",
       "      <td>-3691.7622</td>\n",
       "      <td>1518.1683</td>\n",
       "      <td>0.0</td>\n",
       "      <td>678.88007</td>\n",
       "      <td>1375.7654</td>\n",
       "      <td>846</td>\n",
       "      <td>Slc17a7</td>\n",
       "      <td>100011840018250995710399369016464324637</td>\n",
       "      <td>-3693.983511</td>\n",
       "      <td>1515.632457</td>\n",
       "      <td>367</td>\n",
       "    </tr>\n",
       "    <tr>\n",
       "      <th>41969082</th>\n",
       "      <td>113</td>\n",
       "      <td>-3692.9680</td>\n",
       "      <td>1514.7861</td>\n",
       "      <td>0.0</td>\n",
       "      <td>667.81635</td>\n",
       "      <td>1344.7354</td>\n",
       "      <td>846</td>\n",
       "      <td>Tox</td>\n",
       "      <td>100011840018250995710399369016464324637</td>\n",
       "      <td>-3693.983511</td>\n",
       "      <td>1515.632457</td>\n",
       "      <td>367</td>\n",
       "    </tr>\n",
       "    <tr>\n",
       "      <th>41969810</th>\n",
       "      <td>133</td>\n",
       "      <td>-3695.8860</td>\n",
       "      <td>1518.9193</td>\n",
       "      <td>0.0</td>\n",
       "      <td>641.04626</td>\n",
       "      <td>1382.6552</td>\n",
       "      <td>846</td>\n",
       "      <td>Etv1</td>\n",
       "      <td>100011840018250995710399369016464324637</td>\n",
       "      <td>-3693.983511</td>\n",
       "      <td>1515.632457</td>\n",
       "      <td>367</td>\n",
       "    </tr>\n",
       "    <tr>\n",
       "      <th>41970990</th>\n",
       "      <td>204</td>\n",
       "      <td>-3697.1086</td>\n",
       "      <td>1518.0354</td>\n",
       "      <td>0.0</td>\n",
       "      <td>629.83014</td>\n",
       "      <td>1374.5458</td>\n",
       "      <td>846</td>\n",
       "      <td>Vgf</td>\n",
       "      <td>100011840018250995710399369016464324637</td>\n",
       "      <td>-3693.983511</td>\n",
       "      <td>1515.632457</td>\n",
       "      <td>367</td>\n",
       "    </tr>\n",
       "    <tr>\n",
       "      <th>41972011</th>\n",
       "      <td>248</td>\n",
       "      <td>-3691.7605</td>\n",
       "      <td>1519.7418</td>\n",
       "      <td>0.0</td>\n",
       "      <td>678.89496</td>\n",
       "      <td>1390.2002</td>\n",
       "      <td>846</td>\n",
       "      <td>Satb1</td>\n",
       "      <td>100011840018250995710399369016464324637</td>\n",
       "      <td>-3693.983511</td>\n",
       "      <td>1515.632457</td>\n",
       "      <td>367</td>\n",
       "    </tr>\n",
       "  </tbody>\n",
       "</table>\n",
       "</div>"
      ],
      "text/plain": [
       "          barcode_id          x          y    z         _x         _y  fov  \\\n",
       "41968214          77 -3691.7622  1518.1683  0.0  678.88007  1375.7654  846   \n",
       "41969082         113 -3692.9680  1514.7861  0.0  667.81635  1344.7354  846   \n",
       "41969810         133 -3695.8860  1518.9193  0.0  641.04626  1382.6552  846   \n",
       "41970990         204 -3697.1086  1518.0354  0.0  629.83014  1374.5458  846   \n",
       "41972011         248 -3691.7605  1519.7418  0.0  678.89496  1390.2002  846   \n",
       "\n",
       "             gene                                     cell      centerX  \\\n",
       "41968214  Slc17a7  100011840018250995710399369016464324637 -3693.983511   \n",
       "41969082      Tox  100011840018250995710399369016464324637 -3693.983511   \n",
       "41969810     Etv1  100011840018250995710399369016464324637 -3693.983511   \n",
       "41970990      Vgf  100011840018250995710399369016464324637 -3693.983511   \n",
       "41972011    Satb1  100011840018250995710399369016464324637 -3693.983511   \n",
       "\n",
       "              centerY  sc_total  \n",
       "41968214  1515.632457       367  \n",
       "41969082  1515.632457       367  \n",
       "41969810  1515.632457       367  \n",
       "41970990  1515.632457       367  \n",
       "41972011  1515.632457       367  "
      ]
     },
     "execution_count": 4,
     "metadata": {},
     "output_type": "execute_result"
    }
   ],
   "source": [
    "crop_cell_df.head()"
   ]
  },
  {
   "cell_type": "code",
   "execution_count": 5,
   "id": "a57305c2",
   "metadata": {},
   "outputs": [
    {
     "name": "stdout",
     "output_type": "stream",
     "text": [
      "#cells 58355\n",
      "58355\n",
      "58355\n"
     ]
    }
   ],
   "source": [
    "cell_list = crop_cell_df.cell.unique()\n",
    "print(f'#cells {len(cell_list)}') # #cells 58355\n",
    "\n",
    "print(len(cl_1centroid))\n",
    "print(crop_cell_df.cell.nunique())"
   ]
  },
  {
   "cell_type": "code",
   "execution_count": 6,
   "id": "c79d7bf5",
   "metadata": {},
   "outputs": [
    {
     "name": "stdout",
     "output_type": "stream",
     "text": [
      "#genes 1240\n"
     ]
    }
   ],
   "source": [
    "gene_list = crop_cell_df.gene.unique()\n",
    "print(f'#genes {len(gene_list)}') # #genes 1240"
   ]
  },
  {
   "cell_type": "markdown",
   "id": "81aaa079",
   "metadata": {},
   "source": [
    "#### initial cell typing"
   ]
  },
  {
   "cell_type": "code",
   "execution_count": 7,
   "id": "15095ede",
   "metadata": {},
   "outputs": [
    {
     "name": "stdout",
     "output_type": "stream",
     "text": [
      "marker44 44\n"
     ]
    }
   ],
   "source": [
    "##### 44 marker genes in Stereoseq paper\n",
    "# figure S1 - J\n",
    "geneMarker44List = ['Cldn5', 'Flt1', 'Ptgds', 'Hbb-bs', 'Acta2', 'Plp1', 'Mbp', 'Olig2', 'Pdgtra', 'Sox10', 'Cx3cr1', 'P2ry12', 'Csf1r', 'C1qa', \n",
    "                    'Sox9', 'Aqp4', 'Gfap', 'Mfge8', 'Sparc', 'Agt', 'Slc4a4', 'Slc1a3', 'Slc1a2', \n",
    "                    'Reln', 'Pvalb', 'Sst', 'Npy', 'Vip', 'Gad2', 'Gad1', 'Tcf7l2', 'Prkcd', 'Prox1', \n",
    "                    'Hpca', 'Th', 'Rprm', 'Cpne4', 'Myl4', 'Rorb', 'Cux2', 'Lamp5', 'Slc17a6', 'Slc17a7', 'Tubb3']\n",
    "print(f'marker44 {len(geneMarker44List)}')"
   ]
  },
  {
   "cell_type": "code",
   "execution_count": 8,
   "id": "6d211793",
   "metadata": {},
   "outputs": [
    {
     "name": "stdout",
     "output_type": "stream",
     "text": [
      "marker_ 22\n",
      "['Cldn5', 'Acta2', 'Sox10', 'Sox9', 'Aqp4', 'Gfap', 'Mfge8', 'Agt', 'Reln', 'Pvalb', 'Gad2', 'Tcf7l2', 'Prkcd', 'Prox1', 'Th', 'Rprm', 'Myl4', 'Rorb', 'Cux2', 'Lamp5', 'Slc17a6', 'Slc17a7']\n"
     ]
    }
   ],
   "source": [
    "marker_ = []\n",
    "for g in geneMarker44List:\n",
    "    if g in gene_list:\n",
    "        marker_.append(g)\n",
    "    \n",
    "print(f'marker_ {len(marker_)}')\n",
    "print(marker_)"
   ]
  },
  {
   "cell_type": "code",
   "execution_count": 9,
   "id": "87d8f25e",
   "metadata": {},
   "outputs": [],
   "source": [
    "marker22 = np.array(marker_)"
   ]
  },
  {
   "cell_type": "code",
   "execution_count": 10,
   "id": "a4bde7b9",
   "metadata": {},
   "outputs": [],
   "source": [
    "marker_EX = ['Rprm', 'Myl4', 'Rorb', 'Cux2', 'Lamp5', 'Slc17a7']\n",
    "marker_IN = ['Reln', 'Pvalb', 'Gad2']\n",
    "marker_Astr = ['Sox9', 'Aqp4', 'Gfap', 'Mfge8', 'Agt']\n",
    "marker_Oligo = ['Sox10']\n",
    "marker_else = ['Cldn5', 'Acta2', 'Tcf7l2', 'Prkcd', 'Prox1', 'Th', 'Slc17a6']\n",
    "\n",
    "idx_EX = np.array([16,17,18,19,20,22])-1\n",
    "idx_IN = np.array([9,10,11])-1\n",
    "idx_Astr = np.array([4,5,6,7,8])-1\n",
    "idx_Oligo = np.array([3])-1\n",
    "idx_else = np.array([1,2,12,13,14,15,21])-1"
   ]
  },
  {
   "cell_type": "code",
   "execution_count": 11,
   "id": "59c8fe34",
   "metadata": {},
   "outputs": [
    {
     "name": "stdout",
     "output_type": "stream",
     "text": [
      "['Rprm' 'Myl4' 'Rorb' 'Cux2' 'Lamp5' 'Slc17a7']\n",
      "['Reln' 'Pvalb' 'Gad2']\n",
      "['Sox9' 'Aqp4' 'Gfap' 'Mfge8' 'Agt']\n",
      "['Sox10']\n",
      "['Cldn5' 'Acta2' 'Tcf7l2' 'Prkcd' 'Prox1' 'Th' 'Slc17a6']\n"
     ]
    }
   ],
   "source": [
    "print(marker22[idx_EX])\n",
    "print(marker22[idx_IN])\n",
    "print(marker22[idx_Astr])\n",
    "print(marker22[idx_Oligo])\n",
    "print(marker22[idx_else])"
   ]
  },
  {
   "cell_type": "code",
   "execution_count": 12,
   "id": "46cd11ef",
   "metadata": {},
   "outputs": [],
   "source": [
    "# save marker genes\n",
    "outfile = 'output_step2/marker_dict.pkl'\n",
    "# save\n",
    "pickle_dict = {}\n",
    "pickle_dict['geneMarker44List'] = geneMarker44List\n",
    "pickle_dict['marker22'] = marker22\n",
    "pickle_dict['marker_EX'] = marker_EX\n",
    "pickle_dict['marker_IN'] = marker_IN\n",
    "pickle_dict['marker_Astr'] = marker_Astr\n",
    "pickle_dict['marker_Oligo'] = marker_Oligo\n",
    "pickle_dict['marker_else'] = marker_else\n",
    "pickle_dict['idx_EX'] = idx_EX\n",
    "pickle_dict['idx_IN'] = idx_IN\n",
    "pickle_dict['idx_Astr'] = idx_Astr\n",
    "pickle_dict['idx_Oligo'] = idx_Oligo\n",
    "pickle_dict['idx_else'] = idx_else\n",
    "with open(outfile, 'wb') as f:\n",
    "    pickle.dump(pickle_dict, f)\n",
    "\n",
    "# load\n",
    "# with open(outfile, 'rb') as f:\n",
    "#     pickle_dict = pickle.load(f)\n",
    "# registered_dict = pickle_dict['df_registered']"
   ]
  },
  {
   "cell_type": "code",
   "execution_count": 13,
   "id": "6333cac4",
   "metadata": {},
   "outputs": [],
   "source": [
    "# the expr of each marker gene\n",
    "marker_dict = {}\n",
    "for g in marker22[:]:\n",
    "    crop_cell_df_g = crop_cell_df[crop_cell_df.gene==g]\n",
    "    count_g = crop_cell_df_g.groupby('cell').size()\n",
    "    marker_dict[f'{g}_cl'] = count_g.index.to_list()\n",
    "    marker_dict[f'{g}_expr'] = count_g.values.tolist()"
   ]
  },
  {
   "cell_type": "code",
   "execution_count": 14,
   "id": "36125a7e",
   "metadata": {},
   "outputs": [
    {
     "name": "stdout",
     "output_type": "stream",
     "text": [
      "(58355, 22)\n"
     ]
    }
   ],
   "source": [
    "# marker expr for cell_list\n",
    "res_list = []\n",
    "for g in marker22[:]:\n",
    "    data = cell_list\n",
    "    keys = marker_dict[f'{g}_cl']\n",
    "    vals = marker_dict[f'{g}_expr']\n",
    "    memo = defaultdict(lambda: (0))\n",
    "    for k, v in zip(keys, vals):\n",
    "        if k not in memo:\n",
    "            memo[k] = v\n",
    "        else:\n",
    "            raise ValueError('duplicated keys')\n",
    "\n",
    "    res = np.array(list(map(lambda x: memo[x], data)))\n",
    "    #print(len(res), len(data), len(keys), len(vals))\n",
    "    res_list.append(res.tolist())\n",
    "    \n",
    "expr_mat = np.array(res_list).transpose()\n",
    "print(expr_mat.shape) # (58355, 22)"
   ]
  },
  {
   "cell_type": "code",
   "execution_count": 15,
   "id": "63de8713",
   "metadata": {},
   "outputs": [
    {
     "name": "stdout",
     "output_type": "stream",
     "text": [
      "58355\n"
     ]
    }
   ],
   "source": [
    "# find sc total for `cell_list`\n",
    "sct_df = crop_cell_df.groupby('cell')['sc_total'].first().head()\n",
    "data = cell_list\n",
    "keys = sct_df.index.to_list()\n",
    "vals = sct_df.values.tolist()\n",
    "memo = defaultdict(lambda: (0))\n",
    "for k, v in zip(keys, vals):\n",
    "    if k not in memo:\n",
    "        memo[k] = v\n",
    "    else:\n",
    "        raise ValueError('duplicated keys')\n",
    "\n",
    "sc_total_cl = np.array(list(map(lambda x: memo[x], data)))\n",
    "print(len(sc_total_cl))"
   ]
  },
  {
   "cell_type": "code",
   "execution_count": 16,
   "id": "972159c1",
   "metadata": {},
   "outputs": [
    {
     "name": "stdout",
     "output_type": "stream",
     "text": [
      "(58355, 22)\n",
      "(58355, 22)\n"
     ]
    }
   ],
   "source": [
    "# std `expr_mat` by sc_total\n",
    "MG = 22\n",
    "c0 = 1e-8\n",
    "sc_total_mat = np.tile(np.array(sc_total_cl), (MG, 1)).transpose()\n",
    "print(sc_total_mat.shape)\n",
    "expr_mat_sc = expr_mat/(sc_total_mat+c0)\n",
    "print(expr_mat_sc.shape)"
   ]
  },
  {
   "cell_type": "code",
   "execution_count": 17,
   "id": "e09e6547",
   "metadata": {},
   "outputs": [
    {
     "name": "stdout",
     "output_type": "stream",
     "text": [
      "(58355, 22)\n"
     ]
    }
   ],
   "source": [
    "# std across cells\n",
    "c0 = 1e-8\n",
    "expr_mat_stdC = np.zeros(expr_mat_sc.shape)\n",
    "for ig in range(expr_mat_sc.shape[1]):\n",
    "    expr_mat_stdC[:,ig] = (expr_mat_sc[:,ig]-np.mean(expr_mat_sc[:,ig]))/(np.std(expr_mat_sc[:,ig])+c0)\n",
    "print(expr_mat_stdC.shape)"
   ]
  },
  {
   "cell_type": "code",
   "execution_count": 18,
   "id": "0524e5c1",
   "metadata": {},
   "outputs": [
    {
     "name": "stdout",
     "output_type": "stream",
     "text": [
      "(58355, 22)\n"
     ]
    }
   ],
   "source": [
    "# std across genes\n",
    "expr_mat_stdC_stdG = np.zeros(expr_mat_stdC.shape)\n",
    "for ic in range(expr_mat.shape[0]):\n",
    "    expr_mat_stdC_stdG[ic,:] = (expr_mat_stdC[ic,:]-np.mean(expr_mat_stdC[ic,:]))/np.std(expr_mat_stdC[ic,:])\n",
    "print(expr_mat_stdC_stdG.shape)"
   ]
  },
  {
   "cell_type": "code",
   "execution_count": 19,
   "id": "517da6df",
   "metadata": {},
   "outputs": [
    {
     "name": "stdout",
     "output_type": "stream",
     "text": [
      "(58355, 5)\n"
     ]
    }
   ],
   "source": [
    "# sum for each of the 5 catergory (4 markers 1 else)\n",
    "expr_mat_cat5 = np.zeros((expr_mat_stdC_stdG.shape[0],5))\n",
    "\n",
    "# 6 EX markers\n",
    "expr_mat_cat5[:,0] = np.sum(expr_mat_stdC_stdG[:,idx_EX], axis=1)/len(idx_EX)\n",
    "# 3 IN markers\n",
    "expr_mat_cat5[:,1] = np.sum(expr_mat_stdC_stdG[:,idx_IN], axis=1)/len(idx_EX)\n",
    "# 5 Astr markers\n",
    "expr_mat_cat5[:,2] = np.sum(expr_mat_stdC_stdG[:,idx_Astr], axis=1)/len(idx_Astr)\n",
    "# 1 Oligo markers\n",
    "expr_mat_cat5[:,3] = np.sum(expr_mat_stdC_stdG[:,idx_Oligo], axis=1)/len(idx_Oligo)\n",
    "# 7 else\n",
    "expr_mat_cat5[:,4] = np.sum(expr_mat_stdC_stdG[:,idx_else], axis=1)/len(idx_else)\n",
    "\n",
    "print(expr_mat_cat5.shape)"
   ]
  },
  {
   "cell_type": "code",
   "execution_count": 20,
   "id": "248a4a69",
   "metadata": {},
   "outputs": [
    {
     "name": "stdout",
     "output_type": "stream",
     "text": [
      "Counter({'else': 14309, 'EX': 13725, 'Oligo': 12150, 'Astr': 11480, 'IN': 6691})\n",
      "58355\n"
     ]
    }
   ],
   "source": [
    "# argmax as initial cell type\n",
    "idx2type_dict = {0:'EX', 1:'IN', 2:'Astr', 3:'Oligo', 4:'else'}\n",
    "type_list_ = []\n",
    "for ic in range(expr_mat_cat5.shape[0]):\n",
    "    idx = np.argmax(expr_mat_cat5[ic,:])\n",
    "    type_list_.append(idx2type_dict[idx])\n",
    "print(Counter(type_list_))\n",
    "# Counter({'else': 14309, 'EX': 13725, 'Oligo': 12150, 'Astr': 11480, 'IN': 6691})\n",
    "type_list_ = np.array(type_list_)\n",
    "print(len(type_list_))\n",
    "# 58355"
   ]
  },
  {
   "cell_type": "code",
   "execution_count": 21,
   "id": "710feabb",
   "metadata": {},
   "outputs": [
    {
     "name": "stdout",
     "output_type": "stream",
     "text": [
      "11147\n",
      "Counter({'EX': 12736, 'less': 11147, 'else': 10269, 'Astr': 9772, 'Oligo': 9324, 'IN': 5107})\n",
      "58355\n"
     ]
    }
   ],
   "source": [
    "# for cells with less than 10 counts in marker22, change type to 'less'\n",
    "idx_less10 = np.sum(expr_mat, axis=1)<10\n",
    "print(np.sum(idx_less10))\n",
    "type_list = type_list_.copy()\n",
    "type_list[idx_less10] = 'less'\n",
    "print(Counter(type_list))\n",
    "print(len(type_list))"
   ]
  },
  {
   "cell_type": "code",
   "execution_count": 22,
   "id": "a82cb7c1",
   "metadata": {},
   "outputs": [
    {
     "name": "stdout",
     "output_type": "stream",
     "text": [
      "16720026 16720026 58355 58355\n"
     ]
    }
   ],
   "source": [
    "# add cell type to df\n",
    "data = crop_cell_df.cell.tolist()\n",
    "keys = cell_list\n",
    "vals = type_list\n",
    "memo = defaultdict(lambda: (0))\n",
    "for k, v in zip(keys, vals):\n",
    "    if k not in memo:\n",
    "        memo[k] = v\n",
    "    else:\n",
    "        raise ValueError('duplicated keys')\n",
    "\n",
    "res = np.array(list(map(lambda x: memo[x], data)))\n",
    "\n",
    "print(len(res), len(data), len(keys), len(vals))\n",
    "\n",
    "# append\n",
    "crop_cell_df['type'] = np.array(res)"
   ]
  },
  {
   "cell_type": "code",
   "execution_count": 25,
   "id": "f239afaa",
   "metadata": {},
   "outputs": [],
   "source": [
    "# save intermediate results\n",
    "outfile = 'output_step2/typed_new_merfish_data_dict.pkl'\n",
    "# save\n",
    "pickle_dict = {}\n",
    "pickle_dict['cell_mask_df'] = seg_df_com\n",
    "pickle_dict['data_df'] = crop_cell_df\n",
    "pickle_dict['centroid_df_com'] = centroid_df_com\n",
    "with open(outfile, 'wb') as f:\n",
    "    pickle.dump(pickle_dict, f)\n",
    "\n",
    "# load\n",
    "# with open(outfile, 'rb') as f:\n",
    "#     pickle_dict = pickle.load(f)\n",
    "# registered_dict = pickle_dict['df_registered']"
   ]
  },
  {
   "cell_type": "markdown",
   "id": "4af68ad5",
   "metadata": {},
   "source": [
    "#### quality control"
   ]
  },
  {
   "cell_type": "markdown",
   "id": "abefb43e",
   "metadata": {},
   "source": [
    "QC 1:\\\n",
    "cb at diff z should roughly agree\\\n",
    "using KL divergence of segs now\\\n",
    "can change to iou if want\n",
    "\n",
    "QC2:\\\n",
    "center should not be too close to boundary\\\n",
    "check on z=0 only\n",
    "\n",
    "didn't QC on cell size\\\n",
    "seems brain cells size can vary\\\n",
    "allow varing cell sizes"
   ]
  },
  {
   "cell_type": "markdown",
   "id": "64f15043",
   "metadata": {},
   "source": [
    "*QC 1*"
   ]
  },
  {
   "cell_type": "code",
   "execution_count": 23,
   "id": "32fd5ebb",
   "metadata": {},
   "outputs": [
    {
     "name": "stdout",
     "output_type": "stream",
     "text": [
      "58355\n",
      "36939\n"
     ]
    }
   ],
   "source": [
    "# cell list with valid type\n",
    "print(len(cell_list))\n",
    "cell_list_withtype = cell_list[\n",
    "    np.logical_or.reduce((type_list=='EX', \n",
    "                          type_list=='IN', \n",
    "                          type_list=='Astr', \n",
    "                          type_list=='Oligo'))\n",
    "]\n",
    "print(len(cell_list_withtype))"
   ]
  },
  {
   "cell_type": "code",
   "execution_count": 24,
   "id": "51a87752",
   "metadata": {},
   "outputs": [],
   "source": [
    "# seg with KLD at any z > this will be excluded\n",
    "# chose this bc step1 under section \"explore KL divergense of two segs\" \n",
    "# the cells in the plot\n",
    "KLD_thre = 0.5 #!!!<<<\n",
    "\n",
    "#!!!<<< number of x/y bins\n",
    "# 5 seems good\n",
    "D = 5 "
   ]
  },
  {
   "cell_type": "code",
   "execution_count": 25,
   "id": "cd754217",
   "metadata": {},
   "outputs": [
    {
     "name": "stdout",
     "output_type": "stream",
     "text": [
      "0.0\n",
      "0.1\n",
      "0.3\n",
      "0.4\n",
      "0.5\n",
      "0.7\n",
      "0.8\n",
      "0.9\n",
      "Time: 254.59678228758276\n",
      "36939\n",
      "32439\n"
     ]
    }
   ],
   "source": [
    "cell_list_KLD = []\n",
    "\n",
    "start = timeit.default_timer()\n",
    "\n",
    "Z = 5 # num of z panels\n",
    "for ic, c in enumerate(cell_list_withtype[:]):\n",
    "    if ic%5e3 == 0:\n",
    "        print(np.round(ic/len(cell_list_withtype),1))\n",
    "        \n",
    "    seg_df_c = seg_df_com[seg_df_com['Unnamed: 0']==c]\n",
    "    \n",
    "    # all bc x/y vals\n",
    "    cb_x_allz = np.empty([0])\n",
    "    cb_y_allz = np.empty([0])\n",
    "    for z in range(Z):\n",
    "        cb_x_str = seg_df_c['boundaryX_z'+str(z)].iloc[0]\n",
    "        cb_y_str = seg_df_c['boundaryY_z'+str(z)].iloc[0]\n",
    "        cb_x = np.fromstring(cb_x_str, sep=',')\n",
    "        cb_y = np.fromstring(cb_y_str, sep=',')\n",
    "        cb_x_allz = np.concatenate((cb_x_allz, cb_x))\n",
    "        cb_y_allz = np.concatenate((cb_y_allz, cb_y))\n",
    "    xmin_ = cb_x_allz.min() - c0\n",
    "    xmax_ = cb_x_allz.max() + c0\n",
    "    ymin_ = cb_y_allz.min() - c0\n",
    "    ymax_ = cb_y_allz.max() + c0\n",
    "\n",
    "    delta_x = (xmax_-xmin_)/D\n",
    "    delta_y = (ymax_-ymin_)/D\n",
    "    \n",
    "    # label of each bin\n",
    "    prob_x = {}\n",
    "    prob_y = {}\n",
    "    for z in range(Z):\n",
    "        cb_x_str = seg_df_c['boundaryX_z'+str(z)].iloc[0]\n",
    "        cb_y_str = seg_df_c['boundaryY_z'+str(z)].iloc[0]\n",
    "        cb_x = np.fromstring(cb_x_str, sep=',')\n",
    "        cb_y = np.fromstring(cb_y_str, sep=',')\n",
    "        lab_x = (cb_x-xmin_)//delta_x\n",
    "        lab_y = (cb_y-ymin_)//delta_y\n",
    "        count_x = np.zeros(D)\n",
    "        count_y = np.zeros(D)\n",
    "        arr_x = np.array(list(Counter(lab_x).items())).astype(int)\n",
    "        arr_y = np.array(list(Counter(lab_y).items())).astype(int)\n",
    "        count_x[arr_x[:,0]] = arr_x[:,1]\n",
    "        count_y[arr_y[:,0]] = arr_y[:,1]\n",
    "        prob_x[z] = count_x/np.sum(count_x)\n",
    "        prob_y[z] = count_y/np.sum(count_y)\n",
    "        \n",
    "        \n",
    "    # KL-d between z0 and others\n",
    "    kld_x = np.zeros(Z)\n",
    "    kld_y = np.zeros(Z)\n",
    "    for z in range(Z):\n",
    "        kld_x[z] = np.sum(prob_x[z]*np.log((prob_x[z]+c0)/(prob_x[0]+c0) + c0))\n",
    "        kld_y[z] = np.sum(prob_y[z]*np.log((prob_y[z]+c0)/(prob_y[0]+c0) + c0))\n",
    "        \n",
    "    if kld_x.max()<KLD_thre and kld_y.max()<KLD_thre:\n",
    "        cell_list_KLD.append(c)\n",
    "        \n",
    "stop = timeit.default_timer()\n",
    "print(f'Time: {stop - start}') \n",
    "\n",
    "print(len(cell_list_withtype))\n",
    "print(len(cell_list_KLD))\n",
    "\n",
    "# Time: 241.59815689409152\n",
    "# 36939\n",
    "# 32439"
   ]
  },
  {
   "cell_type": "markdown",
   "id": "aef96f65",
   "metadata": {},
   "source": [
    "*QC 2*"
   ]
  },
  {
   "cell_type": "code",
   "execution_count": 41,
   "id": "e80050bb",
   "metadata": {},
   "outputs": [],
   "source": [
    "# remove cells with center too close to cell boundary\n",
    "# keep cells if dmin/dmax > DR_thre\n",
    "DR_thre = 0.5"
   ]
  },
  {
   "cell_type": "code",
   "execution_count": 42,
   "id": "090cd8b0",
   "metadata": {},
   "outputs": [
    {
     "name": "stdout",
     "output_type": "stream",
     "text": [
      "0.0\n",
      "0.2\n",
      "0.3\n",
      "0.5\n",
      "0.6\n",
      "0.8\n",
      "0.9\n",
      "Time: 331.8782531078905\n",
      "32439\n",
      "26068\n"
     ]
    }
   ],
   "source": [
    "cell_list_KLD_DR = []\n",
    "z = 0 # only look at z=0 panel\n",
    "\n",
    "start = timeit.default_timer()\n",
    "\n",
    "for ic, c in enumerate(cell_list_KLD[:]):\n",
    "    if ic%5e3 == 0:\n",
    "        print(np.round(ic/len(cell_list_KLD), 1))\n",
    "        \n",
    "    seg_df_c = seg_df_com[seg_df_com['Unnamed: 0']==c]\n",
    "    \n",
    "    # all bc at z=0\n",
    "    cb_x_str = seg_df_c['boundaryX_z'+str(z)].iloc[0]\n",
    "    cb_y_str = seg_df_c['boundaryY_z'+str(z)].iloc[0]\n",
    "    cb_x = np.fromstring(cb_x_str, sep=',')\n",
    "    cb_y = np.fromstring(cb_y_str, sep=',')\n",
    "    \n",
    "    # center\n",
    "    cx = centroid_df_com[centroid_df_com.index==c].center_x.iloc[0]\n",
    "    cy = centroid_df_com[centroid_df_com.index==c].center_y.iloc[0]\n",
    "\n",
    "    # cb dist to center\n",
    "    d = ((cb_x - cx)**2 + (cb_y - cy)**2)**(1/2)\n",
    "    r = d.min()/d.max()\n",
    "    \n",
    "    # keep cells with ratio > DR_thre\n",
    "    if r > DR_thre:\n",
    "        cell_list_KLD_DR.append(c)\n",
    "        \n",
    "stop = timeit.default_timer()\n",
    "print(f'Time: {stop - start}') \n",
    "\n",
    "print(len(cell_list_KLD))\n",
    "print(len(cell_list_KLD_DR))\n",
    "\n",
    "# Time: 289.10265821171924\n",
    "# 32439\n",
    "# 26068"
   ]
  },
  {
   "cell_type": "code",
   "execution_count": 56,
   "id": "7c4acb1d",
   "metadata": {},
   "outputs": [],
   "source": [
    "crop_cell_df_QC = crop_cell_df[crop_cell_df.cell.isin(cell_list_KLD_DR)]"
   ]
  },
  {
   "cell_type": "markdown",
   "id": "7e73bef6",
   "metadata": {},
   "source": [
    "#### gene/cell lists"
   ]
  },
  {
   "cell_type": "code",
   "execution_count": 44,
   "id": "ce6a594a",
   "metadata": {},
   "outputs": [],
   "source": [
    "crop_cell_df_QC['umi'] = 1"
   ]
  },
  {
   "cell_type": "code",
   "execution_count": 45,
   "id": "b373b6b7",
   "metadata": {},
   "outputs": [
    {
     "name": "stdout",
     "output_type": "stream",
     "text": [
      "0\n",
      "0\n",
      "['EX' 'IN' 'Astr' 'Oligo']\n"
     ]
    }
   ],
   "source": [
    "print(np.sum(crop_cell_df_QC.cell=='0'))\n",
    "print(np.sum(np.isnan(crop_cell_df_QC.centerX)))\n",
    "print(crop_cell_df_QC.type.unique())"
   ]
  },
  {
   "cell_type": "code",
   "execution_count": 46,
   "id": "906a66da",
   "metadata": {},
   "outputs": [],
   "source": [
    "data_df = crop_cell_df_QC"
   ]
  },
  {
   "cell_type": "code",
   "execution_count": 47,
   "id": "a6d22dcd",
   "metadata": {},
   "outputs": [
    {
     "data": {
      "text/html": [
       "<div>\n",
       "<style scoped>\n",
       "    .dataframe tbody tr th:only-of-type {\n",
       "        vertical-align: middle;\n",
       "    }\n",
       "\n",
       "    .dataframe tbody tr th {\n",
       "        vertical-align: top;\n",
       "    }\n",
       "\n",
       "    .dataframe thead th {\n",
       "        text-align: right;\n",
       "    }\n",
       "</style>\n",
       "<table border=\"1\" class=\"dataframe\">\n",
       "  <thead>\n",
       "    <tr style=\"text-align: right;\">\n",
       "      <th></th>\n",
       "      <th>barcode_id</th>\n",
       "      <th>x</th>\n",
       "      <th>y</th>\n",
       "      <th>z</th>\n",
       "      <th>_x</th>\n",
       "      <th>_y</th>\n",
       "      <th>fov</th>\n",
       "      <th>gene</th>\n",
       "      <th>cell</th>\n",
       "      <th>centerX</th>\n",
       "      <th>centerY</th>\n",
       "      <th>sc_total</th>\n",
       "      <th>type</th>\n",
       "      <th>umi</th>\n",
       "    </tr>\n",
       "  </thead>\n",
       "  <tbody>\n",
       "    <tr>\n",
       "      <th>1709435</th>\n",
       "      <td>13</td>\n",
       "      <td>4744.9375</td>\n",
       "      <td>-460.26490</td>\n",
       "      <td>0.0</td>\n",
       "      <td>305.02190</td>\n",
       "      <td>1553.6246</td>\n",
       "      <td>39</td>\n",
       "      <td>Lamp5</td>\n",
       "      <td>100053190361369505905550305146712371108</td>\n",
       "      <td>4752.94644</td>\n",
       "      <td>-463.275989</td>\n",
       "      <td>746</td>\n",
       "      <td>EX</td>\n",
       "      <td>1</td>\n",
       "    </tr>\n",
       "    <tr>\n",
       "      <th>1709436</th>\n",
       "      <td>13</td>\n",
       "      <td>4751.4930</td>\n",
       "      <td>-460.17047</td>\n",
       "      <td>0.0</td>\n",
       "      <td>365.16663</td>\n",
       "      <td>1554.4910</td>\n",
       "      <td>39</td>\n",
       "      <td>Lamp5</td>\n",
       "      <td>100053190361369505905550305146712371108</td>\n",
       "      <td>4752.94644</td>\n",
       "      <td>-463.275989</td>\n",
       "      <td>746</td>\n",
       "      <td>EX</td>\n",
       "      <td>1</td>\n",
       "    </tr>\n",
       "  </tbody>\n",
       "</table>\n",
       "</div>"
      ],
      "text/plain": [
       "         barcode_id          x          y    z         _x         _y  fov  \\\n",
       "1709435          13  4744.9375 -460.26490  0.0  305.02190  1553.6246   39   \n",
       "1709436          13  4751.4930 -460.17047  0.0  365.16663  1554.4910   39   \n",
       "\n",
       "          gene                                     cell     centerX  \\\n",
       "1709435  Lamp5  100053190361369505905550305146712371108  4752.94644   \n",
       "1709436  Lamp5  100053190361369505905550305146712371108  4752.94644   \n",
       "\n",
       "            centerY  sc_total type  umi  \n",
       "1709435 -463.275989       746   EX    1  \n",
       "1709436 -463.275989       746   EX    1  "
      ]
     },
     "execution_count": 47,
     "metadata": {},
     "output_type": "execute_result"
    }
   ],
   "source": [
    "data_df.head(2)"
   ]
  },
  {
   "cell_type": "code",
   "execution_count": 48,
   "id": "8260eda7",
   "metadata": {},
   "outputs": [],
   "source": [
    "type_list = ['EX', 'IN', 'Astr', 'Oligo']"
   ]
  },
  {
   "cell_type": "code",
   "execution_count": 49,
   "id": "9eba131d",
   "metadata": {},
   "outputs": [],
   "source": [
    "# filtering params\n",
    "# 1. min #cells available for a gene\n",
    "nc_avl_min = 200\n",
    "# 2. >=`nc_expr_thre` number of cells with gene counts>=`expr_thre`\n",
    "expr_thre = 3\n",
    "nc_expr_thre = 5\n",
    "# 3. sort the genes and get the dataframe"
   ]
  },
  {
   "cell_type": "code",
   "execution_count": 50,
   "id": "15f40dcc",
   "metadata": {},
   "outputs": [
    {
     "name": "stdout",
     "output_type": "stream",
     "text": [
      "type EX #genes=1031\n",
      "type IN #genes=738\n",
      "type Astr #genes=660\n",
      "type Oligo #genes=656\n"
     ]
    }
   ],
   "source": [
    "# 1. nc_avl_min\n",
    "gene_list_dict1 = {}\n",
    "df_dict1 = {}\n",
    "for t in type_list:\n",
    "    df_t = data_df[data_df.type==t]\n",
    "    nc_avl_t = df_t.groupby('gene')['cell'].nunique()\n",
    "    nc_avl_t_filtered = nc_avl_t[nc_avl_t>=nc_avl_min]\n",
    "    gene_list_dict1[t] = nc_avl_t_filtered.index.to_numpy()\n",
    "    df_dict1[t] = df_t[df_t.gene.isin(gene_list_dict1[t])]\n",
    "    print(f'type {t} #genes={len(gene_list_dict1[t])}')"
   ]
  },
  {
   "cell_type": "code",
   "execution_count": 51,
   "id": "4943607d",
   "metadata": {},
   "outputs": [
    {
     "name": "stdout",
     "output_type": "stream",
     "text": [
      "type EX #genes=799\n",
      "type IN #genes=682\n",
      "type Astr #genes=597\n",
      "type Oligo #genes=561\n"
     ]
    }
   ],
   "source": [
    "# 2. nc_expr_thre and expr_thre\n",
    "gene_list_dict2 = {}\n",
    "for t in type_list:\n",
    "    df_t = df_dict1[t]\n",
    "    df_t_gbG = df_t.groupby('gene')\n",
    "    gl_t = []\n",
    "    for g in gene_list_dict1[t][:]:\n",
    "        df_t_g = df_t_gbG.get_group(g)\n",
    "        sc_umi_g = df_t_g.groupby('cell')['umi'].sum()\n",
    "        if np.sum(sc_umi_g>=expr_thre)>=nc_expr_thre:\n",
    "            gl_t.append(g)\n",
    "    gene_list_dict2[t] = np.array(gl_t)\n",
    "    print(f'type {t} #genes={len(gl_t)}')"
   ]
  },
  {
   "cell_type": "code",
   "execution_count": 52,
   "id": "a2f61dff",
   "metadata": {},
   "outputs": [],
   "source": [
    "# 3. get the df and sort the genes\n",
    "gene_list_dict3 = {}\n",
    "cell_list_dict3 = {}\n",
    "df_dict3 = {}\n",
    "for t in type_list:\n",
    "    gl_t2 = gene_list_dict2[t]\n",
    "    df_t = data_df[data_df.type==t]\n",
    "    df_t3 = df_t[df_t.gene.isin(gl_t2)]\n",
    "    gl_t3 = df_t3.groupby('gene')['umi'].sum().sort_values(ascending=False).index.to_numpy()\n",
    "    gene_list_dict3[t] = gl_t3\n",
    "    df_dict3[t] = df_t3\n",
    "    cell_list_dict3[t] = df_t3.cell.unique().tolist()"
   ]
  },
  {
   "cell_type": "code",
   "execution_count": 53,
   "id": "f119efb3",
   "metadata": {},
   "outputs": [],
   "source": [
    "data_df = pd.concat(list(df_dict3.values()))\n",
    "gene_list_dict = gene_list_dict3\n",
    "cell_list_dict = cell_list_dict3\n",
    "cell_list_all = [item for sublist in list(cell_list_dict.values()) for item in sublist]"
   ]
  },
  {
   "cell_type": "code",
   "execution_count": 54,
   "id": "1edb3358",
   "metadata": {},
   "outputs": [
    {
     "name": "stdout",
     "output_type": "stream",
     "text": [
      "total #cells 26068\n",
      "EX #genes 799 #cells 8930\n",
      "IN #genes 682 #cells 3700\n",
      "Astr #genes 597 #cells 6493\n",
      "Oligo #genes 561 #cells 6945\n"
     ]
    }
   ],
   "source": [
    "print(f'total #cells {len(cell_list_all)}')\n",
    "for t in type_list:\n",
    "    print(f'{t} #genes {len(gene_list_dict[t])} #cells {len(cell_list_dict[t])}')"
   ]
  },
  {
   "cell_type": "code",
   "execution_count": 55,
   "id": "11badb52",
   "metadata": {},
   "outputs": [
    {
     "name": "stdout",
     "output_type": "stream",
     "text": [
      "0th gene #cells avl 8371\n",
      "10th gene #cells avl 2873\n",
      "100th gene #cells avl 4834\n",
      "200th gene #cells avl 1913\n",
      "500th gene #cells avl 969\n",
      "798th gene #cells avl 207\n"
     ]
    }
   ],
   "source": [
    "# check the number of cells avl for a few genes\n",
    "t = 'EX'\n",
    "igl = [0, 10, 100, 200, 500, 798]\n",
    "for ig in igl:\n",
    "    g = gene_list_dict[t][ig]\n",
    "    df_g = data_df[(data_df.type==t)&(data_df.gene==g)]\n",
    "    print(f'{ig}th gene #cells avl {df_g.cell.nunique()}')"
   ]
  },
  {
   "cell_type": "markdown",
   "id": "75d48407",
   "metadata": {},
   "source": [
    "#### prepare cell masks/boundaries"
   ]
  },
  {
   "cell_type": "code",
   "execution_count": 140,
   "id": "08a35754",
   "metadata": {},
   "outputs": [
    {
     "data": {
      "text/html": [
       "<div>\n",
       "<style scoped>\n",
       "    .dataframe tbody tr th:only-of-type {\n",
       "        vertical-align: middle;\n",
       "    }\n",
       "\n",
       "    .dataframe tbody tr th {\n",
       "        vertical-align: top;\n",
       "    }\n",
       "\n",
       "    .dataframe thead th {\n",
       "        text-align: right;\n",
       "    }\n",
       "</style>\n",
       "<table border=\"1\" class=\"dataframe\">\n",
       "  <thead>\n",
       "    <tr style=\"text-align: right;\">\n",
       "      <th></th>\n",
       "      <th>Unnamed: 0</th>\n",
       "      <th>boundaryX_z0</th>\n",
       "      <th>boundaryY_z0</th>\n",
       "      <th>boundaryX_z1</th>\n",
       "      <th>boundaryY_z1</th>\n",
       "      <th>boundaryX_z2</th>\n",
       "      <th>boundaryY_z2</th>\n",
       "      <th>boundaryX_z3</th>\n",
       "      <th>boundaryY_z3</th>\n",
       "      <th>boundaryX_z4</th>\n",
       "      <th>boundaryY_z4</th>\n",
       "    </tr>\n",
       "  </thead>\n",
       "  <tbody>\n",
       "    <tr>\n",
       "      <th>0</th>\n",
       "      <td>4195605887788691952135636853561851</td>\n",
       "      <td>3250.893838056922, 3250.893838056922, 3250.893...</td>\n",
       "      <td>2744.462888389826, 2744.3538883924484, 2744.24...</td>\n",
       "      <td>3247.6238381356, 3247.6238381356, 3247.6238381...</td>\n",
       "      <td>2747.4058883190155, 2747.296888321638, 2747.18...</td>\n",
       "      <td>3246.8608381539584, 3246.8608381539584, 3246.8...</td>\n",
       "      <td>2747.7328883111477, 2747.6238883137703, 2747.5...</td>\n",
       "      <td>3246.8608381539584, 3246.8608381539584, 3246.8...</td>\n",
       "      <td>2747.4058883190155, 2747.296888321638, 2747.18...</td>\n",
       "      <td>3250.56683806479, 3250.56683806479, 3250.56683...</td>\n",
       "      <td>2743.0458884239197, 2742.9368884265423, 2742.8...</td>\n",
       "    </tr>\n",
       "    <tr>\n",
       "      <th>1</th>\n",
       "      <td>5780261735764654093526972708487477</td>\n",
       "      <td>-7246.938868483901, -7246.938868483901, -7246....</td>\n",
       "      <td>-1168.5700405836105, -1168.679040580988, -1168...</td>\n",
       "      <td>-7247.592868468166, -7247.592868468166, -7247....</td>\n",
       "      <td>-1172.6030404865742, -1172.7120404839516, -117...</td>\n",
       "      <td>-7249.772868415714, -7249.772868415714, -7249....</td>\n",
       "      <td>-1166.3900406360626, -1166.49904063344, -1166....</td>\n",
       "      <td>-7249.4458684235815, -7249.4458684235815, -724...</td>\n",
       "      <td>-1166.3900406360626, -1166.49904063344, -1166....</td>\n",
       "      <td>-7249.118868431449, -7249.118868431449, -7249....</td>\n",
       "      <td>-1166.0630406439304, -1166.1720406413078, -116...</td>\n",
       "    </tr>\n",
       "  </tbody>\n",
       "</table>\n",
       "</div>"
      ],
      "text/plain": [
       "                           Unnamed: 0  \\\n",
       "0  4195605887788691952135636853561851   \n",
       "1  5780261735764654093526972708487477   \n",
       "\n",
       "                                        boundaryX_z0  \\\n",
       "0  3250.893838056922, 3250.893838056922, 3250.893...   \n",
       "1  -7246.938868483901, -7246.938868483901, -7246....   \n",
       "\n",
       "                                        boundaryY_z0  \\\n",
       "0  2744.462888389826, 2744.3538883924484, 2744.24...   \n",
       "1  -1168.5700405836105, -1168.679040580988, -1168...   \n",
       "\n",
       "                                        boundaryX_z1  \\\n",
       "0  3247.6238381356, 3247.6238381356, 3247.6238381...   \n",
       "1  -7247.592868468166, -7247.592868468166, -7247....   \n",
       "\n",
       "                                        boundaryY_z1  \\\n",
       "0  2747.4058883190155, 2747.296888321638, 2747.18...   \n",
       "1  -1172.6030404865742, -1172.7120404839516, -117...   \n",
       "\n",
       "                                        boundaryX_z2  \\\n",
       "0  3246.8608381539584, 3246.8608381539584, 3246.8...   \n",
       "1  -7249.772868415714, -7249.772868415714, -7249....   \n",
       "\n",
       "                                        boundaryY_z2  \\\n",
       "0  2747.7328883111477, 2747.6238883137703, 2747.5...   \n",
       "1  -1166.3900406360626, -1166.49904063344, -1166....   \n",
       "\n",
       "                                        boundaryX_z3  \\\n",
       "0  3246.8608381539584, 3246.8608381539584, 3246.8...   \n",
       "1  -7249.4458684235815, -7249.4458684235815, -724...   \n",
       "\n",
       "                                        boundaryY_z3  \\\n",
       "0  2747.4058883190155, 2747.296888321638, 2747.18...   \n",
       "1  -1166.3900406360626, -1166.49904063344, -1166....   \n",
       "\n",
       "                                        boundaryX_z4  \\\n",
       "0  3250.56683806479, 3250.56683806479, 3250.56683...   \n",
       "1  -7249.118868431449, -7249.118868431449, -7249....   \n",
       "\n",
       "                                        boundaryY_z4  \n",
       "0  2743.0458884239197, 2742.9368884265423, 2742.8...  \n",
       "1  -1166.0630406439304, -1166.1720406413078, -116...  "
      ]
     },
     "execution_count": 140,
     "metadata": {},
     "output_type": "execute_result"
    }
   ],
   "source": [
    "seg_df_com.head(2)"
   ]
  },
  {
   "cell_type": "code",
   "execution_count": 141,
   "id": "b3498bef",
   "metadata": {},
   "outputs": [
    {
     "name": "stdout",
     "output_type": "stream",
     "text": [
      "Time:  175.61210712324828\n"
     ]
    }
   ],
   "source": [
    "start = timeit.default_timer()\n",
    "\n",
    "Z = 5\n",
    "cb_dict = {}\n",
    "\n",
    "for ic, c in enumerate(cell_list_all):\n",
    "    seg_c = seg_df_com[seg_df_com['Unnamed: 0']==c]\n",
    "    for z in range(Z):\n",
    "        cb_z_c_x = seg_c['boundaryX_z'+str(z)].iloc[0]\n",
    "        cb_z_c_y = seg_c['boundaryY_z'+str(z)].iloc[0]\n",
    "        cb_x = np.fromstring(cb_z_c_x, sep=',')\n",
    "        cb_y = np.fromstring(cb_z_c_y, sep=',')\n",
    "        cb_df_c = pd.DataFrame({'x': cb_x, 'y': cb_y})\n",
    "        cb_df_c['cell'] = c\n",
    "        cb_df_c['z'] = z\n",
    "        cb_dict[f'{c}_z{z}'] = cb_df_c\n",
    "\n",
    "stop = timeit.default_timer()\n",
    "print('Time: ', stop - start)\n",
    "\n",
    "# concatenate all cell_masks_dict to one df\n",
    "cb_df = pd.concat(list(cb_dict.values()))\n",
    "\n",
    "# Time:  175.61210712324828"
   ]
  },
  {
   "cell_type": "code",
   "execution_count": 143,
   "id": "e49e53ca",
   "metadata": {},
   "outputs": [
    {
     "name": "stdout",
     "output_type": "stream",
     "text": [
      "26068\n",
      "26068\n"
     ]
    }
   ],
   "source": [
    "print(cb_df.cell.nunique())\n",
    "print(len(cell_list_all))"
   ]
  },
  {
   "cell_type": "code",
   "execution_count": 142,
   "id": "422f5929",
   "metadata": {},
   "outputs": [
    {
     "data": {
      "text/html": [
       "<div>\n",
       "<style scoped>\n",
       "    .dataframe tbody tr th:only-of-type {\n",
       "        vertical-align: middle;\n",
       "    }\n",
       "\n",
       "    .dataframe tbody tr th {\n",
       "        vertical-align: top;\n",
       "    }\n",
       "\n",
       "    .dataframe thead th {\n",
       "        text-align: right;\n",
       "    }\n",
       "</style>\n",
       "<table border=\"1\" class=\"dataframe\">\n",
       "  <thead>\n",
       "    <tr style=\"text-align: right;\">\n",
       "      <th></th>\n",
       "      <th>x</th>\n",
       "      <th>y</th>\n",
       "      <th>cell</th>\n",
       "      <th>z</th>\n",
       "    </tr>\n",
       "  </thead>\n",
       "  <tbody>\n",
       "    <tr>\n",
       "      <th>0</th>\n",
       "      <td>4763.58484</td>\n",
       "      <td>-461.640989</td>\n",
       "      <td>100053190361369505905550305146712371108</td>\n",
       "      <td>0</td>\n",
       "    </tr>\n",
       "    <tr>\n",
       "      <th>1</th>\n",
       "      <td>4763.58484</td>\n",
       "      <td>-461.749989</td>\n",
       "      <td>100053190361369505905550305146712371108</td>\n",
       "      <td>0</td>\n",
       "    </tr>\n",
       "  </tbody>\n",
       "</table>\n",
       "</div>"
      ],
      "text/plain": [
       "            x           y                                     cell  z\n",
       "0  4763.58484 -461.640989  100053190361369505905550305146712371108  0\n",
       "1  4763.58484 -461.749989  100053190361369505905550305146712371108  0"
      ]
     },
     "execution_count": 142,
     "metadata": {},
     "output_type": "execute_result"
    }
   ],
   "source": [
    "cb_df.head(2)"
   ]
  },
  {
   "cell_type": "markdown",
   "id": "185c7609",
   "metadata": {},
   "source": [
    "#### save prepared data"
   ]
  },
  {
   "cell_type": "code",
   "execution_count": 145,
   "id": "4944bf10",
   "metadata": {},
   "outputs": [],
   "source": [
    "outfile = 'output_step2/merfish_data_dict.pkl'\n",
    "# save\n",
    "pickle_dict = {}\n",
    "pickle_dict['type_list'] = type_list\n",
    "pickle_dict['gene_list_dict'] = gene_list_dict\n",
    "pickle_dict['cell_list_dict'] = cell_list_dict\n",
    "pickle_dict['cell_list_all'] = cell_list_all\n",
    "pickle_dict['cell_mask_df'] = cb_df #!!!\n",
    "pickle_dict['data_df'] = data_df\n",
    "with open(outfile, 'wb') as f:\n",
    "    pickle.dump(pickle_dict, f)\n",
    "\n",
    "# load\n",
    "# with open(outfile, 'rb') as f:\n",
    "#     pickle_dict = pickle.load(f)\n",
    "# registered_dict = pickle_dict['df_registered']"
   ]
  },
  {
   "cell_type": "code",
   "execution_count": null,
   "id": "b76424f6",
   "metadata": {},
   "outputs": [],
   "source": []
  }
 ],
 "metadata": {
  "kernelspec": {
   "display_name": "Python 3 (ipykernel)",
   "language": "python",
   "name": "python3"
  },
  "language_info": {
   "codemirror_mode": {
    "name": "ipython",
    "version": 3
   },
   "file_extension": ".py",
   "mimetype": "text/x-python",
   "name": "python",
   "nbconvert_exporter": "python",
   "pygments_lexer": "ipython3",
   "version": "3.10.4"
  }
 },
 "nbformat": 4,
 "nbformat_minor": 5
}
