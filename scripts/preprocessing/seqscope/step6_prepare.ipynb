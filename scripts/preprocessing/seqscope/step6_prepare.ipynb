{
 "cells": [
  {
   "cell_type": "markdown",
   "id": "071b4b85",
   "metadata": {},
   "source": [
    "### Step6: prepare data as pickled dict for ELLA analysis"
   ]
  },
  {
   "cell_type": "code",
   "execution_count": 1,
   "id": "9b30d555",
   "metadata": {},
   "outputs": [
    {
     "name": "stderr",
     "output_type": "stream",
     "text": [
      "/net/mulan/home/jadewang/tools/miniconda3/envs/torch/lib/python3.10/site-packages/scipy/__init__.py:146: UserWarning: A NumPy version >=1.16.5 and <1.23.0 is required for this version of SciPy (detected version 1.25.2\n",
      "  warnings.warn(f\"A NumPy version >={np_minversion} and <{np_maxversion}\"\n"
     ]
    }
   ],
   "source": [
    "import numpy as np\n",
    "import pandas as pd\n",
    "import anndata\n",
    "import matplotlib.pyplot as plt\n",
    "import cv2\n",
    "from sklearn.cluster import KMeans\n",
    "import pickle\n",
    "import timeit"
   ]
  },
  {
   "cell_type": "markdown",
   "id": "6b5330e4",
   "metadata": {},
   "source": [
    "#### Load data"
   ]
  },
  {
   "cell_type": "code",
   "execution_count": 5,
   "id": "6532905b",
   "metadata": {},
   "outputs": [
    {
     "data": {
      "text/html": [
       "<div>\n",
       "<style scoped>\n",
       "    .dataframe tbody tr th:only-of-type {\n",
       "        vertical-align: middle;\n",
       "    }\n",
       "\n",
       "    .dataframe tbody tr th {\n",
       "        vertical-align: top;\n",
       "    }\n",
       "\n",
       "    .dataframe thead th {\n",
       "        text-align: right;\n",
       "    }\n",
       "</style>\n",
       "<table border=\"1\" class=\"dataframe\">\n",
       "  <thead>\n",
       "    <tr style=\"text-align: right;\">\n",
       "      <th></th>\n",
       "      <th>geneID</th>\n",
       "      <th>tile</th>\n",
       "      <th>x</th>\n",
       "      <th>y</th>\n",
       "      <th>umi</th>\n",
       "      <th>cell</th>\n",
       "      <th>centerX</th>\n",
       "      <th>centerY</th>\n",
       "      <th>sc_total</th>\n",
       "      <th>sc_xmin</th>\n",
       "      <th>...</th>\n",
       "      <th>sc_xrange</th>\n",
       "      <th>sc_ymin</th>\n",
       "      <th>sc_ymax</th>\n",
       "      <th>sc_yrange</th>\n",
       "      <th>sc_umi</th>\n",
       "      <th>sc_umi_npc</th>\n",
       "      <th>sc_umi_pc</th>\n",
       "      <th>sc_umi_pp</th>\n",
       "      <th>tile_cell</th>\n",
       "      <th>type</th>\n",
       "    </tr>\n",
       "  </thead>\n",
       "  <tbody>\n",
       "    <tr>\n",
       "      <th>157</th>\n",
       "      <td>Xkr4</td>\n",
       "      <td>2102</td>\n",
       "      <td>17721</td>\n",
       "      <td>19908</td>\n",
       "      <td>1</td>\n",
       "      <td>1720</td>\n",
       "      <td>17777</td>\n",
       "      <td>19511</td>\n",
       "      <td>2865</td>\n",
       "      <td>17328</td>\n",
       "      <td>...</td>\n",
       "      <td>809</td>\n",
       "      <td>19170</td>\n",
       "      <td>20021</td>\n",
       "      <td>851</td>\n",
       "      <td>1</td>\n",
       "      <td>5</td>\n",
       "      <td>16</td>\n",
       "      <td>203</td>\n",
       "      <td>2102_1720</td>\n",
       "      <td>-1</td>\n",
       "    </tr>\n",
       "    <tr>\n",
       "      <th>315</th>\n",
       "      <td>Xkr4</td>\n",
       "      <td>2102</td>\n",
       "      <td>16686</td>\n",
       "      <td>2244</td>\n",
       "      <td>1</td>\n",
       "      <td>1842</td>\n",
       "      <td>16808</td>\n",
       "      <td>2311</td>\n",
       "      <td>1226</td>\n",
       "      <td>16361</td>\n",
       "      <td>...</td>\n",
       "      <td>813</td>\n",
       "      <td>2100</td>\n",
       "      <td>2718</td>\n",
       "      <td>618</td>\n",
       "      <td>1</td>\n",
       "      <td>5</td>\n",
       "      <td>5</td>\n",
       "      <td>47</td>\n",
       "      <td>2102_1842</td>\n",
       "      <td>1</td>\n",
       "    </tr>\n",
       "    <tr>\n",
       "      <th>360</th>\n",
       "      <td>Xkr4</td>\n",
       "      <td>2102</td>\n",
       "      <td>18927</td>\n",
       "      <td>20667</td>\n",
       "      <td>1</td>\n",
       "      <td>1553</td>\n",
       "      <td>18932</td>\n",
       "      <td>20230</td>\n",
       "      <td>5703</td>\n",
       "      <td>18625</td>\n",
       "      <td>...</td>\n",
       "      <td>710</td>\n",
       "      <td>19840</td>\n",
       "      <td>20696</td>\n",
       "      <td>856</td>\n",
       "      <td>1</td>\n",
       "      <td>24</td>\n",
       "      <td>77</td>\n",
       "      <td>533</td>\n",
       "      <td>2102_1553</td>\n",
       "      <td>1</td>\n",
       "    </tr>\n",
       "    <tr>\n",
       "      <th>631</th>\n",
       "      <td>Xkr4</td>\n",
       "      <td>2102</td>\n",
       "      <td>19007</td>\n",
       "      <td>11672</td>\n",
       "      <td>1</td>\n",
       "      <td>1504</td>\n",
       "      <td>19294</td>\n",
       "      <td>11744</td>\n",
       "      <td>5016</td>\n",
       "      <td>18929</td>\n",
       "      <td>...</td>\n",
       "      <td>747</td>\n",
       "      <td>11340</td>\n",
       "      <td>12299</td>\n",
       "      <td>959</td>\n",
       "      <td>1</td>\n",
       "      <td>24</td>\n",
       "      <td>44</td>\n",
       "      <td>357</td>\n",
       "      <td>2102_1504</td>\n",
       "      <td>1</td>\n",
       "    </tr>\n",
       "    <tr>\n",
       "      <th>866</th>\n",
       "      <td>Xkr4</td>\n",
       "      <td>2102</td>\n",
       "      <td>21559</td>\n",
       "      <td>12652</td>\n",
       "      <td>1</td>\n",
       "      <td>1207</td>\n",
       "      <td>21496</td>\n",
       "      <td>12998</td>\n",
       "      <td>3848</td>\n",
       "      <td>21034</td>\n",
       "      <td>...</td>\n",
       "      <td>868</td>\n",
       "      <td>12611</td>\n",
       "      <td>13683</td>\n",
       "      <td>1072</td>\n",
       "      <td>1</td>\n",
       "      <td>8</td>\n",
       "      <td>21</td>\n",
       "      <td>262</td>\n",
       "      <td>2102_1207</td>\n",
       "      <td>-1</td>\n",
       "    </tr>\n",
       "  </tbody>\n",
       "</table>\n",
       "<p>5 rows × 21 columns</p>\n",
       "</div>"
      ],
      "text/plain": [
       "    geneID  tile      x      y  umi  cell  centerX  centerY  sc_total  \\\n",
       "157   Xkr4  2102  17721  19908    1  1720    17777    19511      2865   \n",
       "315   Xkr4  2102  16686   2244    1  1842    16808     2311      1226   \n",
       "360   Xkr4  2102  18927  20667    1  1553    18932    20230      5703   \n",
       "631   Xkr4  2102  19007  11672    1  1504    19294    11744      5016   \n",
       "866   Xkr4  2102  21559  12652    1  1207    21496    12998      3848   \n",
       "\n",
       "     sc_xmin  ...  sc_xrange  sc_ymin  sc_ymax  sc_yrange  sc_umi sc_umi_npc  \\\n",
       "157    17328  ...        809    19170    20021        851       1          5   \n",
       "315    16361  ...        813     2100     2718        618       1          5   \n",
       "360    18625  ...        710    19840    20696        856       1         24   \n",
       "631    18929  ...        747    11340    12299        959       1         24   \n",
       "866    21034  ...        868    12611    13683       1072       1          8   \n",
       "\n",
       "     sc_umi_pc  sc_umi_pp  tile_cell type  \n",
       "157         16        203  2102_1720   -1  \n",
       "315          5         47  2102_1842    1  \n",
       "360         77        533  2102_1553    1  \n",
       "631         44        357  2102_1504    1  \n",
       "866         21        262  2102_1207   -1  \n",
       "\n",
       "[5 rows x 21 columns]"
      ]
     },
     "execution_count": 5,
     "metadata": {},
     "output_type": "execute_result"
    }
   ],
   "source": [
    "##### read processed gene expression data (from step5)\n",
    "outfile = 'output_step5/seqscope_df_dict.pkl'\n",
    "# load\n",
    "with open(outfile, 'rb') as f:\n",
    "    pickle_dict = pickle.load(f)\n",
    "df = pickle_dict['df']\n",
    "\n",
    "df.head()"
   ]
  },
  {
   "cell_type": "code",
   "execution_count": 3,
   "id": "e797bf17",
   "metadata": {},
   "outputs": [
    {
     "name": "stdout",
     "output_type": "stream",
     "text": [
      "2102\n",
      "2103\n",
      "2104\n",
      "2105\n",
      "2106\n",
      "2107\n",
      "2116\n",
      "2117\n",
      "2118\n",
      "2119\n",
      "dict_keys(['mask2102', 'mask2103', 'mask2104', 'mask2105', 'mask2106', 'mask2107', 'mask2116', 'mask2117', 'mask2118', 'mask2119'])\n",
      "Time:  475.04225773969665\n"
     ]
    }
   ],
   "source": [
    "##### load masks for all tiles (from step3)\n",
    "tileList = [2102, 2103, 2104, 2105, 2106, 2107, 2116, 2117, 2118, 2119]\n",
    "masks_dict = {}\n",
    "\n",
    "start = timeit.default_timer()\n",
    "\n",
    "for t in tileList:\n",
    "    print(t)\n",
    "    outfile = 'output_step3/masks_4X_tile'+str(t)+'_dict.pkl'\n",
    "    # load\n",
    "    with open(outfile, 'rb') as f:\n",
    "        pickle_dict = pickle.load(f)\n",
    "    masks_t = pickle_dict['mask'+str(t)]\n",
    "    # add\n",
    "    masks_dict['mask'+str(t)] = masks_t\n",
    "print(masks_dict.keys())\n",
    "\n",
    "stop = timeit.default_timer()\n",
    "print('Time: ', stop - start) # ~481s"
   ]
  },
  {
   "cell_type": "markdown",
   "id": "06140475",
   "metadata": {},
   "source": [
    "#### Prepare df \n",
    "gene expression data"
   ]
  },
  {
   "cell_type": "code",
   "execution_count": 6,
   "id": "a320cdb9",
   "metadata": {},
   "outputs": [
    {
     "name": "stdout",
     "output_type": "stream",
     "text": [
      "df1 #cells 995\n"
     ]
    }
   ],
   "source": [
    "##### 1. rename cols\n",
    "df1 = df.rename(columns={'cell':'_cell', 'tile_cell':'cell', 'type':'_type', 'geneID':'gene'})\n",
    "print('df1 #cells', df1.cell.nunique())"
   ]
  },
  {
   "cell_type": "code",
   "execution_count": 7,
   "id": "882a0207",
   "metadata": {},
   "outputs": [],
   "source": [
    "##### 2. create a new 'type' col H012, TD012\n",
    "tileList_H = [2102, 2103, 2104, 2105, 2106, 2107]\n",
    "tileList_TD = [2116, 2117, 2118, 2119]\n",
    "# add new type col H012 TD012\n",
    "tile_num = df1.tile\n",
    "type_old = df1._type\n",
    "type_new = []\n",
    "for it, t in enumerate(tile_num):\n",
    "    if t in tileList_H:\n",
    "        type_new.append('H'+str(type_old.iloc[it]))\n",
    "    else:\n",
    "        type_new.append('TD'+str(type_old.iloc[it]))\n",
    "df1['type'] = np.array(type_new)"
   ]
  },
  {
   "cell_type": "code",
   "execution_count": 8,
   "id": "fbfbf732",
   "metadata": {},
   "outputs": [
    {
     "name": "stdout",
     "output_type": "stream",
     "text": [
      "df3 #cells 895\n"
     ]
    }
   ],
   "source": [
    "##### 3. only keep PC (H1, TD1) and PP (H2, TD2) cells\n",
    "df3 = df1[df1.type.isin(['H1', 'H2', 'TD1', 'TD2'])].copy()\n",
    "print('df3 #cells', df3.cell.nunique())"
   ]
  },
  {
   "cell_type": "code",
   "execution_count": 6,
   "id": "d69bf077",
   "metadata": {},
   "outputs": [
    {
     "name": "stdout",
     "output_type": "stream",
     "text": [
      "df4 #cells 870\n"
     ]
    }
   ],
   "source": [
    "##### 4. only keep cells with x/yrange $\\in$ [500,1300] (approx the [0.05,0.95] quantiles)\n",
    "f1 = df3.sc_xrange>=500\n",
    "f2 = df3.sc_xrange<=1300\n",
    "f3 = df3.sc_yrange>=500\n",
    "f4 = df3.sc_yrange<=1300\n",
    "df4 = df3[f1 & f2 & f3 & f4].copy()\n",
    "print('df4 #cells', df4.cell.nunique())"
   ]
  },
  {
   "cell_type": "code",
   "execution_count": 7,
   "id": "7512cf21",
   "metadata": {},
   "outputs": [
    {
     "data": {
      "text/html": [
       "<div>\n",
       "<style scoped>\n",
       "    .dataframe tbody tr th:only-of-type {\n",
       "        vertical-align: middle;\n",
       "    }\n",
       "\n",
       "    .dataframe tbody tr th {\n",
       "        vertical-align: top;\n",
       "    }\n",
       "\n",
       "    .dataframe thead th {\n",
       "        text-align: right;\n",
       "    }\n",
       "</style>\n",
       "<table border=\"1\" class=\"dataframe\">\n",
       "  <thead>\n",
       "    <tr style=\"text-align: right;\">\n",
       "      <th></th>\n",
       "      <th>gene</th>\n",
       "      <th>tile</th>\n",
       "      <th>x</th>\n",
       "      <th>y</th>\n",
       "      <th>umi</th>\n",
       "      <th>_cell</th>\n",
       "      <th>centerX</th>\n",
       "      <th>centerY</th>\n",
       "      <th>sc_total</th>\n",
       "      <th>sc_xmin</th>\n",
       "      <th>...</th>\n",
       "      <th>sc_ymin</th>\n",
       "      <th>sc_ymax</th>\n",
       "      <th>sc_yrange</th>\n",
       "      <th>sc_umi</th>\n",
       "      <th>sc_umi_npc</th>\n",
       "      <th>sc_umi_pc</th>\n",
       "      <th>sc_umi_pp</th>\n",
       "      <th>cell</th>\n",
       "      <th>_type</th>\n",
       "      <th>type</th>\n",
       "    </tr>\n",
       "  </thead>\n",
       "  <tbody>\n",
       "    <tr>\n",
       "      <th>315</th>\n",
       "      <td>Xkr4</td>\n",
       "      <td>2102</td>\n",
       "      <td>16686</td>\n",
       "      <td>2244</td>\n",
       "      <td>1</td>\n",
       "      <td>1842</td>\n",
       "      <td>16808</td>\n",
       "      <td>2311</td>\n",
       "      <td>1226</td>\n",
       "      <td>16361</td>\n",
       "      <td>...</td>\n",
       "      <td>2100</td>\n",
       "      <td>2718</td>\n",
       "      <td>618</td>\n",
       "      <td>1</td>\n",
       "      <td>5</td>\n",
       "      <td>5</td>\n",
       "      <td>47</td>\n",
       "      <td>2102_1842</td>\n",
       "      <td>1</td>\n",
       "      <td>H1</td>\n",
       "    </tr>\n",
       "    <tr>\n",
       "      <th>360</th>\n",
       "      <td>Xkr4</td>\n",
       "      <td>2102</td>\n",
       "      <td>18927</td>\n",
       "      <td>20667</td>\n",
       "      <td>1</td>\n",
       "      <td>1553</td>\n",
       "      <td>18932</td>\n",
       "      <td>20230</td>\n",
       "      <td>5703</td>\n",
       "      <td>18625</td>\n",
       "      <td>...</td>\n",
       "      <td>19840</td>\n",
       "      <td>20696</td>\n",
       "      <td>856</td>\n",
       "      <td>1</td>\n",
       "      <td>24</td>\n",
       "      <td>77</td>\n",
       "      <td>533</td>\n",
       "      <td>2102_1553</td>\n",
       "      <td>1</td>\n",
       "      <td>H1</td>\n",
       "    </tr>\n",
       "    <tr>\n",
       "      <th>631</th>\n",
       "      <td>Xkr4</td>\n",
       "      <td>2102</td>\n",
       "      <td>19007</td>\n",
       "      <td>11672</td>\n",
       "      <td>1</td>\n",
       "      <td>1504</td>\n",
       "      <td>19294</td>\n",
       "      <td>11744</td>\n",
       "      <td>5016</td>\n",
       "      <td>18929</td>\n",
       "      <td>...</td>\n",
       "      <td>11340</td>\n",
       "      <td>12299</td>\n",
       "      <td>959</td>\n",
       "      <td>1</td>\n",
       "      <td>24</td>\n",
       "      <td>44</td>\n",
       "      <td>357</td>\n",
       "      <td>2102_1504</td>\n",
       "      <td>1</td>\n",
       "      <td>H1</td>\n",
       "    </tr>\n",
       "    <tr>\n",
       "      <th>985</th>\n",
       "      <td>Xkr4</td>\n",
       "      <td>2102</td>\n",
       "      <td>8396</td>\n",
       "      <td>15124</td>\n",
       "      <td>1</td>\n",
       "      <td>2966</td>\n",
       "      <td>8420</td>\n",
       "      <td>14913</td>\n",
       "      <td>3290</td>\n",
       "      <td>8125</td>\n",
       "      <td>...</td>\n",
       "      <td>14588</td>\n",
       "      <td>15606</td>\n",
       "      <td>1018</td>\n",
       "      <td>2</td>\n",
       "      <td>15</td>\n",
       "      <td>11</td>\n",
       "      <td>397</td>\n",
       "      <td>2102_2966</td>\n",
       "      <td>2</td>\n",
       "      <td>H2</td>\n",
       "    </tr>\n",
       "    <tr>\n",
       "      <th>1156</th>\n",
       "      <td>Xkr4</td>\n",
       "      <td>2102</td>\n",
       "      <td>16421</td>\n",
       "      <td>20213</td>\n",
       "      <td>1</td>\n",
       "      <td>1903</td>\n",
       "      <td>16262</td>\n",
       "      <td>20279</td>\n",
       "      <td>1520</td>\n",
       "      <td>15946</td>\n",
       "      <td>...</td>\n",
       "      <td>19868</td>\n",
       "      <td>20644</td>\n",
       "      <td>776</td>\n",
       "      <td>1</td>\n",
       "      <td>8</td>\n",
       "      <td>4</td>\n",
       "      <td>110</td>\n",
       "      <td>2102_1903</td>\n",
       "      <td>2</td>\n",
       "      <td>H2</td>\n",
       "    </tr>\n",
       "  </tbody>\n",
       "</table>\n",
       "<p>5 rows × 22 columns</p>\n",
       "</div>"
      ],
      "text/plain": [
       "      gene  tile      x      y  umi  _cell  centerX  centerY  sc_total  \\\n",
       "315   Xkr4  2102  16686   2244    1   1842    16808     2311      1226   \n",
       "360   Xkr4  2102  18927  20667    1   1553    18932    20230      5703   \n",
       "631   Xkr4  2102  19007  11672    1   1504    19294    11744      5016   \n",
       "985   Xkr4  2102   8396  15124    1   2966     8420    14913      3290   \n",
       "1156  Xkr4  2102  16421  20213    1   1903    16262    20279      1520   \n",
       "\n",
       "      sc_xmin  ...  sc_ymin  sc_ymax  sc_yrange  sc_umi  sc_umi_npc sc_umi_pc  \\\n",
       "315     16361  ...     2100     2718        618       1           5         5   \n",
       "360     18625  ...    19840    20696        856       1          24        77   \n",
       "631     18929  ...    11340    12299        959       1          24        44   \n",
       "985      8125  ...    14588    15606       1018       2          15        11   \n",
       "1156    15946  ...    19868    20644        776       1           8         4   \n",
       "\n",
       "      sc_umi_pp       cell  _type type  \n",
       "315          47  2102_1842      1   H1  \n",
       "360         533  2102_1553      1   H1  \n",
       "631         357  2102_1504      1   H1  \n",
       "985         397  2102_2966      2   H2  \n",
       "1156        110  2102_1903      2   H2  \n",
       "\n",
       "[5 rows x 22 columns]"
      ]
     },
     "execution_count": 7,
     "metadata": {},
     "output_type": "execute_result"
    }
   ],
   "source": [
    "df4.head()"
   ]
  },
  {
   "cell_type": "markdown",
   "id": "1aa8b144",
   "metadata": {},
   "source": [
    "#### Gene and cells lists for each type"
   ]
  },
  {
   "cell_type": "code",
   "execution_count": 9,
   "id": "26d7c298",
   "metadata": {},
   "outputs": [
    {
     "name": "stdout",
     "output_type": "stream",
     "text": [
      "['H1', 'H2', 'TD1', 'TD2']\n"
     ]
    }
   ],
   "source": [
    "##### cell type list\n",
    "type_list = df4.type.unique().tolist()\n",
    "type_list.sort()\n",
    "print(type_list)"
   ]
  },
  {
   "cell_type": "code",
   "execution_count": 10,
   "id": "bca5c25d",
   "metadata": {},
   "outputs": [],
   "source": [
    "##### filtering params\n",
    "# 1. min #cells available for a gene\n",
    "nc_avl_min = 50 \n",
    "# 2. >=`nc_expr_thre` number of cells with gene counts>=`expr_thre`\n",
    "expr_thre = 3\n",
    "nc_expr_thre = 5\n",
    "# 3. add nuclear genes manually [skipped!]\n",
    "# 4. add cell type marker genes [skipped!]\n",
    "# 5. sort the genes and get the dataframe"
   ]
  },
  {
   "cell_type": "code",
   "execution_count": 11,
   "id": "b2e8e09b",
   "metadata": {},
   "outputs": [
    {
     "name": "stdout",
     "output_type": "stream",
     "text": [
      "type H1 #genes=2234\n",
      "type H2 #genes=2186\n",
      "type TD1 #genes=500\n",
      "type TD2 #genes=2154\n"
     ]
    }
   ],
   "source": [
    "# 1. nc_avl_min\n",
    "gene_list_dict1 = {}\n",
    "df_dict1 = {}\n",
    "for t in type_list:\n",
    "    df_t = df4[df4.type==t]\n",
    "    nc_avl_t = df_t.groupby('gene')['cell'].nunique()\n",
    "    nc_avl_t_filtered = nc_avl_t[nc_avl_t>=nc_avl_min]\n",
    "    gene_list_dict1[t] = nc_avl_t_filtered.index.to_numpy()\n",
    "    df_dict1[t] = df_t[df_t.gene.isin(gene_list_dict1[t])]\n",
    "    print(f'type {t} #genes={len(gene_list_dict1[t])}')"
   ]
  },
  {
   "cell_type": "code",
   "execution_count": 12,
   "id": "2bb2cb1b",
   "metadata": {},
   "outputs": [
    {
     "name": "stdout",
     "output_type": "stream",
     "text": [
      "type H1 #genes=1295\n",
      "type H2 #genes=1318\n",
      "type TD1 #genes=497\n",
      "type TD2 #genes=1349\n"
     ]
    }
   ],
   "source": [
    "# 2. nc_expr_thre and expr_thre\n",
    "gene_list_dict2 = {}\n",
    "for t in type_list:\n",
    "    df_t = df_dict1[t]\n",
    "    df_t_gbG = df_t.groupby('gene')\n",
    "    gl_t = []\n",
    "    for g in gene_list_dict1[t][:]:\n",
    "        df_t_g = df_t_gbG.get_group(g)\n",
    "        sc_umi_g = df_t_g.groupby('cell')['umi'].sum()\n",
    "        if np.sum(sc_umi_g>=expr_thre)>=nc_expr_thre:\n",
    "            gl_t.append(g)\n",
    "    gene_list_dict2[t] = np.array(gl_t)\n",
    "    print(f'type {t} #genes={len(gl_t)}')"
   ]
  },
  {
   "cell_type": "raw",
   "id": "498eb947",
   "metadata": {},
   "source": [
    "# 3. add nuclear genes [skipped!]\n",
    "\n",
    "# nuclear genes\n",
    "add_nuclear_list = [\n",
    "    'Neat1', 'Malat1', 'Mlxipl', 'n-R5-8s1', 'Gm24601', # seqscope_nuclear10_list\n",
    "    'Echdc2', 'D4Wsu53e', 'Aspg', 'Mafb', 'Sema4g',\n",
    "    'Xist' # additional well-know nuclear genes\n",
    "]\n",
    "\n",
    "# add nuclear genes to each cell type\n",
    "gene_list_dict3 = {}\n",
    "for t in type_list:\n",
    "    gl_t = gene_list_dict2[t]\n",
    "    gl_t3 = np.unique(np.concatenate((gl_t, add_nuclear_list)))\n",
    "    gene_list_dict3[t] = gl_t3\n",
    "    print(f'type {t} #genes={len(gl_t3)}')"
   ]
  },
  {
   "cell_type": "raw",
   "id": "b586f890",
   "metadata": {},
   "source": [
    "# 4. add cell type marker genes to the corresponding cell types [skipped!]\n",
    "\n",
    "# cell type marker genes\n",
    "PP7_list = ['Mup20', 'Alb', 'Cyp2f2', 'Serpina1e', 'Ass1', 'Hamp', 'Mup11']\n",
    "PC7_list = ['Glul', 'Oat', 'Cyp2a5', 'Mup9', 'Mup17', 'Cyp2c29', 'Cyp2e1']\n",
    "\n",
    "gene_list_dict4 = {}\n",
    "for t in ['H1', 'TD1']: # PC types\n",
    "    gl_t = gene_list_dict3[t]\n",
    "    gl_t4 = np.unique(np.concatenate((gl_t, PC7_list)))\n",
    "    gene_list_dict4[t] = gl_t4\n",
    "    print(f'type {t} #genes={len(gl_t4)}')\n",
    "    \n",
    "for t in ['H2', 'TD2']: # PP types\n",
    "    gl_t = gene_list_dict3[t]\n",
    "    gl_t4 = np.unique(np.concatenate((gl_t, PP7_list)))\n",
    "    gene_list_dict4[t] = gl_t4\n",
    "    print(f'type {t} #genes={len(gl_t4)}')"
   ]
  },
  {
   "cell_type": "code",
   "execution_count": 13,
   "id": "1cf30cb0",
   "metadata": {},
   "outputs": [],
   "source": [
    "# 5. get the df and sort the genes\n",
    "gene_list_dict4 = gene_list_dict2 #!!! step 3/4 skipped\n",
    "\n",
    "gene_list_dict5 = {}\n",
    "cell_list_dict5 = {}\n",
    "df_dict5 = {}\n",
    "for t in type_list:\n",
    "    gl_t4 = gene_list_dict4[t]\n",
    "    df_t = df4[df4.type==t]\n",
    "    df_t5 = df_t[df_t.gene.isin(gl_t4)]\n",
    "    gl_t5 = df_t5.groupby('gene')['umi'].sum().sort_values(ascending=False).index.to_numpy()\n",
    "    gene_list_dict5[t] = gl_t5\n",
    "    df_dict5[t] = df_t5\n",
    "    cell_list_dict5[t] = df_t5.cell.unique().tolist()"
   ]
  },
  {
   "cell_type": "code",
   "execution_count": 14,
   "id": "67c81ba4",
   "metadata": {},
   "outputs": [],
   "source": [
    "data_df = pd.concat(list(df_dict5.values()))\n",
    "gene_list_dict = gene_list_dict5\n",
    "cell_list_dict = cell_list_dict5\n",
    "cell_list_all = [item for sublist in list(cell_list_dict.values()) for item in sublist]"
   ]
  },
  {
   "cell_type": "markdown",
   "id": "97c23d26",
   "metadata": {},
   "source": [
    "#### Prepare cell masks"
   ]
  },
  {
   "cell_type": "code",
   "execution_count": 16,
   "id": "65e1acb0",
   "metadata": {},
   "outputs": [
    {
     "name": "stdout",
     "output_type": "stream",
     "text": [
      "Time:  67.9176314920187\n"
     ]
    }
   ],
   "source": [
    "start = timeit.default_timer()\n",
    "\n",
    "n_pad = 10 # pad for better cropping cell masks <<<<<\n",
    "df_gyC = data_df.groupby('cell')\n",
    "\n",
    "cell_masks_dict = {}\n",
    "\n",
    "for ic, c in enumerate(cell_list_all):\n",
    "    # tile and cell-only index\n",
    "    t, c2 = c.split('_')\n",
    "    \n",
    "    # df for c\n",
    "    df_c = df_gyC.get_group(c).copy()\n",
    "    \n",
    "    # crop mask for c\n",
    "    mask_t = masks_dict['mask'+str(t)]\n",
    "    xmin = df_c.sc_xmin.iloc[0]\n",
    "    xmax = df_c.sc_xmax.iloc[0]\n",
    "    ymin = df_c.sc_ymin.iloc[0]\n",
    "    ymax = df_c.sc_ymax.iloc[0]\n",
    "    mask_c = mask_t[(xmin-n_pad):(xmax+n_pad), (ymin-n_pad):(ymax+n_pad)]\n",
    "    tuple_c = np.where(mask_c==int(c2))\n",
    "    mask_df_c = pd.DataFrame({'x': (tuple_c[0]+(xmin-n_pad)), 'y': (tuple_c[1]+(ymin-n_pad))})\n",
    "    mask_df_c['cell'] = [c]*len(mask_df_c)\n",
    "    \n",
    "    # add\n",
    "    cell_masks_dict[c] = mask_df_c\n",
    "    \n",
    "# concatenate all cell_masks_dict to one df\n",
    "cell_masks = pd.concat(list(cell_masks_dict.values()))\n",
    "\n",
    "stop = timeit.default_timer()\n",
    "print('Time: ', stop - start) # ~140s"
   ]
  },
  {
   "cell_type": "code",
   "execution_count": 17,
   "id": "24b3578a",
   "metadata": {},
   "outputs": [
    {
     "data": {
      "text/html": [
       "<div>\n",
       "<style scoped>\n",
       "    .dataframe tbody tr th:only-of-type {\n",
       "        vertical-align: middle;\n",
       "    }\n",
       "\n",
       "    .dataframe tbody tr th {\n",
       "        vertical-align: top;\n",
       "    }\n",
       "\n",
       "    .dataframe thead th {\n",
       "        text-align: right;\n",
       "    }\n",
       "</style>\n",
       "<table border=\"1\" class=\"dataframe\">\n",
       "  <thead>\n",
       "    <tr style=\"text-align: right;\">\n",
       "      <th></th>\n",
       "      <th>x</th>\n",
       "      <th>y</th>\n",
       "      <th>cell</th>\n",
       "    </tr>\n",
       "  </thead>\n",
       "  <tbody>\n",
       "    <tr>\n",
       "      <th>0</th>\n",
       "      <td>24546</td>\n",
       "      <td>23490</td>\n",
       "      <td>2102_686</td>\n",
       "    </tr>\n",
       "    <tr>\n",
       "      <th>1</th>\n",
       "      <td>24546</td>\n",
       "      <td>23491</td>\n",
       "      <td>2102_686</td>\n",
       "    </tr>\n",
       "    <tr>\n",
       "      <th>2</th>\n",
       "      <td>24546</td>\n",
       "      <td>23492</td>\n",
       "      <td>2102_686</td>\n",
       "    </tr>\n",
       "    <tr>\n",
       "      <th>3</th>\n",
       "      <td>24546</td>\n",
       "      <td>23493</td>\n",
       "      <td>2102_686</td>\n",
       "    </tr>\n",
       "    <tr>\n",
       "      <th>4</th>\n",
       "      <td>24546</td>\n",
       "      <td>23494</td>\n",
       "      <td>2102_686</td>\n",
       "    </tr>\n",
       "  </tbody>\n",
       "</table>\n",
       "</div>"
      ],
      "text/plain": [
       "       x      y      cell\n",
       "0  24546  23490  2102_686\n",
       "1  24546  23491  2102_686\n",
       "2  24546  23492  2102_686\n",
       "3  24546  23493  2102_686\n",
       "4  24546  23494  2102_686"
      ]
     },
     "execution_count": 17,
     "metadata": {},
     "output_type": "execute_result"
    }
   ],
   "source": [
    "cell_masks.head()"
   ]
  },
  {
   "cell_type": "code",
   "execution_count": 18,
   "id": "024eb8c9",
   "metadata": {},
   "outputs": [
    {
     "data": {
      "text/plain": [
       "870"
      ]
     },
     "execution_count": 18,
     "metadata": {},
     "output_type": "execute_result"
    }
   ],
   "source": [
    "len(cell_list_all)"
   ]
  },
  {
   "cell_type": "markdown",
   "id": "db48f2a6",
   "metadata": {},
   "source": [
    "#### Save prepared data"
   ]
  },
  {
   "cell_type": "code",
   "execution_count": 19,
   "id": "d9967af5",
   "metadata": {},
   "outputs": [],
   "source": [
    "##### save data\n",
    "outfile = 'output_step6/seqscope_data_dict.pkl'\n",
    "# save\n",
    "pickle_dict = {}\n",
    "pickle_dict['type_list'] = type_list\n",
    "pickle_dict['gene_list_dict'] = gene_list_dict\n",
    "pickle_dict['cell_list_dict'] = cell_list_dict\n",
    "pickle_dict['cell_list_all'] = cell_list_all\n",
    "pickle_dict['cell_mask_df'] = cell_masks\n",
    "pickle_dict['data_df'] = data_df\n",
    "with open(outfile, 'wb') as f:\n",
    "    pickle.dump(pickle_dict, f)\n",
    "\n",
    "# load\n",
    "# with open(outfile, 'rb') as f:\n",
    "#     pickle_dict = pickle.load(f)\n",
    "# registered_dict = pickle_dict['df_registered']"
   ]
  },
  {
   "cell_type": "code",
   "execution_count": null,
   "id": "92088437",
   "metadata": {},
   "outputs": [],
   "source": []
  }
 ],
 "metadata": {
  "kernelspec": {
   "display_name": "Python 3 (ipykernel)",
   "language": "python",
   "name": "python3"
  },
  "language_info": {
   "codemirror_mode": {
    "name": "ipython",
    "version": 3
   },
   "file_extension": ".py",
   "mimetype": "text/x-python",
   "name": "python",
   "nbconvert_exporter": "python",
   "pygments_lexer": "ipython3",
   "version": "3.10.14"
  }
 },
 "nbformat": 4,
 "nbformat_minor": 5
}
