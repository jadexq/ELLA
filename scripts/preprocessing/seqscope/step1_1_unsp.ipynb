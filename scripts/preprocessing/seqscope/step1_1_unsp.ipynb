{
 "cells": [
  {
   "cell_type": "markdown",
   "id": "42005a7c",
   "metadata": {},
   "source": [
    "### Step1: process seqscope-liver un/sp data \n",
    "\n",
    "process the un/sp output from seqscope pipline to dataframes\n",
    "\n",
    "intput: unsp_dict.pkl with unspliced_all_pos etc\\\n",
    "output: unsp_dict.pkl with unsp_df etc"
   ]
  },
  {
   "cell_type": "code",
   "execution_count": 1,
   "id": "f4955b44",
   "metadata": {},
   "outputs": [],
   "source": [
    "import pandas as pd \n",
    "import pickle"
   ]
  },
  {
   "cell_type": "markdown",
   "id": "090c974f",
   "metadata": {},
   "source": [
    "#### Read un/sp raw data"
   ]
  },
  {
   "cell_type": "code",
   "execution_count": 2,
   "id": "3c231f4e",
   "metadata": {},
   "outputs": [
    {
     "name": "stdout",
     "output_type": "stream",
     "text": [
      "dict_keys(['unspliced_all_pos', 'spliced_all_pos', 'unspMat', 'spMat', 'maxCooInt'])\n",
      "(8335475, 9)\n",
      "(8335475, 9)\n"
     ]
    }
   ],
   "source": [
    "##### read (kind of) raw unsp and sp data that are the outputs of seqscope pipline\n",
    "filename = 'input/unsp_dict.pkl'\n",
    "with open(filename, 'rb') as f:\n",
    "    pickle_dict = pickle.load(f)  \n",
    "unspliced_all_pos = pickle_dict['unspliced_all_pos']\n",
    "spliced_all_pos = pickle_dict['spliced_all_pos']\n",
    "unspMat = pickle_dict['unspMat']\n",
    "spMat = pickle_dict['spMat']\n",
    "# maxCooInt = unsp_dict['maxCooInt']\n",
    "print(pickle_dict.keys())\n",
    "print(unspliced_all_pos.shape)\n",
    "print(spliced_all_pos.shape)"
   ]
  },
  {
   "cell_type": "markdown",
   "id": "acedd312",
   "metadata": {},
   "source": [
    "#### Only keep valid tiles"
   ]
  },
  {
   "cell_type": "code",
   "execution_count": 4,
   "id": "242668b8",
   "metadata": {},
   "outputs": [
    {
     "name": "stdout",
     "output_type": "stream",
     "text": [
      "(6042177, 9)\n",
      "(6042177, 9)\n",
      "(1556983, 9)\n",
      "(5850152, 9)\n",
      "                    HDMI  lane_miseq  tile_miseq  x_miseq  y_miseq  \\\n",
      "0   AAAAAAAAAAAAAAAAAAAA         1.0      2104.0   6995.0  17656.0   \n",
      "15  AAAAAAAAAGAGCTATAATT         1.0      2117.0  11128.0  15518.0   \n",
      "16  AAAAAAAAAGAGTGAAAAAC         1.0      2102.0  28217.0  19164.0   \n",
      "17  AAAAAAAAAGCGAGGGCAGA         1.0      2103.0  16048.0  18931.0   \n",
      "20  AAAAAAAAAGGAGTACACTT         1.0      2117.0  25999.0  19552.0   \n",
      "\n",
      "                 BARCODE  barcodeInd  barcode   umi  \n",
      "0   AAAAAAAAAAAAAAAAAAAA           1        1  1853  \n",
      "15  AAAAAAAAAGAGCTATAATT          88       88     1  \n",
      "16  AAAAAAAAAGAGTGAAAAAC          90       90     1  \n",
      "17  AAAAAAAAAGCGAGGGCAGA          99       99     1  \n",
      "20  AAAAAAAAAGGAGTACACTT         106      106     1  \n",
      "                   HDMI  lane_miseq  tile_miseq  x_miseq  y_miseq  \\\n",
      "0  AAAAAAAAAAAAAAAAAAAA         1.0      2104.0   6995.0  17656.0   \n",
      "1  AAAAAAAAAAACTGCGTAGG         1.0      2119.0  18707.0  15408.0   \n",
      "2  AAAAAAAAAAAGACGGGCCA         1.0      2119.0  20685.0   9510.0   \n",
      "3  AAAAAAAAAAAGGGCCAGGC         1.0      2104.0  25803.0  11295.0   \n",
      "4  AAAAAAAAAACATAAAAGCC         1.0      2104.0  10064.0  16363.0   \n",
      "\n",
      "                BARCODE  barcodeInd  barcode  umi  \n",
      "0  AAAAAAAAAAAAAAAAAAAA           1        1  199  \n",
      "1  AAAAAAAAAAACTGCGTAGG           6        6    1  \n",
      "2  AAAAAAAAAAAGACGGGCCA           7        7    1  \n",
      "3  AAAAAAAAAAAGGGCCAGGC           9        9    4  \n",
      "4  AAAAAAAAAACATAAAAGCC          12       12    4  \n"
     ]
    }
   ],
   "source": [
    "##### only keep valid tiles\n",
    "tileList = [2102, 2103, 2104,2105, 2106, 2107, 2116, 2117, 2118, 2119]\n",
    "unspliced_all_pos1 = unspliced_all_pos[unspliced_all_pos['tile_miseq'].isin(tileList)]\n",
    "spliced_all_pos1 = spliced_all_pos[spliced_all_pos['tile_miseq'].isin(tileList)]\n",
    "print(unspliced_all_pos1.shape)\n",
    "print(spliced_all_pos1.shape)\n",
    "\n",
    "##### remove umi=0 entries\n",
    "unspliced_all_pos2 = unspliced_all_pos1[unspliced_all_pos1['umi']>0]\n",
    "spliced_all_pos2 = spliced_all_pos1[spliced_all_pos1['umi']>0]\n",
    "print(unspliced_all_pos2.shape)\n",
    "print(spliced_all_pos2.shape)\n",
    "print(unspliced_all_pos2.head())\n",
    "print(spliced_all_pos2.head())"
   ]
  },
  {
   "cell_type": "markdown",
   "id": "c3cf9d9c",
   "metadata": {},
   "source": [
    "#### Only keep useful cols"
   ]
  },
  {
   "cell_type": "code",
   "execution_count": 7,
   "id": "28fcd0c1",
   "metadata": {},
   "outputs": [
    {
     "name": "stdout",
     "output_type": "stream",
     "text": [
      "(1556983, 4)\n",
      "(5850152, 4)\n",
      "   tile      x      y   umi\n",
      "0  2104   6995  17656  1853\n",
      "1  2117  11128  15518     1\n",
      "2  2102  28217  19164     1\n",
      "3  2103  16048  18931     1\n",
      "4  2117  25999  19552     1\n",
      "   tile      x      y  umi\n",
      "0  2104   6995  17656  199\n",
      "1  2119  18707  15408    1\n",
      "2  2119  20685   9510    1\n",
      "3  2104  25803  11295    4\n",
      "4  2104  10064  16363    4\n"
     ]
    }
   ],
   "source": [
    "##### only keep: tile, x, y, umi, astype(int)\n",
    "# unsp_df\n",
    "tile_ = unspliced_all_pos2['tile_miseq'].to_numpy().astype(int)\n",
    "x_ = unspliced_all_pos2['x_miseq'].to_numpy().astype(int)\n",
    "y_ = unspliced_all_pos2['y_miseq'].to_numpy().astype(int)\n",
    "umi_ = unspliced_all_pos2['umi'].to_numpy().astype(int)\n",
    "d = {'tile': tile_, 'x': x_, 'y': y_, 'umi': umi_} \n",
    "unsp_df = pd.DataFrame(d)\n",
    "# sp_df\n",
    "tile_ = spliced_all_pos2['tile_miseq'].to_numpy().astype(int)\n",
    "x_ = spliced_all_pos2['x_miseq'].to_numpy().astype(int)\n",
    "y_ = spliced_all_pos2['y_miseq'].to_numpy().astype(int)\n",
    "umi_ = spliced_all_pos2['umi'].to_numpy().astype(int)\n",
    "d = {'tile': tile_, 'x': x_, 'y': y_, 'umi': umi_} \n",
    "sp_df = pd.DataFrame(d)\n",
    "\n",
    "print(unsp_df.shape)\n",
    "print(sp_df.shape)\n",
    "print(unsp_df.head())\n",
    "print(sp_df.head())"
   ]
  },
  {
   "cell_type": "markdown",
   "id": "fab30fb7",
   "metadata": {},
   "source": [
    "#### Save the dataframes"
   ]
  },
  {
   "cell_type": "code",
   "execution_count": 10,
   "id": "57edee68",
   "metadata": {},
   "outputs": [],
   "source": [
    "# pickle\n",
    "outfile = 'output_step1/unsp_dict.pkl'\n",
    "\n",
    "# save\n",
    "pickle_dict = {}\n",
    "pickle_dict['unsp_df'] = unsp_df\n",
    "pickle_dict['sp_df'] = sp_df\n",
    "pickle_dict['unspMat'] = unspMat\n",
    "pickle_dict['spMat'] = spMat\n",
    "with open(outfile, 'wb') as f:\n",
    "    pickle.dump(pickle_dict, f)"
   ]
  },
  {
   "cell_type": "code",
   "execution_count": null,
   "id": "a80c3c98",
   "metadata": {},
   "outputs": [],
   "source": []
  }
 ],
 "metadata": {
  "kernelspec": {
   "display_name": "Python 3 (ipykernel)",
   "language": "python",
   "name": "python3"
  },
  "language_info": {
   "codemirror_mode": {
    "name": "ipython",
    "version": 3
   },
   "file_extension": ".py",
   "mimetype": "text/x-python",
   "name": "python",
   "nbconvert_exporter": "python",
   "pygments_lexer": "ipython3",
   "version": "3.10.14"
  }
 },
 "nbformat": 4,
 "nbformat_minor": 5
}
