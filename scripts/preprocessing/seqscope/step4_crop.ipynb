{
 "cells": [
  {
   "cell_type": "markdown",
   "id": "c441c786",
   "metadata": {},
   "source": [
    "### Step4: crop cells tile by tile\n",
    "use cellpose segmentation (based on 4X images) masks to crop cells on the gene expression space\\\n",
    "use unspliced data to find cell center\\\n",
    "when searching for local maxima as cell center, (in this seqscope data) only consider the area that is not close to boundary\\\n",
    "use seqscope DGE matrix data as gene expression data\\\n",
    "add some QC (use 95% quantile as cutoff, see below for details)\\\n",
    "**note**, need to manually change t = the tile working on\\\n",
    "**note**, dd=200, centers detected are all 200 away from cell boundary"
   ]
  },
  {
   "cell_type": "code",
   "execution_count": 1,
   "id": "b6b54b1e",
   "metadata": {},
   "outputs": [],
   "source": [
    "import sys\n",
    "import numpy as np\n",
    "import pandas as pd \n",
    "import matplotlib.pyplot as plt\n",
    "import matplotlib.colors as colors\n",
    "import pickle\n",
    "from scipy.io import mmread\n",
    "from collections import defaultdict\n",
    "import cv2\n",
    "import timeit"
   ]
  },
  {
   "cell_type": "markdown",
   "id": "05026447",
   "metadata": {},
   "source": [
    "#### Read data and process"
   ]
  },
  {
   "cell_type": "code",
   "execution_count": 3,
   "id": "a524248b",
   "metadata": {},
   "outputs": [
    {
     "name": "stdout",
     "output_type": "stream",
     "text": [
      "matRaw.shape (32976, 15004445)\n",
      "Time:  185.62357448786497\n"
     ]
    }
   ],
   "source": [
    "##### read digital gene expression (DGE) matrix, barcode, feature, spatialcoordinates\n",
    "start = timeit.default_timer()\n",
    "\n",
    "matRaw = mmread('input/GSM5212844_Liver_SeqScope_matrix.mtx')\n",
    "barcodeRaw = pd.read_csv('input/GSM5212844_Liver_SeqScope_barcode.tsv', sep='\\t', header=None)\n",
    "featuresRaw = pd.read_csv('input/GSM5212844_Liver_SeqScope_features.tsv', sep='\\t', header=None)\n",
    "spatialcoordinateRaw = pd.read_csv(\"input/MiSeq-DraI-100pM-mbcore-RD2-revHDMIs-pos-uniq.txt\", sep=' ', header=None)\n",
    "print('matRaw.shape', matRaw.shape)\n",
    "\n",
    "stop = timeit.default_timer()\n",
    "print('Time: ', stop - start) # ~185s"
   ]
  },
  {
   "cell_type": "code",
   "execution_count": 4,
   "id": "97487639",
   "metadata": {},
   "outputs": [
    {
     "name": "stdout",
     "output_type": "stream",
     "text": [
      "15004445 15004445 31217956 31217956\n",
      "#none match barcodes 5934\n",
      "0.9987315595706789347(38949405, 5)\n",
      "  geneID  tile      x      y  umi\n",
      "0   Xkr4  2116  22584  13344    1\n",
      "1   Xkr4  2102   4056  11899    1\n",
      "2   Xkr4  2119  11238  12033    1\n",
      "3   Xkr4  2114   5069  12415    1\n",
      "4   Xkr4  2118  14224  23460    1\n",
      "Time:  1107.3451448138803\n"
     ]
    }
   ],
   "source": [
    "##### find the corresponding tile, x, y for barcodeRaw `barcode_coord`\n",
    "start = timeit.default_timer()\n",
    "\n",
    "data = barcodeRaw[0].tolist()\n",
    "keys = spatialcoordinateRaw[0].tolist()\n",
    "vals = np.array((spatialcoordinateRaw[2].tolist(), spatialcoordinateRaw[3].tolist(), spatialcoordinateRaw[4].tolist())).T\n",
    "memo = defaultdict(lambda: (-1, -1, -1))\n",
    "for k, v in zip(keys, vals):\n",
    "    if k not in memo:\n",
    "        memo[k] = v\n",
    "    else:\n",
    "        raise ValueError('duplicated keys')\n",
    "res0 = list(map(lambda x: memo[x][0], data))\n",
    "res1 = list(map(lambda x: memo[x][1], data))\n",
    "res2 = list(map(lambda x: memo[x][2], data))\n",
    "\n",
    "print(len(res0), len(data), len(keys), len(vals))\n",
    "\n",
    "barcode_coord_ = [res0, res1, res2]\n",
    "barcode_coord = np.array(barcode_coord_).transpose()\n",
    "\n",
    "##### check the number of col in matRaw that can not match a spatial coordinate\n",
    "res0_arr = np.array(res0)\n",
    "print('#none match barcodes', sum(res0_arr==-1))\n",
    "\n",
    "##### matRaw to cols\n",
    "matRaw_csc = matRaw.tocsc() # to cols\n",
    "\n",
    "##### featuresRaw geneIDs to arr\n",
    "features = featuresRaw[1].to_numpy()\n",
    "\n",
    "##### convert matRaw_csc to a df with cols=[geneID, tile, x, y, umi]\n",
    "idx_nonzero = matRaw_csc.nonzero()\n",
    "\n",
    "geneID = []\n",
    "tile = []\n",
    "x = []\n",
    "y = []\n",
    "umi = []\n",
    "\n",
    "for i in range(len(idx_nonzero[0])):\n",
    "    \n",
    "    if i % 1e5 == 0:\n",
    "        sys.stdout.write('' * 50 + '\\r' + str(i/len(idx_nonzero[0]))) # percentage progress\n",
    "        sys.stdout.flush()\n",
    "    \n",
    "    r = idx_nonzero[0][i]\n",
    "    c = idx_nonzero[1][i]\n",
    "    \n",
    "    geneID.append(features[r])\n",
    "    tile.append(barcode_coord[c,0])\n",
    "    x.append(barcode_coord[c,1])\n",
    "    y.append(barcode_coord[c,2])\n",
    "    umi.append(matRaw_csc[r,c])\n",
    "    \n",
    "df = pd.DataFrame({'geneID':geneID, 'tile':tile, 'x':x, 'y':y, 'umi':umi})\n",
    "print(df.shape)\n",
    "print(df.head())\n",
    "\n",
    "stop = timeit.default_timer()\n",
    "print('Time: ', stop - start) # ~1107s"
   ]
  },
  {
   "cell_type": "code",
   "execution_count": 5,
   "id": "e5f60afd",
   "metadata": {},
   "outputs": [],
   "source": [
    "##### gene lists\n",
    "geneUnique = df['geneID'].unique().tolist()\n",
    "# 10 nucleus genes\n",
    "nucleusList = ['Neat1', 'Malat1', 'Mlxipl', 'n-R5-8s1', 'Gm24601', 'Echdc2', 'D4Wsu53e', 'Aspg', 'Mafb', 'Sema4g']\n",
    "# 37 mt genes\n",
    "mtList = [s for i, s in enumerate(geneUnique) if s.startswith('mt-')]"
   ]
  },
  {
   "cell_type": "code",
   "execution_count": 6,
   "id": "8e5de860",
   "metadata": {},
   "outputs": [],
   "source": [
    "##### define alpha colormaps\n",
    "# black alpha\n",
    "color_array = np.zeros([10,4])\n",
    "color_array[:,-1] = np.linspace(0,1,10)\n",
    "map_object = colors.LinearSegmentedColormap.from_list(name='black_alpha', colors=color_array)\n",
    "plt.register_cmap(cmap=map_object)\n",
    "# red alpha\n",
    "color_array = np.zeros([10,4])\n",
    "color_array[:,0] = 1\n",
    "color_array[:,-1] = np.linspace(0,1,10)\n",
    "map_object = colors.LinearSegmentedColormap.from_list(name='red_alpha', colors=color_array)\n",
    "plt.register_cmap(cmap=map_object)\n",
    "# green alpha\n",
    "color_array = np.zeros([10,4])\n",
    "color_array[:,1] = 1\n",
    "color_array[:,-1] = np.linspace(0,1,10)\n",
    "map_object = colors.LinearSegmentedColormap.from_list(name='green_alpha', colors=color_array)\n",
    "plt.register_cmap(cmap=map_object)\n",
    "# blue alpha\n",
    "color_array = np.zeros([10,4])\n",
    "color_array[:,1] = 1\n",
    "color_array[:,2] = 1\n",
    "color_array[:,-1] = np.linspace(0,1,10)\n",
    "map_object = colors.LinearSegmentedColormap.from_list(name='blue_alpha', colors=color_array)\n",
    "plt.register_cmap(cmap=map_object)\n",
    "# pink alpha\n",
    "color_array = np.zeros([10,4])\n",
    "color_array[:,0] = 1\n",
    "color_array[:,2] = 1\n",
    "color_array[:,-1] = np.linspace(0,1,10)\n",
    "map_object = colors.LinearSegmentedColormap.from_list(name='pink_alpha', colors=color_array)\n",
    "plt.register_cmap(cmap=map_object)\n",
    "# orange alpha\n",
    "color_array = np.zeros([10,4])\n",
    "color_array[:,0] = 1\n",
    "color_array[:,1] = 0.39\n",
    "color_array[:,2] = 0.28\n",
    "color_array[:,-1] = np.linspace(0,1,10)\n",
    "map_object = colors.LinearSegmentedColormap.from_list(name='orange_alpha', colors=color_array)\n",
    "plt.register_cmap(cmap=map_object)\n",
    "# purple alpha\n",
    "color_array = np.zeros([10,4])\n",
    "color_array[:,0] = 0.5\n",
    "color_array[:,2] = 0.5\n",
    "color_array[:,-1] = np.linspace(0,1,10)\n",
    "map_object = colors.LinearSegmentedColormap.from_list(name='purple_alpha', colors=color_array)\n",
    "plt.register_cmap(cmap=map_object)"
   ]
  },
  {
   "cell_type": "code",
   "execution_count": 7,
   "id": "36b37117",
   "metadata": {},
   "outputs": [
    {
     "name": "stdout",
     "output_type": "stream",
     "text": [
      "(1556983, 4)\n",
      "   tile      x      y   umi\n",
      "0  2104   6995  17656  1853\n",
      "1  2117  11128  15518     1\n",
      "2  2102  28217  19164     1\n",
      "3  2103  16048  18931     1\n",
      "4  2117  25999  19552     1\n",
      "(5850152, 4)\n",
      "   tile      x      y  umi\n",
      "0  2104   6995  17656  199\n",
      "1  2119  18707  15408    1\n",
      "2  2119  20685   9510    1\n",
      "3  2104  25803  11295    4\n",
      "4  2104  10064  16363    4\n"
     ]
    }
   ],
   "source": [
    "##### read unspliced and spliced data\n",
    "outfile = 'output_step1/unsp_dict.pkl'\n",
    "# load\n",
    "with open(outfile, 'rb') as f:\n",
    "    pickle_dict = pickle.load(f)\n",
    "unsp_df = pickle_dict['unsp_df'] \n",
    "sp_df = pickle_dict['sp_df'] \n",
    "\n",
    "print(unsp_df.shape)\n",
    "print(unsp_df.head())\n",
    "print(sp_df.shape)\n",
    "print(sp_df.head())"
   ]
  },
  {
   "cell_type": "markdown",
   "id": "d1bb7c36",
   "metadata": {},
   "source": [
    "#### Crop cells in tile t\n",
    "\n",
    "**note**: need to manually specify t!"
   ]
  },
  {
   "cell_type": "code",
   "execution_count": 146,
   "id": "526d3a2f",
   "metadata": {},
   "outputs": [
    {
     "name": "stdout",
     "output_type": "stream",
     "text": [
      "##### tile = 2119\n"
     ]
    }
   ],
   "source": [
    "##### specify a tile [2102, 2103, 2104, 2105, 2106, 2107, 2116, 2117, 2118, 2119]\n",
    "t = 2119 # <<<<<<<<\n",
    "print('##### tile =', t)"
   ]
  },
  {
   "cell_type": "code",
   "execution_count": 147,
   "id": "ad362aa7",
   "metadata": {},
   "outputs": [
    {
     "name": "stdout",
     "output_type": "stream",
     "text": [
      "(3748281, 5)\n",
      "0.1     1.0\n",
      "0.5     1.0\n",
      "0.9     1.0\n",
      "1.0    16.0\n",
      "Name: umi, dtype: float64\n",
      "   geneID  tile      x      y  umi\n",
      "2    Xkr4  2119  11238  12033    1\n",
      "9    Xkr4  2119  15415  12910    1\n",
      "35   Xkr4  2119  26994   7978    1\n",
      "48   Xkr4  2119  22613  16944    1\n",
      "53   Xkr4  2119   8986  15479    1\n"
     ]
    }
   ],
   "source": [
    "##### extra gene expression data for tile=t\n",
    "df_t = df[df.tile == t].copy()\n",
    "print(df_t.shape)\n",
    "print(df_t.umi.quantile([0.1,0.5,0.9,1]))\n",
    "print(df_t.head())"
   ]
  },
  {
   "cell_type": "code",
   "execution_count": 148,
   "id": "70b23664",
   "metadata": {},
   "outputs": [
    {
     "name": "stdout",
     "output_type": "stream",
     "text": [
      "(160684, 4)\n",
      "    tile      x      y  umi\n",
      "17  2119  10594   7472    2\n",
      "18  2119  21018   3744    1\n",
      "27  2119  12109   8629    1\n",
      "66  2119   9878  21551    1\n",
      "76  2119  20535  14159    1\n"
     ]
    }
   ],
   "source": [
    "##### extra unspliced data for tile=t\n",
    "unsp_t = unsp_df[unsp_df.tile == t].copy()\n",
    "# remove outlier if exits\n",
    "unsp_t = unsp_t[unsp_t.umi<1000]\n",
    "\n",
    "print(unsp_t.shape)\n",
    "# print(unsp_t.umi.quantile([0.1,0.5,0.9,1]))\n",
    "print(unsp_t.head())"
   ]
  },
  {
   "cell_type": "code",
   "execution_count": 149,
   "id": "121019ea",
   "metadata": {},
   "outputs": [],
   "source": [
    "##### load cell segmentation mask, unspMat, spMat\n",
    "outfile = 'output_step3/masks_4X_tile'+str(t)+'_dict.pkl'\n",
    "# load\n",
    "with open(outfile, 'rb') as f:\n",
    "    pickle_dict = pickle.load(f)\n",
    "im_t = pickle_dict['im'+str(t)]\n",
    "outlines_t = pickle_dict['outline'+str(t)]\n",
    "masks_t = pickle_dict['mask'+str(t)]\n",
    "unspMat_t = pickle_dict['unspMat'+str(t)]\n",
    "spMat_t = pickle_dict['spMat'+str(t)]\n",
    "\n",
    "# print quantiles, comment out if want to save time\n",
    "# print(np.quantile(unspMat_t, [0.1,0.5,0.9,0.95,0.99,1]))\n",
    "# print(np.quantile(spMat_t, [0.1,0.5,0.9,0.95,0.99,1]))"
   ]
  },
  {
   "cell_type": "code",
   "execution_count": 150,
   "id": "4bc65b11",
   "metadata": {},
   "outputs": [
    {
     "name": "stdout",
     "output_type": "stream",
     "text": [
      "(629919, 4)\n",
      "    tile      x      y  umi\n",
      "1   2119  18707  15408    1\n",
      "2   2119  20685   9510    1\n",
      "6   2119  20656   9830    4\n",
      "25  2119   8508  13180    8\n",
      "57  2119  11434  19004    6\n"
     ]
    }
   ],
   "source": [
    "##### extra spliced data for tile=t\n",
    "sp_t = sp_df[sp_df.tile == t].copy()\n",
    "print(sp_t.shape)\n",
    "# print(sp_t.umi.quantile([0.1,0.5,0.9,1])) # comment out if want to save time\n",
    "print(sp_t.head())"
   ]
  },
  {
   "cell_type": "code",
   "execution_count": 151,
   "id": "b1355cde",
   "metadata": {},
   "outputs": [
    {
     "name": "stdout",
     "output_type": "stream",
     "text": [
      "0.6223394986432998Time:  2.7953412644565105\n",
      "    tile      x      y  umi  cell\n",
      "17  2119  10594   7472    2  1206\n",
      "18  2119  21018   3744    1     0\n",
      "27  2119  12109   8629    1     0\n",
      "66  2119   9878  21551    1  1282\n",
      "76  2119  20535  14159    1     0\n",
      "     tile      x      y  umi  cell\n",
      "17   2119  10594   7472    2  1206\n",
      "66   2119   9878  21551    1  1282\n",
      "141  2119  11249  24098    1  1178\n",
      "154  2119  14766  18984    1   953\n",
      "156  2119   9391  22924    1  1343\n",
      "389\n"
     ]
    }
   ],
   "source": [
    "##### find cell label for unsp_t\n",
    "# cell labels are the value of the cellpose segmentation mask of the cell\n",
    "start = timeit.default_timer()\n",
    "\n",
    "label = []\n",
    "for i in range(len(unsp_t)):\n",
    "    if i % 1e5 == 0:\n",
    "        sys.stdout.write('' * 50 + '\\r' + str(i/len(unsp_t)))\n",
    "        sys.stdout.flush()\n",
    "        \n",
    "    l = masks_t[int(unsp_t.x.iloc[i]), int(unsp_t.y.iloc[i])]\n",
    "    label.append(int(l))\n",
    "    \n",
    "stop = timeit.default_timer()\n",
    "print('Time: ', stop - start) \n",
    "\n",
    "# append label to unsp_t\n",
    "unsp_t['cell'] = np.array(label)\n",
    "print(unsp_t.head())\n",
    "\n",
    "# remove unlabled cell (cell=0)\n",
    "unsp_seg_t = unsp_t[unsp_t.cell>0]\n",
    "print(unsp_seg_t.head())\n",
    "print(unsp_seg_t.cell.nunique())"
   ]
  },
  {
   "cell_type": "code",
   "execution_count": 152,
   "id": "f723555e",
   "metadata": {},
   "outputs": [
    {
     "name": "stdout",
     "output_type": "stream",
     "text": [
      "0.95250341710600884Time:  10.84592193365097\n",
      "    tile      x      y  umi  cell\n",
      "1   2119  18707  15408    1     0\n",
      "2   2119  20685   9510    1   561\n",
      "6   2119  20656   9830    4     0\n",
      "25  2119   8508  13180    8     0\n",
      "57  2119  11434  19004    6  1181\n",
      "    tile      x      y  umi  cell\n",
      "2   2119  20685   9510    1   561\n",
      "57  2119  11434  19004    6  1181\n",
      "59  2119  15956   4368    1   835\n",
      "83  2119  10594   7472   11  1206\n",
      "87  2119  18401  13104    1   716\n",
      "390\n"
     ]
    }
   ],
   "source": [
    "##### find cell label for sp_t\n",
    "start = timeit.default_timer()\n",
    "\n",
    "label = []\n",
    "for i in range(len(sp_t)):\n",
    "    if i % 1e5 == 0:\n",
    "        sys.stdout.write('' * 50 + '\\r' + str(i/len(sp_t)))\n",
    "        sys.stdout.flush()\n",
    "        \n",
    "    l = masks_t[int(sp_t.x.iloc[i]), int(sp_t.y.iloc[i])]\n",
    "    label.append(int(l))\n",
    "    \n",
    "stop = timeit.default_timer()\n",
    "print('Time: ', stop - start) \n",
    "\n",
    "# append label to sp_t\n",
    "sp_t['cell'] = np.array(label)\n",
    "print(sp_t.head())\n",
    "\n",
    "# remove unlabled cell (cell=0)\n",
    "sp_seg_t = sp_t[sp_t.cell>0]\n",
    "print(sp_seg_t.head())\n",
    "print(sp_seg_t.cell.nunique())"
   ]
  },
  {
   "cell_type": "code",
   "execution_count": 153,
   "id": "3edc1b66",
   "metadata": {},
   "outputs": [
    {
     "name": "stdout",
     "output_type": "stream",
     "text": [
      "0.98711916209056896Time:  65.84052736777812\n",
      "   geneID  tile      x      y  umi  cell\n",
      "2    Xkr4  2119  11238  12033    1     0\n",
      "9    Xkr4  2119  15415  12910    1   922\n",
      "35   Xkr4  2119  26994   7978    1     0\n",
      "48   Xkr4  2119  22613  16944    1     0\n",
      "53   Xkr4  2119   8986  15479    1     0\n",
      "    geneID  tile      x      y  umi  cell\n",
      "9     Xkr4  2119  15415  12910    1   922\n",
      "63    Xkr4  2119   7335  17544    1  1505\n",
      "91    Xkr4  2119   5500   4874    1  1644\n",
      "100   Xkr4  2119  21663   4800    1   487\n",
      "133   Xkr4  2119  16120  18758    1   838\n",
      "390\n"
     ]
    }
   ],
   "source": [
    "##### find cell label for df_t\n",
    "start = timeit.default_timer()\n",
    "\n",
    "label = []\n",
    "for i in range(len(df_t)):\n",
    "    if i % 1e5 == 0:\n",
    "        sys.stdout.write('' * 50 + '\\r' + str(i/len(df_t)))\n",
    "        sys.stdout.flush()\n",
    "        \n",
    "    l = masks_t[int(df_t.x.iloc[i]), int(df_t.y.iloc[i])]\n",
    "    label.append(int(l))\n",
    "    \n",
    "stop = timeit.default_timer()\n",
    "print('Time: ', stop - start) # ~60s\n",
    "\n",
    "# append label to bin1_r\n",
    "df_t['cell'] = label\n",
    "print(df_t.head())\n",
    "\n",
    "# remove unlabled cell (cell=0)\n",
    "df_seg_t = df_t[df_t.cell>0]\n",
    "print(df_seg_t.head())\n",
    "print(df_seg_t.cell.nunique())"
   ]
  },
  {
   "cell_type": "code",
   "execution_count": 154,
   "id": "85f9ec5b",
   "metadata": {},
   "outputs": [
    {
     "name": "stdout",
     "output_type": "stream",
     "text": [
      "dd=200\n"
     ]
    }
   ],
   "source": [
    "##### min dis from center to boundary\n",
    "# feasible domain for maxima search as cell center\n",
    "dd = 200 # <<<<<\n",
    "print('dd='+str(dd))"
   ]
  },
  {
   "cell_type": "code",
   "execution_count": 155,
   "id": "c10fa74c",
   "metadata": {},
   "outputs": [
    {
     "name": "stdout",
     "output_type": "stream",
     "text": [
      "0.97686375321336764Time:  7.656505446881056\n",
      "#centers 389\n",
      "56027 56027 389 389\n",
      "     tile      x      y  umi  cell  centerX  centerY  centerMax\n",
      "17   2119  10594   7472    2  1206    10975     7630         51\n",
      "66   2119   9878  21551    1  1282    10104    21342         22\n",
      "141  2119  11249  24098    1  1178    11511    23933         15\n",
      "154  2119  14766  18984    1   953    14924    18999         24\n",
      "156  2119   9391  22924    1  1343     8856    22956         50\n"
     ]
    },
    {
     "name": "stderr",
     "output_type": "stream",
     "text": [
      "/tmp/ipykernel_3942/981305515.py:68: SettingWithCopyWarning: \n",
      "A value is trying to be set on a copy of a slice from a DataFrame.\n",
      "Try using .loc[row_indexer,col_indexer] = value instead\n",
      "\n",
      "See the caveats in the documentation: https://pandas.pydata.org/pandas-docs/stable/user_guide/indexing.html#returning-a-view-versus-a-copy\n",
      "  unsp_seg_t['centerX'] = np.array(res0) # change to array before assign to avoid instability of pointer\n",
      "/tmp/ipykernel_3942/981305515.py:69: SettingWithCopyWarning: \n",
      "A value is trying to be set on a copy of a slice from a DataFrame.\n",
      "Try using .loc[row_indexer,col_indexer] = value instead\n",
      "\n",
      "See the caveats in the documentation: https://pandas.pydata.org/pandas-docs/stable/user_guide/indexing.html#returning-a-view-versus-a-copy\n",
      "  unsp_seg_t['centerY'] = np.array(res1)\n",
      "/tmp/ipykernel_3942/981305515.py:70: SettingWithCopyWarning: \n",
      "A value is trying to be set on a copy of a slice from a DataFrame.\n",
      "Try using .loc[row_indexer,col_indexer] = value instead\n",
      "\n",
      "See the caveats in the documentation: https://pandas.pydata.org/pandas-docs/stable/user_guide/indexing.html#returning-a-view-versus-a-copy\n",
      "  unsp_seg_t['centerMax'] = np.array(res2)\n"
     ]
    }
   ],
   "source": [
    "##### find cell center with unspMat_t and masks_t\n",
    "\n",
    "crop_cell_buffer_distance = 10 # croping a larger region than the actual cell region to avoid potential error\n",
    "npad = 1 # padding width in a intermidate step\n",
    "erosion_kernel = np.ones((2*dd+1, 2*dd+1), np.uint8) # erosion kernal \n",
    "\n",
    "df_t_gbC = df_seg_t.groupby('cell')\n",
    "cellUnique = unsp_seg_t.cell.unique().tolist()\n",
    "\n",
    "start = timeit.default_timer()\n",
    "\n",
    "centers = [] # unsp centers\n",
    "for i, c in enumerate(cellUnique):\n",
    "    if i % 1e1 == 0:\n",
    "        sys.stdout.write('' * 50 + '\\r' + str(i/len(cellUnique))) # percentage progress\n",
    "        sys.stdout.flush()\n",
    "                         \n",
    "    try:\n",
    "        # df for cell-c type-t\n",
    "        df_t_c = df_t_gbC.get_group(c).copy()\n",
    "        xmin_ = df_t_c.x.min()\n",
    "        xmax_ = df_t_c.x.max()\n",
    "        ymin_ = df_t_c.y.min()\n",
    "        ymax_ = df_t_c.y.max()\n",
    "\n",
    "        unspMat_t_c = unspMat_t[(xmin_-crop_cell_buffer_distance):(xmax_+crop_cell_buffer_distance), (ymin_-crop_cell_buffer_distance):(ymax_+crop_cell_buffer_distance)]\n",
    "        masks_t_c = masks_t[(xmin_-crop_cell_buffer_distance):(xmax_+crop_cell_buffer_distance), (ymin_-crop_cell_buffer_distance):(ymax_+crop_cell_buffer_distance)]\n",
    "\n",
    "        # process mask_t_c\n",
    "        mask_t_c_binary = (masks_t_c == c).astype(np.uint8) # binary mask\n",
    "        mask_t_c_binary_padded = np.pad(mask_t_c_binary, npad, mode='constant') # pad for better erosion\n",
    "        mask_t_c_binary_padded_erosion = cv2.erode(mask_t_c_binary_padded, erosion_kernel, iterations=1) # erosion\n",
    "        mask_t_c_binary_padded_erosion_depadded = mask_t_c_binary_padded_erosion[npad:-npad,npad:-npad] # remove padding\n",
    "\n",
    "        # keep unspliced density within the desired area, and looking for maximum\n",
    "        unspmask_t_c = unspMat_t_c*mask_t_c_binary_padded_erosion_depadded\n",
    "        center_c = np.where(unspmask_t_c == unspmask_t_c.max())\n",
    "        center_c2 = [round(np.mean(center_c[0])+(xmin_-crop_cell_buffer_distance)), round(np.mean(center_c[1])+(ymin_-crop_cell_buffer_distance))]\n",
    "\n",
    "        # save detected center, cell label, and unspliced density value at center\n",
    "        centers.append([center_c2[0], center_c2[1], c, unspmask_t_c.max()])\n",
    "\n",
    "    except:\n",
    "        centers.append([0,0,c,0])\n",
    "        \n",
    "stop = timeit.default_timer()\n",
    "print('Time: ', stop - start) \n",
    "print('#centers', len(centers))\n",
    "\n",
    "# add cell center to unsp_seg_t\n",
    "data = unsp_seg_t.cell.tolist()\n",
    "keys = np.array(centers)[:,2]\n",
    "vals = np.array(centers)[:,[0,1,3]]\n",
    "memo = defaultdict(lambda: (0, 0, 0))\n",
    "for k, v in zip(keys, vals):\n",
    "    if k not in memo:\n",
    "        memo[k] = v\n",
    "    else:\n",
    "        raise ValueError('duplicated keys')\n",
    "\n",
    "res0 = list(map(lambda x: memo[x][0], data))\n",
    "res1 = list(map(lambda x: memo[x][1], data))\n",
    "res2 = list(map(lambda x: memo[x][2], data))\n",
    "\n",
    "print(len(res0), len(data), len(keys), len(vals))\n",
    "\n",
    "# append\n",
    "unsp_seg_t['centerX'] = np.array(res0) # change to array before assign to avoid instability of pointer\n",
    "unsp_seg_t['centerY'] = np.array(res1)\n",
    "unsp_seg_t['centerMax'] = np.array(res2)\n",
    "print(unsp_seg_t.head())"
   ]
  },
  {
   "cell_type": "code",
   "execution_count": 156,
   "id": "1fcc595a",
   "metadata": {},
   "outputs": [
    {
     "data": {
      "image/png": "[encoded data removed]",
      "text/plain": [
       "<Figure size 500x300 with 1 Axes>"
      ]
     },
     "metadata": {},
     "output_type": "display_data"
    }
   ],
   "source": [
    "##### print the quantiles and hist the unspMat value at center\n",
    "# print(np.quantile(np.array(centers)[:,3], np.linspace(0.1, 1, num=10))) # comment this out to save time\n",
    "\n",
    "fig, ax = plt.subplots(1,1, figsize=(5,3))\n",
    "n, bins, patches = ax.hist(np.array(centers)[:,3])"
   ]
  },
  {
   "cell_type": "code",
   "execution_count": 157,
   "id": "7fda26d3",
   "metadata": {},
   "outputs": [
    {
     "name": "stdout",
     "output_type": "stream",
     "text": [
      "q = 25.0\n",
      "389\n",
      "122\n",
      "(389, 4)\n",
      "(389, 4)\n",
      "(122, 4)\n"
     ]
    }
   ],
   "source": [
    "##### keep cells with unspMat value at center > q \n",
    "# where q is 95% quantile of unspMat on the tile\n",
    "# this is step is quanlity control, filter out cells with small unspliced value at detected center\n",
    "q = np.quantile(unspMat_t, 0.95)\n",
    "print('q =', q)\n",
    "\n",
    "unsp_seg_t_ = unsp_seg_t\n",
    "centers_bkp = centers\n",
    "\n",
    "print(unsp_seg_t.cell.nunique())\n",
    "unsp_seg_t = unsp_seg_t[unsp_seg_t.centerMax>q]\n",
    "print(unsp_seg_t.cell.nunique())\n",
    "\n",
    "print(np.array(centers_bkp).shape)\n",
    "print(np.array(centers).shape)\n",
    "centers2 = np.array(centers)[np.array(centers)[:,3]>q,:]\n",
    "print(centers2.shape)"
   ]
  },
  {
   "cell_type": "code",
   "execution_count": 158,
   "id": "7c94bdfa",
   "metadata": {},
   "outputs": [
    {
     "name": "stdout",
     "output_type": "stream",
     "text": [
      "q = 336.0\n",
      "(122, 4)\n",
      "(93, 4)\n"
     ]
    }
   ],
   "source": [
    "##### keep cells with spMat value at center < q \n",
    "# where q is 95% quantile of spMat on the tile\n",
    "# this is step is quanlity control, filter out cells with large spliced value at detected center\n",
    "q = np.quantile(spMat_t, 0.95)\n",
    "print('q =', q)\n",
    "\n",
    "centers3 = []\n",
    "for i in range(centers2.shape[0]):\n",
    "    if spMat_t[centers2[i,0], centers2[i,1]] < q:\n",
    "        centers3.append(centers2[i,:])\n",
    "centers3 = np.array(centers3)\n",
    "print(centers2.shape)\n",
    "print(centers3.shape)"
   ]
  },
  {
   "cell_type": "raw",
   "id": "41fee60b",
   "metadata": {},
   "source": [
    "##### visualize overlay \n",
    "# note: plotting takes quite some time! comment this out if want to save time\n",
    "fig, ax = plt.subplots(1,1, figsize=(30,30))\n",
    "\n",
    "# ax.imshow(im_t,\n",
    "#           cmap='Greys',\n",
    "#           origin='lower')\n",
    "\n",
    "# mask_ = masks_t.copy()\n",
    "# ax.imshow(mask_,\n",
    "#           cmap='jet',\n",
    "#           alpha=0.2,\n",
    "#           origin='lower')\n",
    "\n",
    "# ax.scatter(unsp_t.y, \n",
    "#            unsp_t.x,\n",
    "#            c=unsp_t.umi,\n",
    "#            s=1,\n",
    "#            vmin=0,\n",
    "#            vmax=20,\n",
    "#            cmap='green_alpha')\n",
    "\n",
    "ax.imshow(unspMat_t*(unspMat_t>np.quantile(unspMat_t, 0.95)),\n",
    "          vmin=0,\n",
    "          vmax=100,\n",
    "          cmap='green_alpha',\n",
    "          origin='lower')\n",
    "\n",
    "ax.imshow(spMat_t*(spMat_t>np.quantile(spMat_t, 0.95)),\n",
    "          vmin=0,\n",
    "          vmax=1000,\n",
    "          alpha=0.5,\n",
    "          cmap='pink_alpha',\n",
    "          origin='lower')\n",
    "\n",
    "gn = 'Alb'\n",
    "df_g = df_t[df_t.geneID == gn]\n",
    "ax.scatter(df_g.y, \n",
    "           df_g.x,\n",
    "           c=df_g.umi,\n",
    "           s=5,\n",
    "           cmap='blue_alpha')\n",
    "\n",
    "df_mt = df_t[df_t.geneID.isin(mtList)]\n",
    "ax.scatter(df_mt.y, \n",
    "           df_mt.x,\n",
    "           c=df_mt.umi,\n",
    "           vmin=0,\n",
    "           vmax=10,\n",
    "           s=2,\n",
    "           cmap='purple_alpha')\n",
    "\n",
    "df_n = df_t[df_t.geneID.isin(nucleusList)]\n",
    "ax.scatter(df_n.y, \n",
    "           df_n.x,\n",
    "           c=df_n.umi,\n",
    "           vmin=0,\n",
    "           vmax=2,\n",
    "           s=2,\n",
    "           cmap='black_alpha')\n",
    "\n",
    "c_arr = np.array(centers3)\n",
    "ax.scatter(c_arr[:,1],\n",
    "           c_arr[:,0],\n",
    "           c='red', \n",
    "           marker='+', \n",
    "           s=60)\n",
    "\n",
    "ax.imshow(outlines_t,\n",
    "          vmin=0,\n",
    "          vmax=2,\n",
    "          cmap='red_alpha',\n",
    "          origin='lower')\n",
    "\n",
    "ax.set_aspect('equal', adjustable='box')\n",
    "ax.grid(False)\n",
    "plt.suptitle('tile'+str(t)+'\\n'+\n",
    "             'overlay_unsp_sp_'+gn+'(blue)'+'mt(purple)'+'nucleus(black)'+'\\n'+\n",
    "             'unsp95Q='+str(np.quantile(unspMat_t, 0.95))+'\\n'+\n",
    "             'sp95Q='+str(np.quantile(spMat_t, 0.95))+'\\n\\n')\n",
    "plt.tight_layout()\n",
    "fig.savefig('output_fig/step4_tile'+str(t)+'.pdf', dpi=300)"
   ]
  },
  {
   "cell_type": "code",
   "execution_count": 159,
   "id": "abfd0c6f",
   "metadata": {},
   "outputs": [
    {
     "name": "stdout",
     "output_type": "stream",
     "text": [
      "1340148 1340148 93 93\n",
      "    geneID  tile      x      y  umi  cell  centerX  centerY\n",
      "9     Xkr4  2119  15415  12910    1   922        0        0\n",
      "63    Xkr4  2119   7335  17544    1  1505        0        0\n",
      "91    Xkr4  2119   5500   4874    1  1644        0        0\n",
      "100   Xkr4  2119  21663   4800    1   487        0        0\n",
      "133   Xkr4  2119  16120  18758    1   838        0        0\n"
     ]
    },
    {
     "name": "stderr",
     "output_type": "stream",
     "text": [
      "/tmp/ipykernel_3942/4185082631.py:22: SettingWithCopyWarning: \n",
      "A value is trying to be set on a copy of a slice from a DataFrame.\n",
      "Try using .loc[row_indexer,col_indexer] = value instead\n",
      "\n",
      "See the caveats in the documentation: https://pandas.pydata.org/pandas-docs/stable/user_guide/indexing.html#returning-a-view-versus-a-copy\n",
      "  df_seg_t['centerX'] = np.array(res0)\n",
      "/tmp/ipykernel_3942/4185082631.py:23: SettingWithCopyWarning: \n",
      "A value is trying to be set on a copy of a slice from a DataFrame.\n",
      "Try using .loc[row_indexer,col_indexer] = value instead\n",
      "\n",
      "See the caveats in the documentation: https://pandas.pydata.org/pandas-docs/stable/user_guide/indexing.html#returning-a-view-versus-a-copy\n",
      "  df_seg_t['centerY'] = np.array(res1)\n"
     ]
    }
   ],
   "source": [
    "##### find cell center for df_seg_t\n",
    "\n",
    "centers = centers3 # <<<<< centers after QC\n",
    "\n",
    "# add cell center to df_seg_t\n",
    "data = df_seg_t.cell.tolist()\n",
    "keys = np.array(centers)[:,2]\n",
    "vals = np.array(centers)[:,:2]\n",
    "memo = defaultdict(lambda: (0, 0))\n",
    "for k, v in zip(keys, vals):\n",
    "    if k not in memo:\n",
    "        memo[k] = v\n",
    "    else:\n",
    "        raise ValueError('duplicated keys')\n",
    "\n",
    "res0 = list(map(lambda x: memo[x][0], data))\n",
    "res1 = list(map(lambda x: memo[x][1], data))\n",
    "\n",
    "print(len(res0), len(data), len(keys), len(vals))\n",
    "\n",
    "# append\n",
    "df_seg_t['centerX'] = np.array(res0)\n",
    "df_seg_t['centerY'] = np.array(res1)\n",
    "print(df_seg_t.head())"
   ]
  },
  {
   "cell_type": "code",
   "execution_count": 160,
   "id": "4152231c",
   "metadata": {},
   "outputs": [],
   "source": [
    "##### save df_seg_t, unsp_seg_t, centers (after QC)\n",
    "outfile = 'output_step4/crop_tile'+str(t)+'.pkl'\n",
    "# save\n",
    "pickle_dict = {}\n",
    "pickle_dict['df_seg_'+str(t)] = df_seg_t\n",
    "pickle_dict['unsp_seg_'+str(t)] = unsp_seg_t\n",
    "pickle_dict['sp_seg_'+str(t)] = sp_seg_t\n",
    "pickle_dict['centers_'+str(t)] = centers\n",
    "with open(outfile, 'wb') as f:\n",
    "    pickle.dump(pickle_dict, f)"
   ]
  },
  {
   "cell_type": "code",
   "execution_count": null,
   "id": "2bfb9a33",
   "metadata": {},
   "outputs": [],
   "source": []
  }
 ],
 "metadata": {
  "kernelspec": {
   "display_name": "Python 3 (ipykernel)",
   "language": "python",
   "name": "python3"
  },
  "language_info": {
   "codemirror_mode": {
    "name": "ipython",
    "version": 3
   },
   "file_extension": ".py",
   "mimetype": "text/x-python",
   "name": "python",
   "nbconvert_exporter": "python",
   "pygments_lexer": "ipython3",
   "version": "3.10.14"
  }
 },
 "nbformat": 4,
 "nbformat_minor": 5
}
