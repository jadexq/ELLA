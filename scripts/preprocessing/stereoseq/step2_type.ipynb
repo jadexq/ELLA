{
 "cells": [
  {
   "cell_type": "markdown",
   "id": "1f1270c6",
   "metadata": {},
   "source": [
    "### Step2: cell type clustering using marker genes\n",
    "\n",
    "25 types based on 77/75 marker genes\\\n",
    "combine all regions R1-R8"
   ]
  },
  {
   "cell_type": "code",
   "execution_count": 18,
   "id": "8337ea84",
   "metadata": {},
   "outputs": [],
   "source": [
    "import numpy as np\n",
    "import pandas as pd \n",
    "import matplotlib.pyplot as plt\n",
    "import pickle\n",
    "from collections import defaultdict\n",
    "from collections import Counter\n",
    "import timeit\n",
    "# pd.options.mode.chained_assignment = None  # default='warn'"
   ]
  },
  {
   "cell_type": "markdown",
   "id": "6397fab1",
   "metadata": {},
   "source": [
    "### Step5.1: prepare data for cell typing"
   ]
  },
  {
   "cell_type": "markdown",
   "id": "2263278d",
   "metadata": {},
   "source": [
    "#### Load cropped data"
   ]
  },
  {
   "cell_type": "code",
   "execution_count": 3,
   "id": "7b415889",
   "metadata": {},
   "outputs": [
    {
     "name": "stdout",
     "output_type": "stream",
     "text": [
      "R = 1\n",
      "R = 2\n",
      "R = 3\n",
      "R = 4\n",
      "R = 5\n",
      "R = 6\n",
      "R = 7\n",
      "R = 8\n",
      "dict_keys(['R1_bin1', 'R2_bin1', 'R3_bin1', 'R4_bin1', 'R5_bin1', 'R6_bin1', 'R7_bin1', 'R8_bin1'])\n",
      "    geneID      x      y  umi    xr    yr   cell  centerX_r  centerY_r  \\\n",
      "12    Cr1l  26717  13204    1   717  3704  12014        712       3700   \n",
      "32    Cr1l  28282  14437    1  2282  4937  35736       2291       4944   \n",
      "140   Cr1l  29228  15955    1  3228  6455  49512       3234       6442   \n",
      "454   Cr1l  28116  13051    1  2116  3551  33156       2114       3556   \n",
      "459   Cr1l  26934  12445    1   934  2945  15337        946       2941   \n",
      "\n",
      "     centerX  centerY  \n",
      "12     26712    13200  \n",
      "32     28291    14444  \n",
      "140    29234    15942  \n",
      "454    28114    13056  \n",
      "459    26946    12441  \n",
      "(64749821, 12)\n",
      "    geneID      x      y  umi    xr    yr   cell  centerX_r  centerY_r  \\\n",
      "12    Cr1l  26717  13204    1   717  3704  12014        712       3700   \n",
      "32    Cr1l  28282  14437    1  2282  4937  35736       2291       4944   \n",
      "140   Cr1l  29228  15955    1  3228  6455  49512       3234       6442   \n",
      "454   Cr1l  28116  13051    1  2116  3551  33156       2114       3556   \n",
      "459   Cr1l  26934  12445    1   934  2945  15337        946       2941   \n",
      "\n",
      "     centerX  centerY  cell_E1S3  \n",
      "12     26712    13200      12014  \n",
      "32     28291    14444      35736  \n",
      "140    29234    15942      49512  \n",
      "454    28114    13056      33156  \n",
      "459    26946    12441      15337  \n",
      "(64749821, 12)\n",
      "    geneID      x      y  umi    xr    yr  cell_r  centerX_r  centerY_r  \\\n",
      "12    Cr1l  26717  13204    1   717  3704   12014        712       3700   \n",
      "32    Cr1l  28282  14437    1  2282  4937   35736       2291       4944   \n",
      "140   Cr1l  29228  15955    1  3228  6455   49512       3234       6442   \n",
      "454   Cr1l  28116  13051    1  2116  3551   33156       2114       3556   \n",
      "459   Cr1l  26934  12445    1   934  2945   15337        946       2941   \n",
      "\n",
      "     centerX  centerY   cell  \n",
      "12     26712    13200  12014  \n",
      "32     28291    14444  35736  \n",
      "140    29234    15942  49512  \n",
      "454    28114    13056  33156  \n",
      "459    26946    12441  15337  \n"
     ]
    }
   ],
   "source": [
    "##### Load bin1 R1-R8 and add some more stats\n",
    "\n",
    "bin1_dict = {}\n",
    "for r in range(1,9):\n",
    "    print('R =', r)\n",
    "    filename = 'output_step1/crop_R'+str(r)+'_dict.pkl'\n",
    "    # load\n",
    "    with open(filename, 'rb') as f:\n",
    "        pickle_dict = pickle.load(f)\n",
    "    bin1 = pickle_dict['bin1']\n",
    "    bin1_dict['R'+str(r)+'_bin1'] = bin1\n",
    "\n",
    "print(bin1_dict.keys())\n",
    "print(bin1_dict['R1_bin1'].head())\n",
    "\n",
    "bin1_R1 = bin1_dict['R1_bin1'].copy()\n",
    "bin1_R2 = bin1_dict['R2_bin1'].copy()\n",
    "bin1_R3 = bin1_dict['R3_bin1'].copy()\n",
    "bin1_R4 = bin1_dict['R4_bin1'].copy()\n",
    "bin1_R5 = bin1_dict['R5_bin1'].copy()\n",
    "bin1_R6 = bin1_dict['R6_bin1'].copy()\n",
    "bin1_R7 = bin1_dict['R7_bin1'].copy()\n",
    "bin1_R8 = bin1_dict['R8_bin1'].copy()\n",
    "\n",
    "# create cell label cross entire E1S3\n",
    "bin1_R1['cell_E1S3'] = bin1_R1.cell.copy()\n",
    "# bin1_R2['cell_E1S3'] = bin1_R2.cell.copy() + bin1_R1.cell_E1S3.max() #74777\n",
    "# bin1_R3['cell_E1S3'] = bin1_R3.cell.copy() + bin1_R2.cell_E1S3.max() #127607\n",
    "# bin1_R4['cell_E1S3'] = bin1_R4.cell.copy() + bin1_R3.cell_E1S3.max() #234033\n",
    "# bin1_R5['cell_E1S3'] = bin1_R5.cell.copy() + bin1_R4.cell_E1S3.max() #316767\n",
    "# bin1_R6['cell_E1S3'] = bin1_R6.cell.copy() + bin1_R5.cell_E1S3.max() #404015\n",
    "# bin1_R7['cell_E1S3'] = bin1_R7.cell.copy() + bin1_R6.cell_E1S3.max() #483711\n",
    "# bin1_R8['cell_E1S3'] = bin1_R8.cell.copy() + bin1_R7.cell_E1S3.max() #528038\n",
    "bin1_R2['cell_E1S3'] = bin1_R2.cell.copy() + 74777\n",
    "bin1_R3['cell_E1S3'] = bin1_R3.cell.copy() + 127607\n",
    "bin1_R4['cell_E1S3'] = bin1_R4.cell.copy() + 234033\n",
    "bin1_R5['cell_E1S3'] = bin1_R5.cell.copy() + 316767\n",
    "bin1_R6['cell_E1S3'] = bin1_R6.cell.copy() + 404015\n",
    "bin1_R7['cell_E1S3'] = bin1_R7.cell.copy() + 483711\n",
    "bin1_R8['cell_E1S3'] = bin1_R8.cell.copy() + 528038\n",
    "\n",
    "# concatenate bin_R1-binR8\n",
    "bin1 = pd.concat([bin1_R1, bin1_R2, bin1_R3, bin1_R4, \n",
    "                  bin1_R5, bin1_R6, bin1_R7, bin1_R8])\n",
    "print(bin1.shape) \n",
    "print(bin1.head())\n",
    "\n",
    "# rename cols\n",
    "bin1 = bin1.rename(columns={'cell': 'cell_r', 'cell_E1S3': 'cell'})\n",
    "print(bin1.shape) \n",
    "print(bin1.head())"
   ]
  },
  {
   "cell_type": "code",
   "execution_count": 6,
   "id": "6e9a27d4",
   "metadata": {},
   "outputs": [
    {
     "name": "stdout",
     "output_type": "stream",
     "text": [
      "   cell         geneID      x      y  umi  xr    yr  cell_r  centerX_r  \\\n",
      "0   308  0610012G03Rik  26007  10145    1   7   645     308         19   \n",
      "1   312  2600014E21Rik  26007  11077    1   7  1577     312         15   \n",
      "2   330  0610009B22Rik  26008  10931    1   8  1431     330         18   \n",
      "3   331  1700007G11Rik  26008  11119    1   8  1619     331         23   \n",
      "4   332  1700007G11Rik  26012  11788    1  12  2288     332         16   \n",
      "\n",
      "   centerY_r  centerX  centerY  \n",
      "0        664    26019    10164  \n",
      "1       1585    26015    11085  \n",
      "2       1439    26018    10939  \n",
      "3       1633    26023    11133  \n",
      "4       2299    26016    11799  \n",
      "   cell  geneID      x      y  umi  xr    yr  cell_r  centerX_r  centerY_r  \\\n",
      "0   308  mt-Nd6  26036  10175    5  36   675     308         19        664   \n",
      "1   312  mt-Nd6  26022  11092    4  22  1592     312         15       1585   \n",
      "2   330  mt-Nd1  26029  10947    4  29  1447     330         18       1439   \n",
      "3   331  mt-Nd6  26033  11141    4  33  1641     331         23       1633   \n",
      "4   332  mt-Nd4  26027  11809    4  27  2309     332         16       2299   \n",
      "\n",
      "   centerX  centerY  \n",
      "0    26019    10164  \n",
      "1    26015    11085  \n",
      "2    26018    10939  \n",
      "3    26023    11133  \n",
      "4    26016    11799  \n",
      "0\n",
      "99726 99726 99726\n",
      "64749821 64749821 99726 99726\n",
      "    geneID      x      y  umi    xr    yr  cell_r  centerX_r  centerY_r  \\\n",
      "12    Cr1l  26717  13204    1   717  3704   12014        712       3700   \n",
      "32    Cr1l  28282  14437    1  2282  4937   35736       2291       4944   \n",
      "140   Cr1l  29228  15955    1  3228  6455   49512       3234       6442   \n",
      "454   Cr1l  28116  13051    1  2116  3551   33156       2114       3556   \n",
      "459   Cr1l  26934  12445    1   934  2945   15337        946       2941   \n",
      "\n",
      "     centerX  centerY   cell  sc_xrange  sc_yrange  \n",
      "12     26712    13200  12014         36         25  \n",
      "32     28291    14444  35736         35         33  \n",
      "140    29234    15942  49512         20         25  \n",
      "454    28114    13056  33156         15         27  \n",
      "459    26946    12441  15337         27         14  \n",
      "64749821 64749821 99726 99726\n",
      "    geneID      x      y  umi    xr    yr  cell_r  centerX_r  centerY_r  \\\n",
      "12    Cr1l  26717  13204    1   717  3704   12014        712       3700   \n",
      "32    Cr1l  28282  14437    1  2282  4937   35736       2291       4944   \n",
      "140   Cr1l  29228  15955    1  3228  6455   49512       3234       6442   \n",
      "454   Cr1l  28116  13051    1  2116  3551   33156       2114       3556   \n",
      "459   Cr1l  26934  12445    1   934  2945   15337        946       2941   \n",
      "\n",
      "     centerX  centerY   cell  sc_xrange  sc_yrange  sc_xmin  sc_xmax  sc_ymin  \\\n",
      "12     26712    13200  12014         36         25    26704    26740    13191   \n",
      "32     28291    14444  35736         35         33    28271    28306    14417   \n",
      "140    29234    15942  49512         20         25    29225    29245    15933   \n",
      "454    28114    13056  33156         15         27    28106    28121    13042   \n",
      "459    26946    12441  15337         27         14    26928    26955    12435   \n",
      "\n",
      "     sc_ymax  \n",
      "12     13216  \n",
      "32     14450  \n",
      "140    15958  \n",
      "454    13069  \n",
      "459    12449  \n"
     ]
    },
    {
     "name": "stderr",
     "output_type": "stream",
     "text": [
      "/tmp/ipykernel_35550/590344275.py:105: FutureWarning: The default value of numeric_only in DataFrameGroupBy.sum is deprecated. In a future version, numeric_only will default to False. Either specify numeric_only or select only columns which should be valid for the function.\n",
      "  scagt = bin1.groupby(['cell']).sum().reset_index()\n"
     ]
    },
    {
     "name": "stdout",
     "output_type": "stream",
     "text": [
      "   cell         x         y   umi     xr       yr  cell_r  centerX_r  \\\n",
      "0   308  28807383  11245718  1572  25383   729218  340956      21033   \n",
      "1   312   9729769   4145575   529   5769   592575  116688       5610   \n",
      "2   330  12749391   5360124   713   9391   705124  161700       8820   \n",
      "3   331  15717895   6723682   882  13895   985682  199924      13892   \n",
      "4   332  15766746   7150062   867  10746  1393062  201192       9696   \n",
      "\n",
      "   centerY_r   centerX   centerY  sc_xrange  sc_yrange   sc_xmin   sc_xmax  \\\n",
      "0     735048  28803033  11251548      32103      33210  28789749  28821852   \n",
      "1     592790   9729610   4145790       5610       5610   9726618   9732228   \n",
      "2     705110  12748820   5360110      10290       7840  12743920  12754210   \n",
      "3     986332  15717892   6724332      15100      13288  15708832  15723932   \n",
      "4    1393194  15765696   7150194       9090      12726  15763272  15772362   \n",
      "\n",
      "    sc_ymin   sc_ymax  \n",
      "0  11230515  11263725  \n",
      "1   4142798   4148408  \n",
      "2   5356190   5364030  \n",
      "3   6715876   6729164  \n",
      "4   7143528   7156254  \n",
      "64749821 64749821 99726 99726\n",
      "    geneID      x      y  umi    xr    yr  cell_r  centerX_r  centerY_r  \\\n",
      "12    Cr1l  26717  13204    1   717  3704   12014        712       3700   \n",
      "32    Cr1l  28282  14437    1  2282  4937   35736       2291       4944   \n",
      "140   Cr1l  29228  15955    1  3228  6455   49512       3234       6442   \n",
      "454   Cr1l  28116  13051    1  2116  3551   33156       2114       3556   \n",
      "459   Cr1l  26934  12445    1   934  2945   15337        946       2941   \n",
      "\n",
      "     centerX  centerY   cell  sc_xrange  sc_yrange  sc_xmin  sc_xmax  sc_ymin  \\\n",
      "12     26712    13200  12014         36         25    26704    26740    13191   \n",
      "32     28291    14444  35736         35         33    28271    28306    14417   \n",
      "140    29234    15942  49512         20         25    29225    29245    15933   \n",
      "454    28114    13056  33156         15         27    28106    28121    13042   \n",
      "459    26946    12441  15337         27         14    26928    26955    12435   \n",
      "\n",
      "     sc_ymax  sc_total  \n",
      "12     13216      1666  \n",
      "32     14450      1367  \n",
      "140    15958       736  \n",
      "454    13069       825  \n",
      "459    12449       671  \n",
      "cell\n",
      "308    683\n",
      "312    314\n",
      "330    368\n",
      "331    475\n",
      "332    370\n",
      "Name: geneID, dtype: int64\n",
      "64749821 64749821 99726 99726\n",
      "    geneID      x      y  umi    xr    yr  cell_r  centerX_r  centerY_r  \\\n",
      "12    Cr1l  26717  13204    1   717  3704   12014        712       3700   \n",
      "32    Cr1l  28282  14437    1  2282  4937   35736       2291       4944   \n",
      "140   Cr1l  29228  15955    1  3228  6455   49512       3234       6442   \n",
      "454   Cr1l  28116  13051    1  2116  3551   33156       2114       3556   \n",
      "459   Cr1l  26934  12445    1   934  2945   15337        946       2941   \n",
      "\n",
      "     centerX  centerY   cell  sc_xrange  sc_yrange  sc_xmin  sc_xmax  sc_ymin  \\\n",
      "12     26712    13200  12014         36         25    26704    26740    13191   \n",
      "32     28291    14444  35736         35         33    28271    28306    14417   \n",
      "140    29234    15942  49512         20         25    29225    29245    15933   \n",
      "454    28114    13056  33156         15         27    28106    28121    13042   \n",
      "459    26946    12441  15337         27         14    26928    26955    12435   \n",
      "\n",
      "     sc_ymax  sc_total  sc_ngene  \n",
      "12     13216      1666       724  \n",
      "32     14450      1367       689  \n",
      "140    15958       736       442  \n",
      "454    13069       825       408  \n",
      "459    12449       671       340  \n"
     ]
    }
   ],
   "source": [
    "##### add cols\n",
    "\n",
    "### compute x/yrange\n",
    "min_ = bin1.groupby(['cell']).min().reset_index()\n",
    "print(min_.head())\n",
    "max_ = bin1.groupby(['cell']).max().reset_index()\n",
    "print(max_.head())\n",
    "\n",
    "# check if match\n",
    "print(sum(max_.cell != min_.cell)) \n",
    "# expect =0\n",
    "\n",
    "# compute range\n",
    "xrange_ = max_.x - min_.x \n",
    "yrange_ = max_.y - min_.y \n",
    "cell_range_ = max_.cell \n",
    "print(len(xrange_), len(yrange_), len(cell_range_))\n",
    "\n",
    "# append xrange_ yrange_ to bin1\n",
    "data = bin1.cell.tolist()\n",
    "keys = cell_range_.tolist()\n",
    "vals = np.array((xrange_.tolist(), yrange_.tolist())).T\n",
    "memo = defaultdict(lambda: (0, 0))\n",
    "for k, v in zip(keys, vals):\n",
    "    if k not in memo:\n",
    "        memo[k] = v\n",
    "    else:\n",
    "        raise ValueError('duplicated keys')\n",
    "\n",
    "res0 = list(map(lambda x: memo[x][0], data))\n",
    "res1 = list(map(lambda x: memo[x][1], data))\n",
    "\n",
    "print(len(res0), len(data), len(keys), len(vals))\n",
    "\n",
    "bin1['sc_xrange'] = np.array(res0)\n",
    "bin1['sc_yrange'] = np.array(res1)\n",
    "print(bin1.head())\n",
    "\n",
    "### append x/y min/max to bin1\n",
    "data = bin1.cell.tolist()\n",
    "keys = min_.cell.tolist()\n",
    "vals = np.array((min_.x.tolist(), max_.x.tolist(), min_.y.tolist(), max_.y.tolist())).T\n",
    "memo = defaultdict(lambda: (0, 0, 0, 0))\n",
    "for k, v in zip(keys, vals):\n",
    "    if k not in memo:\n",
    "        memo[k] = v\n",
    "    else:\n",
    "        raise ValueError('duplicated keys')\n",
    "\n",
    "res0 = list(map(lambda x: memo[x][0], data))\n",
    "res1 = list(map(lambda x: memo[x][1], data))\n",
    "res2 = list(map(lambda x: memo[x][2], data))\n",
    "res3 = list(map(lambda x: memo[x][3], data))\n",
    "\n",
    "print(len(res0), len(data), len(keys), len(vals)) \n",
    "\n",
    "bin1['sc_xmin'] = np.array(res0)\n",
    "bin1['sc_xmax'] = np.array(res1)\n",
    "bin1['sc_ymin'] = np.array(res2)\n",
    "bin1['sc_ymax'] = np.array(res3)\n",
    "print(bin1.head())\n",
    "\n",
    "### sc total counts\n",
    "scagt = bin1.groupby(['cell']).sum().reset_index()\n",
    "print(scagt.head())\n",
    "# print(scagt.umi.quantile([0.1,0.5,0.9])) # comment out to save time\n",
    "\n",
    "# append\n",
    "data = bin1['cell'].tolist()\n",
    "keys = scagt.cell.tolist()\n",
    "vals = scagt.umi.tolist()\n",
    "memo = defaultdict(int)\n",
    "for k, v in zip(keys, vals):\n",
    "    if k not in memo:\n",
    "        memo[k] = v\n",
    "    else:\n",
    "        raise ValueError('duplicated keys')\n",
    "res = list(map(lambda x: memo[x], data))  \n",
    "\n",
    "print(len(res), len(data), len(keys), len(vals)) \n",
    "\n",
    "bin1['sc_total'] = np.array(res)\n",
    "print(bin1.head()) \n",
    "\n",
    "### sc number of genes\n",
    "sc_ngenes = bin1.groupby('cell')['geneID'].nunique() \n",
    "# print(sc_ngenes.quantile([0.1,0.5,0.9])) # comment out to save time\n",
    "print(sc_ngenes.head())\n",
    "\n",
    "# append\n",
    "data = bin1['cell'].tolist()\n",
    "keys = sc_ngenes.index.tolist()\n",
    "vals = sc_ngenes.tolist()\n",
    "memo = defaultdict(int)\n",
    "for k, v in zip(keys, vals):\n",
    "    if k not in memo:\n",
    "        memo[k] = v\n",
    "    else:\n",
    "        raise ValueError('duplicated keys')\n",
    "res = list(map(lambda x: memo[x], data))  \n",
    "\n",
    "print(len(res), len(data), len(keys), len(vals))\n",
    "\n",
    "bin1['sc_ngene'] = np.array(res)\n",
    "print(bin1.head()) "
   ]
  },
  {
   "cell_type": "code",
   "execution_count": 9,
   "id": "ad39a427",
   "metadata": {},
   "outputs": [
    {
     "name": "stdout",
     "output_type": "stream",
     "text": [
      "#cells = 99726\n"
     ]
    }
   ],
   "source": [
    "# number of cells\n",
    "print(f'#cells = {bin1.cell.nunique()}')"
   ]
  },
  {
   "cell_type": "code",
   "execution_count": 10,
   "id": "119ee774",
   "metadata": {},
   "outputs": [],
   "source": [
    "# change col name\n",
    "bin1 = bin1.rename(columns={'geneID': 'gene'})"
   ]
  },
  {
   "cell_type": "markdown",
   "id": "89f76417",
   "metadata": {},
   "source": [
    "### Step 5.2: naive cell typing\n",
    "\n",
    "for 77 (actually 75 unique) marker genes compute sc total counts with `bin1`\\\n",
    "use `sc_type25_norm_mat` for finding cell type with argmax\\\n",
    "for each cell (col), find the largest val (row idx) as the cell type"
   ]
  },
  {
   "cell_type": "code",
   "execution_count": 13,
   "id": "36fb57b9",
   "metadata": {},
   "outputs": [
    {
     "name": "stdout",
     "output_type": "stream",
     "text": [
      "77\n",
      "25\n",
      "(75, 99684)\n",
      "Time:  185.65546751767397\n",
      "(75, 99684)\n",
      "2590557\n",
      "99684 99684 99726 99726\n",
      "(75, 99684)\n",
      "(25, 99684)\n",
      "(25, 99684)\n"
     ]
    }
   ],
   "source": [
    "##### cell type markers for the whole E16.5 embryo \n",
    "\n",
    "# from `Markers_used_for_annotations_in_the_MOSTA.xlsx`\n",
    "marker77List = [\n",
    "    'Myl2', 'Myh7', 'Tnnt2', # Cardiomyocyte\n",
    "    'Col2a1', 'Col9a1', 'Col11a1', 'Runx2', # Chondrocyte\n",
    "    'Ttr','Enpp2', 'Igfbp2', # Choroid plexus\n",
    "    'Tfap2b', 'Lhx9', 'Zic1', # Dorsal midbrain neuron\n",
    "    'Nefl', 'Nefm', 'Sncg', # Ganglion\n",
    "    'Pecam1', 'Kdr','Ptprm', # Endothelial cell\n",
    "    'Krt4', 'Krtdap', 'Krt10', # Keratinocyte\n",
    "    'Krt19', 'Epcam', 'Krt8', 'Krt5', 'Adh1', 'Foxp2', # Epithelial cell\n",
    "    'Hba-a2', 'Hba-a1', 'Hbb-bs', # Erythrocyte\n",
    "    'Trps1', 'Pax3', 'Wnt5a', # Facial fibroblast\n",
    "    'Col1a2', 'Col3a1', 'Dcn', # Fibroblast\n",
    "    'Neurod6', 'Tbr1', 'Neurod2', # Forebrain neuron\n",
    "    'Fabp7', 'Sox2', 'Pou3f3', # Forebrain radial glia\n",
    "    'Afp', 'Alb', # Hepatocyte\n",
    "    'S100a8', 'S100a9', # Immune cell\n",
    "    'Mecom', 'Gas2', 'Ebf1', # Limb fibroblast\n",
    "    'Mrc1', 'C1qc', 'Csf1r', # Macrophage\n",
    "    'Ptgds', 'Trpm3', 'Ranbp3l', # Meninges cell\n",
    "    'Rtn1', 'Nnat', 'Stmn2', # Mid-/hindbrain and spinal cord neuron\n",
    "    'Acta1', 'Myl1', 'Myh3', # Myoblast\n",
    "    'Gstm1', 'Ebf2', 'Fstl5', # Olfactory epithelial cell\n",
    "    'Fabp7', 'Sox2', 'Slc1a3', # Radial glia\n",
    "    'Acta2', 'Myh11', 'Tagln', # Smooth muscle cell\n",
    "    'Npy', 'Cck', 'Lingo2', # Spinal cord neuron\n",
    "    'Tcf712', 'Ntng1', 'Tenm2'] # Diencephalon neuron\n",
    "print(len(marker77List)) # 77\n",
    "\n",
    "# cell type specific list\n",
    "marker77List2 = [\n",
    "    ['Myl2', 'Myh7', 'Tnnt2'], #1 Cardiomyocyte\n",
    "    ['Col2a1', 'Col9a1', 'Col11a1', 'Runx2'], #2 Chondrocyte\n",
    "    ['Ttr','Enpp2', 'Igfbp2'], #3 Choroid plexus\n",
    "    ['Tfap2b', 'Lhx9', 'Zic1'], #4 Dorsal midbrain neuron\n",
    "    ['Nefl', 'Nefm', 'Sncg'], #5 Ganglion\n",
    "    ['Pecam1', 'Kdr','Ptprm'], #6 Endothelial cell\n",
    "    ['Krt4', 'Krtdap', 'Krt10'], #7 Keratinocyte\n",
    "    ['Krt19', 'Epcam', 'Krt8', 'Krt5', 'Adh1', 'Foxp2'], #8 Epithelial cell\n",
    "    ['Hba-a2', 'Hba-a1', 'Hbb-bs'], #9 Erythrocyte\n",
    "    ['Trps1', 'Pax3', 'Wnt5a'], #10 Facial fibroblast\n",
    "    ['Col1a2', 'Col3a1', 'Dcn'], #11 Fibroblast\n",
    "    ['Neurod6', 'Tbr1', 'Neurod2'], #12 Forebrain neuron\n",
    "    ['Fabp7', 'Sox2', 'Pou3f3'], #13 Forebrain radial glia\n",
    "    ['Afp', 'Alb'], #14 Hepatocyte\n",
    "    ['S100a8', 'S100a9'], #15 Immune cell\n",
    "    ['Mecom', 'Gas2', 'Ebf1'], #16 Limb fibroblast\n",
    "    ['Mrc1', 'C1qc', 'Csf1r'], #17 Macrophage\n",
    "    ['Ptgds', 'Trpm3', 'Ranbp3l'], #18 Meninges cell\n",
    "    ['Rtn1', 'Nnat', 'Stmn2'], #19 Mid-/hindbrain and spinal cord neuron\n",
    "    ['Acta1', 'Myl1', 'Myh3'], #20 Myoblast\n",
    "    ['Gstm1', 'Ebf2', 'Fstl5'], #21 Olfactory epithelial cell\n",
    "    ['Fabp7', 'Sox2', 'Slc1a3'], #22 Radial glia\n",
    "    ['Acta2', 'Myh11', 'Tagln'], #23 Smooth muscle cell\n",
    "    ['Npy', 'Cck', 'Lingo2'], #24 Spinal cord neuron\n",
    "    ['Tcf712', 'Ntng1', 'Tenm2']] #25 Diencephalon neuron\n",
    "print(len(marker77List2)) # 25 cell types\n",
    "\n",
    "\n",
    "# keep unique 75 gene \n",
    "marker75List = np.unique(np.array(marker77List)).tolist() \n",
    "\n",
    "# keep 75 genes\n",
    "filter1 = bin1.gene.isin(marker75List)\n",
    "bin1_marker75 = bin1[filter1]\n",
    "\n",
    "# group by cell for fast computing\n",
    "groupbycell_ = bin1_marker75.groupby('cell')\n",
    "geneUnique = marker75List\n",
    "cellUnique = bin1_marker75.cell.unique().tolist() \n",
    "\n",
    "# dict for finding idx\n",
    "keys = geneUnique\n",
    "vals = np.arange(len(geneUnique)).tolist()\n",
    "memo = {}\n",
    "for k, v in zip(keys, vals):\n",
    "    if k not in memo:\n",
    "        memo[k] = v\n",
    "    else:\n",
    "        raise ValueError('duplicated keys')\n",
    "\n",
    "### sc_mat\n",
    "# gene by cell mat\n",
    "# geneUnique by cellUnique\n",
    "sc_mat = np.zeros((len(geneUnique), len(cellUnique)), dtype=int)\n",
    "print(sc_mat.shape) # (75, 589241)\n",
    "\n",
    "start = timeit.default_timer()\n",
    "\n",
    "for i, c in enumerate(cellUnique):\n",
    "    c_df = groupbycell_.get_group(c)\n",
    "    c_g_df = c_df.groupby(['gene']).sum().reset_index()\n",
    "    data = c_g_df.gene.tolist() \n",
    "    idx = list(map(lambda x: memo[x], data))\n",
    "    sc_mat[idx,i] = c_g_df.umi.tolist()\n",
    "\n",
    "stop = timeit.default_timer()\n",
    "print('Time: ', stop - start) \n",
    "\n",
    "print(sc_mat.shape) \n",
    "print(np.sum(sc_mat)) \n",
    "\n",
    "### normalize sc_mat -> `sc_norm_mat`\n",
    "# norm by sc_umi\n",
    "data = cellUnique\n",
    "keys = scagt.cell.tolist()\n",
    "vals = scagt.umi.tolist()\n",
    "memo = {}\n",
    "for k, v in zip(keys, vals):\n",
    "    if k not in memo:\n",
    "        memo[k] = v\n",
    "    else:\n",
    "        raise ValueError('duplicated keys')\n",
    "res = list(map(lambda x: memo[x], data))  \n",
    "\n",
    "print(len(res), len(data), len(keys), len(vals)) \n",
    "\n",
    "# print(np.quantile(res, [0.1,0.5,0.9])) # comment out to save time\n",
    "# print(np.amax(res)) # comment out to save time\n",
    "\n",
    "sc_norm_mat = np.zeros((len(geneUnique), len(cellUnique)))\n",
    "print(sc_norm_mat.shape) \n",
    "\n",
    "for r in range(len(geneUnique)):\n",
    "    sc_norm_mat[r,:] = 10000 * sc_mat[r,:].copy()/np.array(res)   \n",
    "    \n",
    "### compute the counts of 25 sets of genes\n",
    "sc_type25_mat = np.zeros((len(marker77List2), len(cellUnique)))\n",
    "print(sc_type25_mat.shape)\n",
    "\n",
    "for t in range(len(marker77List2)):\n",
    "    list_ = marker77List2[t]\n",
    "    \n",
    "    idx_ = []\n",
    "    for g in list_:\n",
    "        idx_.append(geneUnique.index(g))\n",
    "    \n",
    "    t_mat_ = sc_norm_mat[idx_,:]\n",
    "    sc_type25_mat[t,:] = np.sum(t_mat_, axis=0)\n",
    "print(sc_type25_mat.shape)\n",
    "# (25, 589241) -- revious number of cells\n",
    "# (25, 99684) -- current number of cells"
   ]
  },
  {
   "cell_type": "code",
   "execution_count": 15,
   "id": "a485e770",
   "metadata": {},
   "outputs": [
    {
     "name": "stdout",
     "output_type": "stream",
     "text": [
      "(25, 99684)\n"
     ]
    },
    {
     "data": {
      "text/plain": [
       "<matplotlib.colorbar.Colorbar at 0x7f9481cf3490>"
      ]
     },
     "execution_count": 15,
     "metadata": {},
     "output_type": "execute_result"
    },
    {
     "data": {
      "image/png": "[encoded data removed]",
      "text/plain": [
       "<Figure size 1500x500 with 2 Axes>"
      ]
     },
     "metadata": {},
     "output_type": "display_data"
    }
   ],
   "source": [
    "##### plot to check sc_type25_mat\n",
    "print(sc_type25_mat.shape) \n",
    "\n",
    "fig, ax = plt.subplots(1,1,figsize=(15, 5))\n",
    "im = plt.imshow(sc_type25_mat[:,:100])\n",
    "plt.colorbar(im, ax=ax, shrink=0.6)"
   ]
  },
  {
   "cell_type": "code",
   "execution_count": 16,
   "id": "634310aa",
   "metadata": {},
   "outputs": [
    {
     "name": "stdout",
     "output_type": "stream",
     "text": [
      "25 99684\n",
      "(25, 99684)\n"
     ]
    },
    {
     "data": {
      "text/plain": [
       "<matplotlib.colorbar.Colorbar at 0x7f8e00ad9150>"
      ]
     },
     "execution_count": 16,
     "metadata": {},
     "output_type": "execute_result"
    },
    {
     "data": {
      "image/png": "[encoded data removed]",
      "text/plain": [
       "<Figure size 1500x500 with 2 Axes>"
      ]
     },
     "metadata": {},
     "output_type": "display_data"
    }
   ],
   "source": [
    "##### norm sc_type25_mat both by row and by col \n",
    "# then use sc_type25_norm_mat for finding cell type!\n",
    "row_sum_ = np.sum(sc_type25_mat, axis=1) \n",
    "col_sum_ = np.sum(sc_type25_mat, axis=0) \n",
    "print(len(row_sum_), len(col_sum_))\n",
    "# 25 526509\n",
    "\n",
    "sc_type25_mat_r = sc_type25_mat / col_sum_\n",
    "sc_type25_norm_mat = (sc_type25_mat_r.T / row_sum_).T\n",
    "\n",
    "# plot to check sc_type25_norm_mat\n",
    "print(sc_type25_norm_mat.shape) \n",
    "# (25, 526509)\n",
    "\n",
    "fig, ax = plt.subplots(1,1,figsize=(15, 5))\n",
    "im = plt.imshow(sc_type25_norm_mat[:,:100])\n",
    "plt.colorbar(im, ax=ax, shrink=0.6)"
   ]
  },
  {
   "cell_type": "code",
   "execution_count": 17,
   "id": "6c8066ce",
   "metadata": {},
   "outputs": [
    {
     "name": "stdout",
     "output_type": "stream",
     "text": [
      "99684\n",
      "25\n",
      "Counter({19: 5988, 10: 5364, 7: 5159, 15: 4921, 9: 4768, 22: 4657, 5: 4562, 13: 4524, 6: 4500, 18: 4399, 8: 4341, 4: 4331, 20: 4317, 1: 4289, 12: 4168, 24: 4020, 3: 4006, 23: 3939, 16: 3383, 0: 2959, 17: 2922, 2: 2739, 14: 2369, 11: 2210, 21: 849})\n"
     ]
    }
   ],
   "source": [
    "##### use sc_type25_norm_mat for finding cell type\n",
    "# for each cell (col), find the largest val (row idx) as the cell type\n",
    "celltype = np.argmax(sc_type25_norm_mat, axis=0)\n",
    "print(len(celltype))\n",
    "print(len(np.unique(celltype))) \n",
    "\n",
    "print(Counter(celltype))"
   ]
  },
  {
   "cell_type": "code",
   "execution_count": 19,
   "id": "157708f6",
   "metadata": {
    "scrolled": true
   },
   "outputs": [
    {
     "name": "stdout",
     "output_type": "stream",
     "text": [
      "64749821 64749821 99684 99684\n",
      "     gene      x      y  umi    xr    yr  cell_r  centerX_r  centerY_r  \\\n",
      "12   Cr1l  26717  13204    1   717  3704   12014        712       3700   \n",
      "32   Cr1l  28282  14437    1  2282  4937   35736       2291       4944   \n",
      "140  Cr1l  29228  15955    1  3228  6455   49512       3234       6442   \n",
      "454  Cr1l  28116  13051    1  2116  3551   33156       2114       3556   \n",
      "459  Cr1l  26934  12445    1   934  2945   15337        946       2941   \n",
      "\n",
      "     centerX  ...   cell  sc_xrange  sc_yrange  sc_xmin  sc_xmax  sc_ymin  \\\n",
      "12     26712  ...  12014         36         25    26704    26740    13191   \n",
      "32     28291  ...  35736         35         33    28271    28306    14417   \n",
      "140    29234  ...  49512         20         25    29225    29245    15933   \n",
      "454    28114  ...  33156         15         27    28106    28121    13042   \n",
      "459    26946  ...  15337         27         14    26928    26955    12435   \n",
      "\n",
      "     sc_ymax  sc_total  sc_ngene  type  \n",
      "12     13216      1666       724    17  \n",
      "32     14450      1367       689    14  \n",
      "140    15958       736       442     8  \n",
      "454    13069       825       408    14  \n",
      "459    12449       671       340     2  \n",
      "\n",
      "[5 rows x 21 columns]\n",
      "0 25\n",
      "64735353\n",
      "     gene      x      y  umi    xr    yr  cell_r  centerX_r  centerY_r  \\\n",
      "12   Cr1l  26717  13204    1   717  3704   12014        712       3700   \n",
      "32   Cr1l  28282  14437    1  2282  4937   35736       2291       4944   \n",
      "140  Cr1l  29228  15955    1  3228  6455   49512       3234       6442   \n",
      "454  Cr1l  28116  13051    1  2116  3551   33156       2114       3556   \n",
      "459  Cr1l  26934  12445    1   934  2945   15337        946       2941   \n",
      "\n",
      "     centerX  ...   cell  sc_xrange  sc_yrange  sc_xmin  sc_xmax  sc_ymin  \\\n",
      "12     26712  ...  12014         36         25    26704    26740    13191   \n",
      "32     28291  ...  35736         35         33    28271    28306    14417   \n",
      "140    29234  ...  49512         20         25    29225    29245    15933   \n",
      "454    28114  ...  33156         15         27    28106    28121    13042   \n",
      "459    26946  ...  15337         27         14    26928    26955    12435   \n",
      "\n",
      "     sc_ymax  sc_total  sc_ngene  type  \n",
      "12     13216      1666       724    17  \n",
      "32     14450      1367       689    14  \n",
      "140    15958       736       442     8  \n",
      "454    13069       825       408    14  \n",
      "459    12449       671       340     2  \n",
      "\n",
      "[5 rows x 21 columns]\n"
     ]
    }
   ],
   "source": [
    "##### add cell type to bin1 \n",
    "data = bin1['cell'].tolist()\n",
    "keys = cellUnique\n",
    "vals = (celltype+1).tolist() # 1-25\n",
    "memo = defaultdict(int)\n",
    "for k, v in zip(keys, vals):\n",
    "    if k not in memo:\n",
    "        memo[k] = v\n",
    "    else:\n",
    "        raise ValueError('duplicated keys')\n",
    "res = list(map(lambda x: memo[x], data))  \n",
    "print(len(res), len(data), len(keys), len(vals)) \n",
    "\n",
    "bin1['type'] = np.array(res)\n",
    "print(bin1.head())\n",
    "print(bin1.type.min(), bin1.type.max()) # 0-25\n",
    "\n",
    "# remove rows with type=0\n",
    "filter1 = bin1.type>0\n",
    "bin1 = bin1[filter1].copy()\n",
    "print(len(bin1))\n",
    "print(bin1.head())"
   ]
  },
  {
   "cell_type": "markdown",
   "id": "4fa99012",
   "metadata": {},
   "source": [
    "### Step5.3: reconstruct mask for entire E1S3"
   ]
  },
  {
   "cell_type": "code",
   "execution_count": 21,
   "id": "dfd8078e",
   "metadata": {},
   "outputs": [
    {
     "name": "stdout",
     "output_type": "stream",
     "text": [
      "R = 1\n",
      "R = 2\n",
      "R = 3\n",
      "R = 4\n",
      "R = 5\n",
      "R = 6\n",
      "R = 7\n",
      "R = 8\n",
      "dict_keys(['R1_mask', 'R2_mask', 'R3_mask', 'R4_mask', 'R5_mask', 'R6_mask', 'R7_mask', 'R8_mask'])\n"
     ]
    }
   ],
   "source": [
    "##### Load R1-R8 mask\n",
    "mask_dict = {}\n",
    "for r in range(1,9):\n",
    "    print('R =', r)\n",
    "    filename = 'input/R'+str(r)+'_seg.npy'\n",
    "    # load\n",
    "    dat = np.load(filename, allow_pickle=True).item()\n",
    "    # mask\n",
    "    mask_dict['R'+str(r)+'_mask'] = dat['masks']\n",
    "print(mask_dict.keys())"
   ]
  },
  {
   "cell_type": "markdown",
   "id": "abb3c006",
   "metadata": {},
   "source": [
    "recall how we cut E1S3 into 8 regions:\n",
    "1 image[26000:33000,9500:18000] | 2 image[26000:33000,18000:26460]\n",
    "3 image[19000:26000,9500:18000] | 4 image[19000:26000,18000:26460]\n",
    "5 image[12000:19000,9500:18000] | 6 image[12000:19000,18000:26460]\n",
    "7 image[5500:12000,9500:18000]  | 8 image[5500:12000,18000:26460]\n",
    "\n",
    "stain image dim (44100, 26460)\n",
    "bin1.x.max() = 32582\n",
    "bin1.y.max() = 26459\n",
    "bin1.cell_E1S3 min=1 max=529182"
   ]
  },
  {
   "cell_type": "code",
   "execution_count": 22,
   "id": "c553806d",
   "metadata": {},
   "outputs": [
    {
     "name": "stdout",
     "output_type": "stream",
     "text": [
      "(44100, 26460)\n"
     ]
    }
   ],
   "source": [
    "##### initialize mask with an all zero int matrix \n",
    "mask = np.zeros((44100, 26460), dtype=int)\n",
    "print(mask.shape)"
   ]
  },
  {
   "cell_type": "code",
   "execution_count": 23,
   "id": "a5b4c725",
   "metadata": {},
   "outputs": [
    {
     "name": "stdout",
     "output_type": "stream",
     "text": [
      "74777\n",
      "74752\n"
     ]
    }
   ],
   "source": [
    "##### add R1\n",
    "print(np.amax(mask_dict['R1_mask']))\n",
    "print(bin1_dict['R1_bin1'].cell.max())\n",
    "mask[26000:33000,9500:18000] = mask_dict['R1_mask']"
   ]
  },
  {
   "cell_type": "code",
   "execution_count": 24,
   "id": "976ca266",
   "metadata": {},
   "outputs": [
    {
     "name": "stdout",
     "output_type": "stream",
     "text": [
      "52830\n",
      "52830\n"
     ]
    }
   ],
   "source": [
    "##### add R2\n",
    "print(np.amax(mask_dict['R2_mask']))\n",
    "print(bin1_R2.cell.max())\n",
    "mask_ = mask_dict['R2_mask']\n",
    "mask2_ = mask_ + (mask_!=0)*(np.amax(mask[26000:33000,9500:18000]))\n",
    "mask[26000:33000,18000:26460] = mask2_"
   ]
  },
  {
   "cell_type": "code",
   "execution_count": 25,
   "id": "1041b0a7",
   "metadata": {},
   "outputs": [
    {
     "name": "stdout",
     "output_type": "stream",
     "text": [
      "106426\n",
      "106125\n"
     ]
    }
   ],
   "source": [
    "##### add R3\n",
    "print(np.amax(mask_dict['R3_mask']))\n",
    "print(bin1_R3.cell.max())\n",
    "mask_ = mask_dict['R3_mask']\n",
    "mask2_ = mask_ + (mask_!=0)*(np.amax(mask[26000:33000,18000:26460]))\n",
    "mask[19000:26000,9500:18000] = mask2_"
   ]
  },
  {
   "cell_type": "code",
   "execution_count": 26,
   "id": "bbd2e6d5",
   "metadata": {},
   "outputs": [
    {
     "name": "stdout",
     "output_type": "stream",
     "text": [
      "82734\n",
      "82553\n"
     ]
    }
   ],
   "source": [
    "##### add R4\n",
    "print(np.amax(mask_dict['R4_mask']))\n",
    "print(bin1_R4.cell.max())\n",
    "mask_ = mask_dict['R4_mask']\n",
    "mask2_ = mask_ + (mask_!=0)*(np.amax(mask[19000:26000,9500:18000]))\n",
    "mask[19000:26000,18000:26460] = mask2_"
   ]
  },
  {
   "cell_type": "code",
   "execution_count": 27,
   "id": "1cec7b36",
   "metadata": {},
   "outputs": [
    {
     "name": "stdout",
     "output_type": "stream",
     "text": [
      "87248\n",
      "87015\n"
     ]
    }
   ],
   "source": [
    "##### add R5\n",
    "print(np.amax(mask_dict['R5_mask']))\n",
    "print(bin1_R5.cell.max())\n",
    "mask_ = mask_dict['R5_mask']\n",
    "mask2_ = mask_ + (mask_!=0)*(np.amax(mask[19000:26000,18000:26460]))\n",
    "mask[12000:19000,9500:18000] = mask2_"
   ]
  },
  {
   "cell_type": "code",
   "execution_count": 28,
   "id": "cc5f6f8b",
   "metadata": {},
   "outputs": [
    {
     "name": "stdout",
     "output_type": "stream",
     "text": [
      "79696\n",
      "79670\n"
     ]
    }
   ],
   "source": [
    "##### add R6\n",
    "print(np.amax(mask_dict['R6_mask']))\n",
    "print(bin1_R6.cell.max())\n",
    "mask_ = mask_dict['R6_mask']\n",
    "mask2_ = mask_ + (mask_!=0)*(np.amax(mask[12000:19000,9500:18000]))\n",
    "mask[12000:19000,18000:26460] = mask2_"
   ]
  },
  {
   "cell_type": "code",
   "execution_count": 29,
   "id": "321763e0",
   "metadata": {},
   "outputs": [
    {
     "name": "stdout",
     "output_type": "stream",
     "text": [
      "44327\n",
      "44158\n"
     ]
    }
   ],
   "source": [
    "##### add R7\n",
    "print(np.amax(mask_dict['R7_mask']))\n",
    "print(bin1_R7.cell.max())\n",
    "mask_ = mask_dict['R7_mask']\n",
    "mask2_ = mask_ + (mask_!=0)*(np.amax(mask[12000:19000,18000:26460]))\n",
    "mask[5500:12000,9500:18000] = mask2_"
   ]
  },
  {
   "cell_type": "code",
   "execution_count": 30,
   "id": "2f2abf99",
   "metadata": {},
   "outputs": [
    {
     "name": "stdout",
     "output_type": "stream",
     "text": [
      "64825\n",
      "64585\n"
     ]
    }
   ],
   "source": [
    "##### add R8\n",
    "print(np.amax(mask_dict['R8_mask']))\n",
    "print(bin1_R8.cell.max())\n",
    "mask_ = mask_dict['R8_mask']\n",
    "mask2_ = mask_ + (mask_!=0)*(np.amax(mask[5500:12000,9500:18000]))\n",
    "mask[5500:12000,18000:26460] = mask2_"
   ]
  },
  {
   "cell_type": "code",
   "execution_count": 31,
   "id": "347f92d3",
   "metadata": {},
   "outputs": [
    {
     "name": "stdout",
     "output_type": "stream",
     "text": [
      "0\n",
      "592863\n",
      "591688\n"
     ]
    }
   ],
   "source": [
    "##### check\n",
    "print(np.amin(mask))\n",
    "print(np.amax(mask))\n",
    "print(bin1_R1.cell.max()+bin1_R2.cell.max()+bin1_R3.cell.max()+bin1_R4.cell.max()\n",
    "+bin1_R5.cell.max()+bin1_R6.cell.max()+bin1_R7.cell.max()+bin1_R8.cell.max())"
   ]
  },
  {
   "cell_type": "markdown",
   "id": "253916b2",
   "metadata": {},
   "source": [
    "#### Save\n",
    "save bin1, sc_type25_norm_mat, mask"
   ]
  },
  {
   "cell_type": "code",
   "execution_count": 32,
   "id": "ddbd519b",
   "metadata": {},
   "outputs": [],
   "source": [
    "# pickle\n",
    "outfile = 'output_step2/stereoseq_df_dict.pkl'\n",
    "\n",
    "# save\n",
    "pickle_dict = {}\n",
    "pickle_dict['df'] = bin1\n",
    "pickle_dict['sc_type25_norm_mat'] = sc_type25_norm_mat\n",
    "pickle_dict['mask'] = mask\n",
    "with open(outfile, 'wb') as f:\n",
    "    pickle.dump(pickle_dict, f)\n",
    "\n",
    "# load\n",
    "# with open(outfile, 'rb') as f:\n",
    "#     pickle_dict = pickle.load(f)\n",
    "# bin1 = pickle_dict['bin1']\n",
    "# sc_type25_norm_mat = pickle_dict['sc_type25_norm_mat']\n",
    "# mask = pickle_dict['mask']"
   ]
  },
  {
   "cell_type": "code",
   "execution_count": null,
   "id": "a81b3dbd",
   "metadata": {},
   "outputs": [],
   "source": []
  }
 ],
 "metadata": {
  "kernelspec": {
   "display_name": "Python 3 (ipykernel)",
   "language": "python",
   "name": "python3"
  },
  "language_info": {
   "codemirror_mode": {
    "name": "ipython",
    "version": 3
   },
   "file_extension": ".py",
   "mimetype": "text/x-python",
   "name": "python",
   "nbconvert_exporter": "python",
   "pygments_lexer": "ipython3",
   "version": "3.10.14"
  }
 },
 "nbformat": 4,
 "nbformat_minor": 5
}
