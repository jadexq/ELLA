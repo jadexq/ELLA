{
 "cells": [
  {
   "cell_type": "markdown",
   "id": "cb8d5293",
   "metadata": {},
   "source": [
    "### Step1: prepare data as pickled dict for ELLA analysis\n",
    "\n",
    "start with seqfish+ data processed by Bento\\\n",
    "this is the only preprocessing step for the dataset"
   ]
  },
  {
   "cell_type": "code",
   "execution_count": 1,
   "id": "a3aa16b8",
   "metadata": {},
   "outputs": [],
   "source": [
    "import numpy as np\n",
    "import pandas as pd\n",
    "import anndata\n",
    "import matplotlib.pyplot as plt\n",
    "import cv2\n",
    "from sklearn.cluster import KMeans\n",
    "import pickle\n",
    "import timeit"
   ]
  },
  {
   "cell_type": "markdown",
   "id": "6950b2bd",
   "metadata": {},
   "source": [
    "#### Load data"
   ]
  },
  {
   "cell_type": "code",
   "execution_count": 2,
   "id": "6dba6559",
   "metadata": {},
   "outputs": [
    {
     "name": "stdout",
     "output_type": "stream",
     "text": [
      "AnnData object with n_obs × n_vars = 179 × 3726\n",
      "    obs: 'cell_shape', 'nucleus_shape', 'batch', 'cell_radius', 'nucleus_inner_edge_shape', 'cell_inner_edge_shape', 'nucleus_outer_edge_shape', 'n_detected', 'fraction_detected', 'cell_edge_count', 'cell_edge_fraction', 'cytoplasmic_count', 'cytoplasmic_fraction', 'nuclear_count', 'nuclear_fraction', 'nuclear_edge_count', 'nuclear_edge_fraction', 'none_count', 'none_fraction', 'td_cluster'\n",
      "    var: 'n_detected', 'fraction_detected', 'cell_edge_count', 'cell_edge_fraction', 'cytoplasmic_count', 'cytoplasmic_fraction', 'nuclear_count', 'nuclear_fraction', 'nuclear_edge_count', 'nuclear_edge_fraction', 'none_count', 'none_fraction', 'td_cluster'\n",
      "    uns: 'points', 'tensor', 'tensor_labels', 'tensor_loadings'\n",
      "    layers: 'cell_edge', 'cell_edge_p', 'cell_inner_asymmetry', 'cell_inner_proximity', 'cell_outer_asymmetry', 'cell_outer_proximity', 'cytoplasmic', 'cytoplasmic_p', 'l_half_radius', 'l_max', 'l_max_gradient', 'l_min_gradient', 'l_monotony', 'none', 'none_p', 'nuclear', 'nuclear_edge', 'nuclear_edge_p', 'nuclear_p', 'nucleus_dispersion', 'nucleus_inner_asymmetry', 'nucleus_inner_edge_enrichment', 'nucleus_inner_proximity', 'nucleus_outer_asymmetry', 'nucleus_outer_edge_enrichment', 'nucleus_outer_proximity', 'point_dispersion', 'spliced', 'unspliced'\n",
      "#cells 179 179\n",
      "#genes 3726 7095\n"
     ]
    }
   ],
   "source": [
    "##### merfish preprocessed data by Bento\n",
    "data = anndata.read_h5ad('input/seqfish+_processed.h5ad')\n",
    "print(data)\n",
    "\n",
    "##### expression data is stored in `data.uns[\"points\"]`\n",
    "points = data.uns['points']\n",
    "cellList = data.obs_names.tolist()\n",
    "geneList = data.var_names.tolist()\n",
    "print('#cells', len(cellList), points.cell.nunique())\n",
    "print('#genes', len(geneList), points.gene.nunique())\n",
    "\n",
    "##### cell and nucleus area\n",
    "cellShape = data.obs['cell_shape']\n",
    "nucleusShape = data.obs['nucleus_shape']\n",
    "\n",
    "##### add umi==1\n",
    "points['umi'] = np.full(len(points), 1)"
   ]
  },
  {
   "cell_type": "markdown",
   "id": "bd26ee53",
   "metadata": {},
   "source": [
    "#### Prepare cell mask, nuclear mask, and cell center"
   ]
  },
  {
   "cell_type": "code",
   "execution_count": 3,
   "id": "109446fd",
   "metadata": {},
   "outputs": [
    {
     "name": "stdout",
     "output_type": "stream",
     "text": [
      "0 0-0\n",
      "50 6-3\n",
      "100 4-8\n",
      "150 7-13\n",
      "Time:  12.350476273801178\n"
     ]
    }
   ],
   "source": [
    "##### for each cell get\n",
    "# cell center (geometric center of the nucleus area)\n",
    "# nucleus/cell boundaries\n",
    "# nucleus/cell mask\n",
    "\n",
    "start = timeit.default_timer()\n",
    "\n",
    "cell_mask = {}\n",
    "nuclear_mask = {}\n",
    "cell_boundary = {}\n",
    "nuclear_boundary = {}\n",
    "nuclear_center = {}\n",
    "for i in range(len(cellList)):\n",
    "    \n",
    "    if i%50 == 0:\n",
    "        print(i, cellList[i])\n",
    "    \n",
    "    # cell boundary\n",
    "    cs_c0 = cellShape[i][10:-2].split(')', 1)\n",
    "    cs_c1 = cs_c0[0]\n",
    "    cs_c2 = cs_c1.split(',')\n",
    "    cs_c3 = []\n",
    "    for j in cs_c2:\n",
    "        cs_c3.append([int(float(x)) for x in j.strip().split(' ')])\n",
    "    cs_c4 = np.array(cs_c3)\n",
    "    df = pd.DataFrame({'x': cs_c4[:,0], 'y': cs_c4[:,1]})\n",
    "    cell_boundary[cellList[i]] = df\n",
    "    \n",
    "    # cell mask\n",
    "    contours = cs_c4\n",
    "    #img = np.zeros(np.amax(cs_c4, axis=0).astype(int))\n",
    "    img = np.zeros((2000,2000)) # this need to be optimized!!! right now 2000 is sufficient\n",
    "    cv2.fillPoly(img, pts =[contours], color=255)\n",
    "    nz = np.nonzero(img)\n",
    "    df = pd.DataFrame({'y': nz[0], 'x': nz[1]})\n",
    "    cell_mask[cellList[i]] = df\n",
    "    \n",
    "    # nuclear boundary\n",
    "    ns_c0 = nucleusShape[i][10:-2].split(')', 1)\n",
    "    ns_c1 = ns_c0[0]\n",
    "    ns_c2 = ns_c1.split(',')\n",
    "    ns_c3 = []\n",
    "    for j in ns_c2:\n",
    "        ns_c3.append([int(float(x)) for x in j.strip().split(' ')])\n",
    "    ns_c4 = np.array(ns_c3)\n",
    "    df = pd.DataFrame({'x': ns_c4[:,0], 'y': ns_c4[:,1]})\n",
    "    nuclear_boundary[cellList[i]] = df\n",
    "    \n",
    "    # nuclear mask    \n",
    "    contours = ns_c4\n",
    "    img = np.zeros((2000,2000))\n",
    "    cv2.fillPoly(img, pts =[contours], color=255)\n",
    "    nz = np.nonzero(img)\n",
    "    df = pd.DataFrame({'y': nz[0], 'x': nz[1]})\n",
    "    nuclear_mask[cellList[i]] = df   \n",
    "    \n",
    "    # nuclear center\n",
    "    kmeans = KMeans(n_clusters=1, init='k-means++', max_iter=200, n_init=5)\n",
    "    pred_y = kmeans.fit_predict(ns_c4)\n",
    "    nuclear_center[cellList[i]] = [round(kmeans.cluster_centers_[0,0]), round(kmeans.cluster_centers_[0,1])]\n",
    "    \n",
    "stop = timeit.default_timer()\n",
    "print('Time: ', stop - start) # ~12s"
   ]
  },
  {
   "cell_type": "code",
   "execution_count": 4,
   "id": "a8289ebe",
   "metadata": {},
   "outputs": [],
   "source": [
    "##### add `cell` column to cell/nuclear mask\n",
    "cell_mask2 = {}\n",
    "nuclear_mask2 = {}\n",
    "for c in cellList:\n",
    "    cell_c = cell_mask[c]\n",
    "    nuclear_c = nuclear_mask[c]\n",
    "    cell_c['cell'] = [c]*len(cell_c)\n",
    "    nuclear_c['cell'] = [c]*len(nuclear_c)\n",
    "    cell_mask2[c] = cell_c\n",
    "    nuclear_mask2[c] = nuclear_c\n",
    "\n",
    "##### concatenate all cell/nuclear mask2 to one df\n",
    "cell_mask_df = pd.concat(list(cell_mask2.values()))\n",
    "nuclear_mask_df = pd.concat(list(nuclear_mask2.values()))"
   ]
  },
  {
   "cell_type": "markdown",
   "id": "6553e46e",
   "metadata": {},
   "source": [
    "#### Prepare df"
   ]
  },
  {
   "cell_type": "code",
   "execution_count": 5,
   "id": "0617327e",
   "metadata": {},
   "outputs": [],
   "source": [
    "##### add nuclear center to df\n",
    "centerX = np.zeros(len(points), dtype=int)\n",
    "centerY = np.zeros(len(points), dtype=int)\n",
    "cell_ = points.cell.copy()\n",
    "\n",
    "for c in cellList:\n",
    "    centerX[cell_ == c] = nuclear_center[c][0]\n",
    "    centerY[cell_ == c] = nuclear_center[c][1]\n",
    "    \n",
    "df = points.copy()\n",
    "df['centerX'] = centerX\n",
    "df['centerY'] = centerY\n",
    "\n",
    "##### add type to df\n",
    "df['type'] = ['fibroblast']*len(df)\n",
    "\n",
    "##### add sc_total to df\n",
    "sc_total = np.zeros(len(points), dtype=int)\n",
    "cell_ = points.cell.copy()\n",
    "\n",
    "for c in cellList:\n",
    "    sc_total[cell_ == c] = np.sum(cell_ == c)\n",
    "    \n",
    "df['sc_total'] = sc_total"
   ]
  },
  {
   "cell_type": "markdown",
   "id": "5a549bae",
   "metadata": {},
   "source": [
    "#### Compute average nuclear diameter/cell diameter (nc) ratio\n",
    "also use this as QC"
   ]
  },
  {
   "cell_type": "code",
   "execution_count": 6,
   "id": "54f1f23c",
   "metadata": {},
   "outputs": [],
   "source": [
    "##### nc ratio of cells in cellList\n",
    "nc_ratio = []\n",
    "for c in cellList:\n",
    "    nb = nuclear_boundary[c]\n",
    "    cb = cell_boundary[c]\n",
    "    cc = nuclear_center[c]\n",
    "    avg_nc_r = np.mean((((nb.x - cc[0])**2 + (nb.y - cc[1])**2)**0.5)/(((cb.x - cc[0])**2 + (cb.y - cc[1])**2)**0.5))\n",
    "    nc_ratio.append(avg_nc_r)\n",
    "nc_ratio = np.array(nc_ratio)    "
   ]
  },
  {
   "cell_type": "code",
   "execution_count": 7,
   "id": "4ad7611c",
   "metadata": {},
   "outputs": [
    {
     "name": "stdout",
     "output_type": "stream",
     "text": [
      "avg nc ratio 0.462 with sd 0.075\n"
     ]
    }
   ],
   "source": [
    "##### mean and sd of nc ratios\n",
    "nc_ratio_avg = np.mean(nc_ratio)\n",
    "nc_ratio_sd = np.std(nc_ratio)\n",
    "print(f'avg nc ratio {nc_ratio_avg:.3f} with sd {nc_ratio_sd:.3f}')"
   ]
  },
  {
   "cell_type": "code",
   "execution_count": 9,
   "id": "7cd524e8",
   "metadata": {},
   "outputs": [
    {
     "name": "stdout",
     "output_type": "stream",
     "text": [
      "171 out of 179 cells left\n",
      "{'fibroblast': 0.460279450346061}\n"
     ]
    },
    {
     "data": {
      "image/png": "[encoded data removed]",
      "text/plain": [
       "<Figure size 400x300 with 1 Axes>"
      ]
     },
     "metadata": {},
     "output_type": "display_data"
    }
   ],
   "source": [
    "##### filter out outlier cells based on nc ratio\n",
    "\n",
    "# filter out cells with nc ratio beyond ksd*sd\n",
    "ksd = 2 # <<<<<\n",
    "\n",
    "# hist nc ratio\n",
    "fig, ax = plt.subplots(1, 1, figsize=(4, 3))\n",
    "n, bins, patches = ax.hist(nc_ratio, 50)\n",
    "ax.axvline(nc_ratio_avg, color='k', linestyle='dashed', linewidth=1)\n",
    "ax.axvline(nc_ratio_avg-ksd*nc_ratio_sd, color='k', linestyle='dashed', linewidth=1)\n",
    "ax.axvline(nc_ratio_avg+ksd*nc_ratio_sd, color='k', linestyle='dashed', linewidth=1)\n",
    "\n",
    "# filters\n",
    "cellList_ncfiltered = np.array(cellList)[(nc_ratio>=(nc_ratio_avg-ksd*nc_ratio_sd))&(nc_ratio<=(nc_ratio_avg+ksd*nc_ratio_sd))]\n",
    "print(f'{len(cellList_ncfiltered)} out of {len(cellList)} cells left')\n",
    "\n",
    "# filtering\n",
    "df_ncfiltered = df[df.cell.isin(cellList_ncfiltered)]\n",
    "cell_mask_df_ncfiltered = cell_mask_df[cell_mask_df.cell.isin(cellList_ncfiltered)]\n",
    "nuclear_mask_df_ncfiltered = nuclear_mask_df[nuclear_mask_df.cell.isin(cellList_ncfiltered)]\n",
    "\n",
    "# save the avg nc ratio of remaining cells\n",
    "nc_ratio_dict = {}\n",
    "nc_ratio_dict['fibroblast'] = np.mean(np.array(nc_ratio)[(nc_ratio>=(nc_ratio_avg-ksd*nc_ratio_sd))&(nc_ratio<=(nc_ratio_avg+ksd*nc_ratio_sd))])\n",
    "print(nc_ratio_dict)"
   ]
  },
  {
   "cell_type": "markdown",
   "id": "9b9972bb",
   "metadata": {},
   "source": [
    "#### Gene and cell lists"
   ]
  },
  {
   "cell_type": "code",
   "execution_count": 10,
   "id": "2243a817",
   "metadata": {},
   "outputs": [
    {
     "name": "stdout",
     "output_type": "stream",
     "text": [
      "['fibroblast']\n"
     ]
    }
   ],
   "source": [
    "##### cell type list\n",
    "type_list = df_ncfiltered.type.unique().tolist()\n",
    "print(type_list)"
   ]
  },
  {
   "cell_type": "code",
   "execution_count": 15,
   "id": "a3d74b4c",
   "metadata": {},
   "outputs": [],
   "source": [
    "##### filtering params\n",
    "# 1. min #cells available for a gene\n",
    "nc_avl_min = 50 \n",
    "# 2. >=`nc_expr_thre` number of cells with gene counts>=`expr_thre`\n",
    "expr_thre = 3\n",
    "nc_expr_thre = 5\n",
    "# 3. sort the genes and get the dataframe"
   ]
  },
  {
   "cell_type": "code",
   "execution_count": 16,
   "id": "ef8d3d25",
   "metadata": {},
   "outputs": [
    {
     "name": "stdout",
     "output_type": "stream",
     "text": [
      "type fibroblast #genes=2747\n"
     ]
    }
   ],
   "source": [
    "# 1. nc_avl_min\n",
    "gene_list_dict1 = {}\n",
    "df_dict1 = {}\n",
    "for t in type_list:\n",
    "    df_t = df_ncfiltered[df_ncfiltered.type==t]\n",
    "    nc_avl_t = df_t.groupby('gene')['cell'].nunique()\n",
    "    nc_avl_t_filtered = nc_avl_t[nc_avl_t>=nc_avl_min]\n",
    "    gene_list_dict1[t] = nc_avl_t_filtered.index.to_numpy()\n",
    "    df_dict1[t] = df_t[df_t.gene.isin(gene_list_dict1[t])]\n",
    "    print(f'type {t} #genes={len(gene_list_dict1[t])}')"
   ]
  },
  {
   "cell_type": "code",
   "execution_count": 17,
   "id": "33d5659f",
   "metadata": {},
   "outputs": [
    {
     "name": "stdout",
     "output_type": "stream",
     "text": [
      "type fibroblast #genes=2747\n"
     ]
    }
   ],
   "source": [
    "# 2. nc_expr_thre and expr_thre\n",
    "gene_list_dict2 = {}\n",
    "for t in type_list:\n",
    "    df_t = df_dict1[t]\n",
    "    df_t_gbG = df_t.groupby('gene')\n",
    "    gl_t = []\n",
    "    for g in gene_list_dict1[t][:]:\n",
    "        df_t_g = df_t_gbG.get_group(g)\n",
    "        sc_umi_g = df_t_g.groupby('cell')['umi'].sum()\n",
    "        if np.sum(sc_umi_g>=expr_thre)>=nc_expr_thre:\n",
    "            gl_t.append(g)\n",
    "    gene_list_dict2[t] = np.array(gl_t)\n",
    "    print(f'type {t} #genes={len(gl_t)}')"
   ]
  },
  {
   "cell_type": "code",
   "execution_count": 76,
   "id": "38e23864",
   "metadata": {},
   "outputs": [],
   "source": [
    "# 3. get the df and sort the genes\n",
    "gene_list_dict3 = {}\n",
    "cell_list_dict3 = {}\n",
    "df_dict3 = {}\n",
    "for t in type_list:\n",
    "    gl_t2 = gene_list_dict2[t].tolist()\n",
    "    df_t = df_dict1[t]\n",
    "    df_t3 = df_t[df_t.gene.isin(gl_t2)]\n",
    "    gl_t3 = df_t3.groupby('gene')['umi'].sum().sort_values(ascending=False).index.to_numpy()\n",
    "    gene_list_dict3[t] = gl_t3[:len(gl_t2)]\n",
    "    df_dict3[t] = df_t3\n",
    "    cell_list_dict3[t] = df_t3.cell.unique().tolist()"
   ]
  },
  {
   "cell_type": "code",
   "execution_count": 77,
   "id": "0b218eff",
   "metadata": {},
   "outputs": [],
   "source": [
    "data_df = pd.concat(list(df_dict3.values()))\n",
    "gene_list_dict = gene_list_dict3\n",
    "cell_list_dict = cell_list_dict3\n",
    "cell_list_all = [item for sublist in list(cell_list_dict.values()) for item in sublist]"
   ]
  },
  {
   "cell_type": "markdown",
   "id": "8dbcc5ad",
   "metadata": {},
   "source": [
    "#### Save prepared data"
   ]
  },
  {
   "cell_type": "code",
   "execution_count": 78,
   "id": "2b5a48bb",
   "metadata": {},
   "outputs": [],
   "source": [
    "##### save data\n",
    "outfile = 'output/seqfish_data_dict.pkl'\n",
    "# save\n",
    "pickle_dict = {}\n",
    "pickle_dict['nc_ratio_dict'] = nc_ratio_dict\n",
    "pickle_dict['type_list'] = type_list\n",
    "pickle_dict['gene_list_dict'] = gene_list_dict\n",
    "pickle_dict['cell_list_dict'] = cell_list_dict\n",
    "pickle_dict['cell_list_all'] = cell_list_all\n",
    "pickle_dict['cell_mask_df'] = cell_mask_df_ncfiltered\n",
    "pickle_dict['nuclear_mask_df'] = nuclear_mask_df_ncfiltered\n",
    "pickle_dict['data_df'] = df_ncfiltered\n",
    "with open(outfile, 'wb') as f:\n",
    "    pickle.dump(pickle_dict, f)\n",
    "\n",
    "# load\n",
    "# with open(outfile, 'rb') as f:\n",
    "#     pickle_dict = pickle.load(f)\n",
    "# nc_ratio_dict = pickle_dict['nc_ratio_dict']\n",
    "# type_list = pickle_dict['type_list']\n",
    "# gene_list_dict = pickle_dict['gene_list_dict']\n",
    "# cell_list_dict = pickle_dict['cell_list_dict']\n",
    "# cell_list_all = pickle_dict['cell_list_all']\n",
    "# cell_mask_df = pickle_dict['cell_mask_df']\n",
    "# nuclear_mask_df = pickle_dict['nuclear_mask_df']\n",
    "# df = pickle_dict['data_df']\n",
    "# beta_kernal_param_list = pickle_dict['beta_kernal_param_list']\n",
    "# ntanbin_dict = pickle_dict['ntanbin_dict']"
   ]
  },
  {
   "cell_type": "code",
   "execution_count": null,
   "id": "b838f081",
   "metadata": {},
   "outputs": [],
   "source": []
  }
 ],
 "metadata": {
  "kernelspec": {
   "display_name": "Python 3 (ipykernel)",
   "language": "python",
   "name": "python3"
  },
  "language_info": {
   "codemirror_mode": {
    "name": "ipython",
    "version": 3
   },
   "file_extension": ".py",
   "mimetype": "text/x-python",
   "name": "python",
   "nbconvert_exporter": "python",
   "pygments_lexer": "ipython3",
   "version": "3.10.14"
  }
 },
 "nbformat": 4,
 "nbformat_minor": 5
}
