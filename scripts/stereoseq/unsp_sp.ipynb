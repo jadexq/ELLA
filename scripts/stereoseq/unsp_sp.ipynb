{
 "cells": [
  {
   "cell_type": "markdown",
   "id": "c0e3ef1c",
   "metadata": {},
   "source": [
    "### Unspliced spliced ratio"
   ]
  },
  {
   "cell_type": "code",
   "execution_count": null,
   "id": "c9935061",
   "metadata": {},
   "outputs": [],
   "source": [
    "import time\n",
    "import timeit\n",
    "import pickle\n",
    "import numpy as np\n",
    "import pandas as pd\n",
    "import matplotlib.pyplot as plt\n",
    "from matplotlib import colors as mcolors\n",
    "from tqdm import tqdm\n",
    "from scipy.stats import mannwhitneyu\n",
    "\n",
    "# transparent background\n",
    "plt.rcParams.update({\n",
    "    \"figure.facecolor\":  (0.0, 0.0, 0.0, 0.0),  \n",
    "    \"axes.facecolor\":    (0.0, 0.0, 0.0, 0.0),  \n",
    "})"
   ]
  },
  {
   "cell_type": "code",
   "execution_count": 2,
   "id": "1b992620",
   "metadata": {},
   "outputs": [
    {
     "data": {
      "image/png": "[encoded data removed]",
      "text/plain": [
       "<Figure size 1000x150 with 1 Axes>"
      ]
     },
     "metadata": {
      "needs_background": "light"
     },
     "output_type": "display_data"
    }
   ],
   "source": [
    "# define colors\n",
    "purple = '#856088'\n",
    "pink = '#F25278'\n",
    "red = '#d96256'\n",
    "lightgreen = '#93c572'\n",
    "darkgreen = '#4c9141'\n",
    "lightblue = '#5d8aa8'\n",
    "darkblue = '#284d88'\n",
    "white = '#fafafa'\n",
    "lightgray = '#d3d3d3'\n",
    "darkgray ='#545454'\n",
    "lightorange = '#fabc2e'\n",
    "darkorange = '#fb9912'\n",
    "lightyellow = '#e4d00a'\n",
    "lightgreen2 = '#32CD32'\n",
    "lightblue2 = '#189AB4'\n",
    "darkblue2 = '#05445E'\n",
    "lightpink = '#F79AC0'\n",
    "darkorange2 = '#FA8128'\n",
    "darkyellow = '#BDA55D'\n",
    "lightgray2 = '#E2E0D4'\n",
    "lightgray3 = '#BFBBA4'\n",
    "\n",
    "colors = [\n",
    "    red, lightorange, lightgreen, lightblue, darkblue, \n",
    "    darkgray, lightgray, purple, darkgreen, darkorange,\n",
    "    pink, darkorange2, lightblue2, lightgreen2, lightyellow,\n",
    "    lightpink, darkyellow, darkblue2, lightgray2, lightgray3\n",
    "]\n",
    "\n",
    "plt.figure(figsize=(10, 1.5))\n",
    "plt.bar(range(len(colors)), height=1, color=colors)\n",
    "__ = plt.axis('off')"
   ]
  },
  {
   "cell_type": "markdown",
   "id": "fecf1d0b",
   "metadata": {},
   "source": [
    "#### load processed stereoseq unsp/sp ratios"
   ]
  },
  {
   "cell_type": "code",
   "execution_count": 3,
   "id": "dd0f44ad",
   "metadata": {},
   "outputs": [],
   "source": [
    "# gene lists\n",
    "path = '../ella/input/stereoseq_data_dict_bkp.pkl'\n",
    "pickle_dict = pd.read_pickle(path)\n",
    "type_list = pickle_dict['type_list']\n",
    "gene_list_dict = pickle_dict['gene_list_dict']\n",
    "del pickle_dict\n",
    "\n",
    "# ratios\n",
    "path = '../stereoseq_res.pkl'\n",
    "pickle_dict = pd.read_pickle(path)\n",
    "ratio_dict = pickle_dict['stereoseq_ratio_dict']\n",
    "ncavl_dict = pickle_dict['stereoseq_ncavl_dict']\n",
    "del pickle_dict"
   ]
  },
  {
   "cell_type": "markdown",
   "id": "cd9379b8",
   "metadata": {},
   "source": [
    "#### load ella results"
   ]
  },
  {
   "cell_type": "code",
   "execution_count": 4,
   "id": "dcb9216e",
   "metadata": {},
   "outputs": [],
   "source": [
    "# load ella results\n",
    "fn = '../ella/output_ella/ella_stereoseq_t1t20.pkl'\n",
    "res_dict = pd.read_pickle(fn)\n",
    "types_list = res_dict['types_list']\n",
    "genes_dict = res_dict['genes_dict']\n",
    "p_fdr_dict = res_dict['p_fdr_dict']\n",
    "score_dict = res_dict['score_dict']\n",
    "label_dict = res_dict['label_dict']\n",
    "del res_dict"
   ]
  },
  {
   "cell_type": "markdown",
   "id": "06291273",
   "metadata": {},
   "source": [
    "#### compute radio df"
   ]
  },
  {
   "cell_type": "code",
   "execution_count": 5,
   "id": "0ad867bc",
   "metadata": {},
   "outputs": [],
   "source": [
    "ratio_df_dict = {}\n",
    "\n",
    "for t in types_list:\n",
    "    gl_t = genes_dict[t]\n",
    "    gl_ro_t = gene_list_dict[t]\n",
    "    ro_t = ratio_dict[t]\n",
    "    p_t = p_fdr_dict[t]\n",
    "    label_t = label_dict[t]\n",
    "    score_t = score_dict[t]\n",
    "    ratio_t = []\n",
    "    for g in gl_t:\n",
    "        if g in gl_ro_t:\n",
    "            idx_ro = np.where(np.array(gl_ro_t)==g)[0][0]\n",
    "            ro = ro_t[idx_ro]\n",
    "            ratio_t.append(ro)\n",
    "        else:\n",
    "            ratio_t.append(np.nan)\n",
    "\n",
    "    ratio_df_dict[t] = pd.DataFrame({'gene':gl_t, 'pv':p_t, 'label':label_t, 'score':score_t, 'ratio':ratio_t})"
   ]
  },
  {
   "cell_type": "markdown",
   "id": "cc7fa4df",
   "metadata": {},
   "source": [
    "#### all types together"
   ]
  },
  {
   "cell_type": "code",
   "execution_count": 6,
   "id": "807ff4d2",
   "metadata": {},
   "outputs": [
    {
     "data": {
      "text/html": [
       "<div>\n",
       "<style scoped>\n",
       "    .dataframe tbody tr th:only-of-type {\n",
       "        vertical-align: middle;\n",
       "    }\n",
       "\n",
       "    .dataframe tbody tr th {\n",
       "        vertical-align: top;\n",
       "    }\n",
       "\n",
       "    .dataframe thead th {\n",
       "        text-align: right;\n",
       "    }\n",
       "</style>\n",
       "<table border=\"1\" class=\"dataframe\">\n",
       "  <thead>\n",
       "    <tr style=\"text-align: right;\">\n",
       "      <th></th>\n",
       "      <th>gene</th>\n",
       "      <th>pv</th>\n",
       "      <th>label</th>\n",
       "      <th>score</th>\n",
       "      <th>ratio</th>\n",
       "    </tr>\n",
       "  </thead>\n",
       "  <tbody>\n",
       "    <tr>\n",
       "      <th>1</th>\n",
       "      <td>Hbb-bs</td>\n",
       "      <td>2.000000</td>\n",
       "      <td>-1</td>\n",
       "      <td>0.585687</td>\n",
       "      <td>0.125726</td>\n",
       "    </tr>\n",
       "    <tr>\n",
       "      <th>2</th>\n",
       "      <td>Lars2</td>\n",
       "      <td>0.000003</td>\n",
       "      <td>2</td>\n",
       "      <td>0.404232</td>\n",
       "      <td>0.127649</td>\n",
       "    </tr>\n",
       "    <tr>\n",
       "      <th>3</th>\n",
       "      <td>Malat1</td>\n",
       "      <td>0.000003</td>\n",
       "      <td>1</td>\n",
       "      <td>0.101808</td>\n",
       "      <td>0.197686</td>\n",
       "    </tr>\n",
       "  </tbody>\n",
       "</table>\n",
       "</div>"
      ],
      "text/plain": [
       "     gene        pv  label     score     ratio\n",
       "1  Hbb-bs  2.000000     -1  0.585687  0.125726\n",
       "2   Lars2  0.000003      2  0.404232  0.127649\n",
       "3  Malat1  0.000003      1  0.101808  0.197686"
      ]
     },
     "execution_count": 6,
     "metadata": {},
     "output_type": "execute_result"
    }
   ],
   "source": [
    "# merged df\n",
    "merged_df = pd.concat(ratio_df_dict.values(), ignore_index=True)\n",
    "merged_df = merged_df[merged_df.ratio>=0]\n",
    "merged_df.head(3)"
   ]
  },
  {
   "cell_type": "code",
   "execution_count": 7,
   "id": "8b06237a",
   "metadata": {},
   "outputs": [
    {
     "data": {
      "text/plain": [
       "label\n",
       "-1    0.802139\n",
       " 0    3.028662\n",
       " 1    2.844949\n",
       " 2    2.323808\n",
       " 3    1.556298\n",
       " 4    0.671438\n",
       "Name: ratio, dtype: float64"
      ]
     },
     "execution_count": 7,
     "metadata": {},
     "output_type": "execute_result"
    }
   ],
   "source": [
    "merged_df.groupby('label').ratio.mean()"
   ]
  },
  {
   "cell_type": "code",
   "execution_count": 8,
   "id": "d5eff397",
   "metadata": {},
   "outputs": [
    {
     "name": "stdout",
     "output_type": "stream",
     "text": [
      "1-3 vs 4-5 \n",
      "p=1.396854820160387e-24\n",
      "fc=2.4239973156028425\n",
      "1-3 vs others \n",
      "p=5.370660654273555e-96\n",
      "fc=3.3618899923756578\n"
     ]
    }
   ],
   "source": [
    "# wilcoxon cluster 1-3 vs 4-5 \n",
    "sample1 = merged_df['ratio'][(merged_df.label==0)|(merged_df.label==1)|(merged_df.label==2)].values\n",
    "sample2 = merged_df['ratio'][(merged_df.label==3)|(merged_df.label==4)].values\n",
    "__statistic, p_value1 = mannwhitneyu(sample1, sample2)\n",
    "print(f'1-3 vs 4-5 \\np={p_value1}')\n",
    "print(f'fc={np.mean(sample1)/np.mean(sample2)}')\n",
    "p12 = [p_value1]\n",
    "\n",
    "# wilcoxon cluster 1-3 vs all else\n",
    "sample3 = merged_df['ratio'][(merged_df.label==-1)|(merged_df.label==3)|(merged_df.label==4)].values\n",
    "__statistic, p_value2 = mannwhitneyu(sample1, sample3)\n",
    "print(f'1-3 vs others \\np={p_value2}')\n",
    "print(f'fc={np.mean(sample1)/np.mean(sample3)}')\n",
    "p13 = [p_value2]"
   ]
  },
  {
   "cell_type": "code",
   "execution_count": 23,
   "id": "588b7805",
   "metadata": {},
   "outputs": [
    {
     "name": "stdout",
     "output_type": "stream",
     "text": [
      "pearson_corr=-0.464 p=1.0944146118205704e-152\n"
     ]
    }
   ],
   "source": [
    "# corr\n",
    "from scipy.stats import pearsonr, spearmanr\n",
    "\n",
    "pearson_corr, pearson_p_value = pearsonr(merged_df.ratio, merged_df.score)\n",
    "print(f'pearson_corr={pearson_corr:.3f} p={pearson_p_value}')"
   ]
  },
  {
   "cell_type": "code",
   "execution_count": 10,
   "id": "86fa6beb",
   "metadata": {},
   "outputs": [],
   "source": [
    "# bar plot\n",
    "means = [\n",
    "    (merged_df.ratio)[(merged_df.label>=0)&(merged_df.label<=2)].mean(),\n",
    "    (merged_df.ratio)[(merged_df.label>2)].mean(),\n",
    "    (merged_df.ratio)[(merged_df.label==-1)|(merged_df.label>2)].mean(),\n",
    "]\n",
    "\n",
    "# Individual data points for each category\n",
    "data_points = [\n",
    "    (merged_df.ratio)[(merged_df.label>=0)&(merged_df.label<=2)],\n",
    "    (merged_df.ratio)[(merged_df.label>2)],\n",
    "    (merged_df.ratio)[(merged_df.label==-1)|(merged_df.label>2)],\n",
    "]\n",
    "\n",
    "# remove outliers\n",
    "lbs = []\n",
    "ubs = []\n",
    "data_points2 = []\n",
    "for j in range(len(data_points)):\n",
    "    data_j = data_points[j]\n",
    "    \n",
    "    # IQR\n",
    "    Q1 = np.percentile(data_j, 25)\n",
    "    Q3 = np.percentile(data_j, 75)\n",
    "    # IQR = Q3 - Q1\n",
    "    lower_bound = Q1\n",
    "    upper_bound = Q3\n",
    "    lbs.append(np.maximum(means[j]-lower_bound,0))\n",
    "    ubs.append(np.maximum(upper_bound-means[j],0))\n",
    "    \n",
    "    data_j2 = data_j[(data_j >= lower_bound) & (data_j <= upper_bound)]\n",
    "    \n",
    "    data_points2.append(data_j2)"
   ]
  },
  {
   "cell_type": "code",
   "execution_count": 11,
   "id": "0eb67853",
   "metadata": {},
   "outputs": [],
   "source": [
    "def sig_symb(p_value):\n",
    "    if p_value <= 0.001:\n",
    "        sig_symbol = '***'\n",
    "    elif p_value <= 0.01:\n",
    "        sig_symbol = '**'\n",
    "    elif p_value <= 0.05:\n",
    "        sig_symbol = '*'\n",
    "    else:\n",
    "        sig_symbol = ''\n",
    "    return sig_symbol"
   ]
  },
  {
   "cell_type": "code",
   "execution_count": 21,
   "id": "4aadcf30",
   "metadata": {
    "scrolled": false
   },
   "outputs": [
    {
     "data": {
      "image/png": "[encoded data removed]",
      "text/plain": [
       "<Figure size 525x1050 with 1 Axes>"
      ]
     },
     "metadata": {
      "needs_background": "light"
     },
     "output_type": "display_data"
    }
   ],
   "source": [
    "nr = 1\n",
    "nc = 1\n",
    "ss_nr = 3.5\n",
    "ss_nc = 7/4\n",
    "fig = plt.figure(figsize=(nc*ss_nc, nr*ss_nr), dpi=300)\n",
    "gs = fig.add_gridspec(nr,nc,\n",
    "                      width_ratios=[1]*nc,\n",
    "                      height_ratios=[1]*nr)\n",
    "gs.update(wspace=0.0, hspace=0.0)\n",
    "ax = plt.subplot(gs[0, 0])\n",
    "\n",
    "colors = [red, darkgreen, darkgray]\n",
    "bar_pos = np.array([1,2,3])\n",
    "\n",
    "# bar\n",
    "bars = ax.bar(bar_pos, means, yerr=np.array([lbs, ubs]), \n",
    "              capsize=5, \n",
    "              color=colors,\n",
    "              zorder=1,\n",
    "              alpha=0.4)\n",
    "# the std \n",
    "bars = ax.bar(bar_pos, means, yerr=np.array([lbs, ubs]), \n",
    "              capsize=5, \n",
    "              zorder=3,\n",
    "              alpha=0)\n",
    "\n",
    "# Define the width of the spread\n",
    "width = bars[0].get_width() / 1.0\n",
    "\n",
    "# Adding spread dots\n",
    "for _i, (i, data) in enumerate(zip(bar_pos, data_points2)):\n",
    "    # Spread dots around the center of the bar\n",
    "    x = np.random.normal(i, width/10, size=len(data))\n",
    "    ax.plot(x, data, '.', \n",
    "            color=colors[_i], \n",
    "            markersize=3,\n",
    "            markeredgewidth=0, mec='none', alpha=0.5, zorder=1)\n",
    "\n",
    "# add 1 vs 2-5 pv\n",
    "hgap_big = 0.25\n",
    "hgap_small = 0.05\n",
    "for j, p in enumerate(p12[:]):\n",
    "    x1 = bar_pos[::3][j]\n",
    "    x2 = x1+1\n",
    "    bar1_max = means[j*3]+ubs[j*3]\n",
    "    bar2_max = means[j*3+1]+ubs[j*3+1]\n",
    "    bar12_max = np.maximum(bar1_max, bar2_max)\n",
    "    \n",
    "    if p<=0.05:\n",
    "        ax.plot(\n",
    "            [x1, x1, x2, x2],\n",
    "            [bar1_max+hgap_small, bar12_max+hgap_big, bar12_max+hgap_big, bar2_max+hgap_small],\n",
    "            lw=1, \n",
    "            color='black'\n",
    "        )\n",
    "\n",
    "        ax.text((x1+x2)/2, bar12_max+hgap_big+hgap_small, sig_symb(p), ha='center', va='center')\n",
    "    \n",
    "# add 1 vs others pv\n",
    "hgap_big = 0.25*2\n",
    "hgap_small = 0.05\n",
    "for j, p in enumerate(p13[:]):\n",
    "    x1 = bar_pos[::3][j]\n",
    "    x2 = x1+2\n",
    "    bar1_max = means[j*3]+ubs[j*3]\n",
    "    bar2_max = means[j*3+2]+ubs[j*3+2]\n",
    "    bar12_max = np.maximum(bar1_max, bar2_max)\n",
    "    \n",
    "    if p<=0.05:\n",
    "        ax.plot(\n",
    "            [x1, x1, x2, x2],\n",
    "            [bar1_max+hgap_small, bar12_max+hgap_big, bar12_max+hgap_big, bar2_max+hgap_small],\n",
    "            lw=1, \n",
    "            color='black'\n",
    "        )\n",
    "\n",
    "        ax.text((x1+x2)/2, bar12_max+hgap_big+hgap_small, sig_symb(p), ha='center', va='center')\n",
    "    \n",
    "ax.set_xlabel('')\n",
    "ax.set_ylabel('')\n",
    "ax.set_title('')\n",
    "ax.set_ylim((0, 4.6))\n",
    "\n",
    "# plt.savefig(f'figs/fig_unsp_all.pdf', dpi=300, bbox_inches='tight')"
   ]
  },
  {
   "cell_type": "code",
   "execution_count": null,
   "id": "bb6a55ea",
   "metadata": {},
   "outputs": [],
   "source": []
  }
 ],
 "metadata": {
  "kernelspec": {
   "display_name": "Python 3 (ipykernel)",
   "language": "python",
   "name": "python3"
  },
  "language_info": {
   "codemirror_mode": {
    "name": "ipython",
    "version": 3
   },
   "file_extension": ".py",
   "mimetype": "text/x-python",
   "name": "python",
   "nbconvert_exporter": "python",
   "pygments_lexer": "ipython3",
   "version": "3.10.4"
  }
 },
 "nbformat": 4,
 "nbformat_minor": 5
}
