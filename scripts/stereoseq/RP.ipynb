{
 "cells": [
  {
   "cell_type": "markdown",
   "id": "92a7acab",
   "metadata": {},
   "source": [
    "### Genes with RP"
   ]
  },
  {
   "cell_type": "code",
   "execution_count": null,
   "id": "4fb6c756",
   "metadata": {},
   "outputs": [],
   "source": [
    "import time\n",
    "import timeit\n",
    "import pickle\n",
    "import numpy as np\n",
    "import pandas as pd\n",
    "import matplotlib.pyplot as plt\n",
    "from matplotlib import colors as mcolors\n",
    "from tqdm import tqdm\n",
    "from scipy.stats import mannwhitneyu\n",
    "import scipy.stats as stats\n",
    "from collections import Counter\n",
    "from matplotlib.lines import Line2D\n",
    "\n",
    "# transparent background\n",
    "plt.rcParams.update({\n",
    "    \"figure.facecolor\":  (0.0, 0.0, 0.0, 0.0),  \n",
    "    \"axes.facecolor\":    (0.0, 0.0, 0.0, 0.0),  \n",
    "})"
   ]
  },
  {
   "cell_type": "code",
   "execution_count": 2,
   "id": "551cdcd8",
   "metadata": {},
   "outputs": [
    {
     "data": {
      "image/png": "[encoded data removed]",
      "text/plain": [
       "<Figure size 1000x150 with 1 Axes>"
      ]
     },
     "metadata": {
      "needs_background": "light"
     },
     "output_type": "display_data"
    }
   ],
   "source": [
    "# define colors\n",
    "purple = '#856088'\n",
    "pink = '#F25278'\n",
    "red = '#d96256'\n",
    "lightgreen = '#93c572'\n",
    "darkgreen = '#4c9141'\n",
    "lightblue = '#5d8aa8'\n",
    "darkblue = '#284d88'\n",
    "white = '#fafafa'\n",
    "lightgray = '#d3d3d3'\n",
    "darkgray ='#545454'\n",
    "lightorange = '#fabc2e'\n",
    "darkorange = '#fb9912'\n",
    "lightyellow = '#e4d00a'\n",
    "lightgreen2 = '#32CD32'\n",
    "lightblue2 = '#189AB4'\n",
    "darkblue2 = '#05445E'\n",
    "lightpink = '#F79AC0'\n",
    "darkorange2 = '#FA8128'\n",
    "darkyellow = '#BDA55D'\n",
    "lightgray2 = '#E2E0D4'\n",
    "lightgray3 = '#BFBBA4'\n",
    "\n",
    "colors = [\n",
    "    red, lightorange, lightgreen, lightblue, darkblue, \n",
    "    darkgray, lightgray, purple, darkgreen, darkorange,\n",
    "    pink, darkorange2, lightblue2, lightgreen2, lightyellow,\n",
    "    lightpink, darkyellow, darkblue2, lightgray2, lightgray3\n",
    "]\n",
    "\n",
    "plt.figure(figsize=(10, 1.5))\n",
    "plt.bar(range(len(colors)), height=1, color=colors)\n",
    "__ = plt.axis('off')"
   ]
  },
  {
   "cell_type": "markdown",
   "id": "547d4746",
   "metadata": {},
   "source": [
    "#### load data"
   ]
  },
  {
   "cell_type": "code",
   "execution_count": 3,
   "id": "c5b2e4e1",
   "metadata": {},
   "outputs": [],
   "source": [
    "# load ella results\n",
    "fn = '../ella/output_ella/ella_stereoseq_t1t20.pkl'\n",
    "res_dict = pd.read_pickle(fn)\n",
    "types_list = res_dict['types_list']\n",
    "genes_dict = res_dict['genes_dict']\n",
    "p_fdr_dict = res_dict['p_fdr_dict']\n",
    "score_dict = res_dict['score_dict']\n",
    "lam_dict = res_dict['lam_dict']\n",
    "label_dict = res_dict['label_dict']\n",
    "del res_dict"
   ]
  },
  {
   "cell_type": "code",
   "execution_count": 4,
   "id": "7971fbb1",
   "metadata": {},
   "outputs": [],
   "source": [
    "# check the labels of a gene list\n",
    "def check_label(t, gl):\n",
    "    gl_t = np.array(genes_dict[t])\n",
    "    lab_t = label_dict[t]\n",
    "    gl_lab = []\n",
    "    for g in gl:\n",
    "        if g in gl_t:\n",
    "            ig = np.where(gl_t == g)[0][0]\n",
    "            gl_lab.append(lab_t[ig])\n",
    "        else:\n",
    "            gl_lab.append(-2)\n",
    "\n",
    "    return gl_lab"
   ]
  },
  {
   "cell_type": "code",
   "execution_count": 5,
   "id": "0f1eb5e7",
   "metadata": {},
   "outputs": [],
   "source": [
    "##### find rp in each type\n",
    "# rp genes tested \n",
    "# begin with rps or rpl\n",
    "rp_dict = {}\n",
    "rp_label_dict = {}\n",
    "n_rp = []\n",
    "for t in types_list:\n",
    "    gl_t = genes_dict[t]\n",
    "    rp_list = []\n",
    "    for g in gl_t:\n",
    "        if g.startswith('Rps') or g.startswith('Rpl'):\n",
    "            rp_list.append(g)\n",
    "    rp_dict[t] = rp_list\n",
    "    rp_label_dict[t] = check_label(t, rp_list)\n",
    "    n_rp.append(len(rp_list))"
   ]
  },
  {
   "cell_type": "code",
   "execution_count": 6,
   "id": "5100c312",
   "metadata": {},
   "outputs": [
    {
     "name": "stdout",
     "output_type": "stream",
     "text": [
      "#rp avg=84.5 median=84.5 min=84 max=85\n",
      "#rp in 1 84\n",
      "labels for 1 Counter({-1: 79, 4: 5})\n",
      "#rp in 20 85\n",
      "labels for 20 Counter({-1: 78, 4: 7})\n"
     ]
    }
   ],
   "source": [
    "print(f'#rp avg={np.mean(n_rp)} median={np.median(n_rp)} min={np.min(n_rp)} max={np.max(n_rp)}')      \n",
    "\n",
    "print(f'#rp in 1 {n_rp[0]}')\n",
    "print(f'labels for 1 {Counter(rp_label_dict[\"1\"])}')\n",
    "\n",
    "print(f'#rp in 20 {n_rp[1]}')\n",
    "print(f'labels for 20 {Counter(rp_label_dict[\"20\"])}')"
   ]
  },
  {
   "cell_type": "code",
   "execution_count": 7,
   "id": "29112190",
   "metadata": {},
   "outputs": [],
   "source": [
    "##### get the counts for pie plot\n",
    "K_opt = 5\n",
    "nsig_nonrp_dict = {}\n",
    "nsig_rp_dict = {}\n",
    "nsigrp_ = []\n",
    "\n",
    "for t in types_list:\n",
    "    nsig_nonrp = np.zeros(K_opt)\n",
    "    nsig_rp = np.zeros(K_opt)\n",
    "    \n",
    "    label_t = np.array(label_dict[t])\n",
    "    rp_label_t = np.array(rp_label_dict[t])\n",
    "    rp_t = np.array(rp_dict[t])\n",
    "    \n",
    "    for j in range(K_opt):\n",
    "        nsig_total_j = np.sum(label_t==j)\n",
    "        nsig_rp_j = np.sum(rp_label_t==j)\n",
    "        nsig_nonrp[j] = nsig_total_j - nsig_rp_j\n",
    "        nsig_rp[j] = nsig_rp_j\n",
    "\n",
    "    nsig_nonrp_dict[t] = nsig_nonrp\n",
    "    nsig_rp_dict[t] = nsig_rp\n",
    "\n",
    "    nsigrp_.append(np.sum(nsig_rp))"
   ]
  },
  {
   "cell_type": "code",
   "execution_count": 8,
   "id": "72b6fece",
   "metadata": {},
   "outputs": [
    {
     "name": "stdout",
     "output_type": "stream",
     "text": [
      "6.0\n",
      "6.0\n",
      "5.0\n",
      "7.0\n"
     ]
    }
   ],
   "source": [
    "print(np.mean(nsigrp_))\n",
    "print(np.median(nsigrp_))\n",
    "print(np.min(nsigrp_))\n",
    "print(np.max(nsigrp_))"
   ]
  },
  {
   "cell_type": "markdown",
   "id": "8b860756",
   "metadata": {},
   "source": [
    "#### all types together"
   ]
  },
  {
   "cell_type": "code",
   "execution_count": 14,
   "id": "f2075026",
   "metadata": {},
   "outputs": [
    {
     "name": "stdout",
     "output_type": "stream",
     "text": [
      "p=2.9048408269544155e-07\n",
      "3-4 RP=7.23%\n",
      "0-2 RP=0.00%\n"
     ]
    }
   ],
   "source": [
    "# cluster 3-4 vs 0-2\n",
    "rp_label_all = np.concatenate([lst for lst in rp_label_dict.values()])\n",
    "label_all = np.concatenate([lst for lst in label_dict.values()])\n",
    "\n",
    "# number of sig tf with label=\n",
    "n11 = np.sum((rp_label_all==3)|(rp_label_all==4))\n",
    "# number of sig tf with label=\n",
    "n12 = np.sum((rp_label_all==0)|(rp_label_all==1)|(rp_label_all==2))\n",
    "# number of sig non-tf with label=\n",
    "n21 = np.sum((label_all==3)|(label_all==4)) - n11\n",
    "# number of sig non-tf with label=\n",
    "n22 = np.sum((label_all==0)|(label_all==1)|(label_all==2)) - n12\n",
    "\n",
    "#       label=     label=\n",
    "data = [[n11,      n12], # RP\n",
    "        [n21,      n22]] # non-RP\n",
    "\n",
    "# fisher test\n",
    "odd_ratio, p_value1 = stats.fisher_exact(data)\n",
    "print(f'p={p_value1}')\n",
    "print(f'3-4 RP={n11/(n11+n21)*100:.2f}%')\n",
    "print(f'0-2 RP={n12/(n12+n22)*100:.2f}%')\n",
    "\n",
    "p21 = [p_value1]"
   ]
  },
  {
   "cell_type": "code",
   "execution_count": 15,
   "id": "c3a89b21",
   "metadata": {},
   "outputs": [
    {
     "name": "stdout",
     "output_type": "stream",
     "text": [
      "p=0.0856984140716103\n",
      "3-4 RP=7.23%\n",
      "0-2,-1 RP=4.38%\n"
     ]
    }
   ],
   "source": [
    "# all types together\n",
    "# cluster 0-2 vs all others\n",
    "rp_label_all = np.concatenate([lst for lst in rp_label_dict.values()])\n",
    "label_all = np.concatenate([lst for lst in label_dict.values()])\n",
    "\n",
    "# number of sig tf with label=\n",
    "n11 = np.sum((rp_label_all==3)|(rp_label_all==4))\n",
    "# number of sig tf with label=\n",
    "n12 = np.sum((rp_label_all==0)|(rp_label_all==1)|(rp_label_all==2)|(rp_label_all==-1))\n",
    "# number of sig non-tf with label=\n",
    "n21 = np.sum((label_all==3)|(label_all==4)) - n11\n",
    "# number of sig non-tf with label=\n",
    "n22 = np.sum((label_all==0)|(label_all==1)|(label_all==2)|(label_all==-1)) - n12\n",
    "\n",
    "#       label=     label=\n",
    "data = [[n11,      n12], # RP\n",
    "        [n21,      n22]] # non-RP\n",
    "\n",
    "# fisher test\n",
    "odd_ratio, p_value2 = stats.fisher_exact(data)\n",
    "print(f'p={p_value2}')\n",
    "print(f'3-4 RP={n11/(n11+n21)*100:.2f}%')\n",
    "print(f'0-2,-1 RP={n12/(n12+n22)*100:.2f}%')\n",
    "\n",
    "p13 = [p_value2]"
   ]
  },
  {
   "cell_type": "code",
   "execution_count": 16,
   "id": "fbe85d25",
   "metadata": {},
   "outputs": [],
   "source": [
    "def sig_symb(p_value):\n",
    "    if p_value <= 0.001:\n",
    "        sig_symbol = '***'\n",
    "    elif p_value <= 0.01:\n",
    "        sig_symbol = '**'\n",
    "    elif p_value <= 0.05:\n",
    "        sig_symbol = '*'\n",
    "    else:\n",
    "        sig_symbol = ''\n",
    "    return sig_symbol"
   ]
  },
  {
   "cell_type": "code",
   "execution_count": 18,
   "id": "dc940ce0",
   "metadata": {},
   "outputs": [
    {
     "name": "stdout",
     "output_type": "stream",
     "text": [
      "[0.         0.07228916 0.05046282]\n"
     ]
    },
    {
     "data": {
      "image/png": "[encoded data removed]",
      "text/plain": [
       "<Figure size 525x1050 with 1 Axes>"
      ]
     },
     "metadata": {
      "needs_background": "light"
     },
     "output_type": "display_data"
    }
   ],
   "source": [
    "# bar plot of all clusters\n",
    "\n",
    "bar_width = 0.8\n",
    "colors = [red, darkgreen, darkgray]\n",
    "\n",
    "nr = 1\n",
    "nc = 1\n",
    "ss_nr = 3.5\n",
    "ss_nc = 7/4\n",
    "fig = plt.figure(figsize=(nc*ss_nc, nr*ss_nr), dpi=300)\n",
    "gs = fig.add_gridspec(nr, nc,\n",
    "                      width_ratios=[1]*nc,\n",
    "                      height_ratios=[1]*nr)\n",
    "gs.update(wspace=0.0, hspace=0.0)\n",
    "ax = plt.subplot(gs[0, 0])\n",
    "\n",
    "bar_pos = np.array([1,2,3])\n",
    "rp_proportion = []\n",
    "# cluster 0-2\n",
    "rp_proportion.append(np.sum(np.logical_or.reduce([rp_label_all==0, rp_label_all==1, rp_label_all==2]))/np.sum(np.logical_or.reduce([label_all==0, label_all==1, label_all==2])))\n",
    "# cluster 3-4\n",
    "rp_proportion.append(np.sum(np.logical_or.reduce([rp_label_all==3, rp_label_all==4]))/np.sum(np.logical_or.reduce([label_all==3, label_all==4])))\n",
    "# other than 3-4,-1\n",
    "rp_proportion.append(np.sum(np.logical_or.reduce([rp_label_all==3, rp_label_all==4, rp_label_all==-1]))/np.sum(np.logical_or.reduce([label_all==3, label_all==4, label_all==-1])))\n",
    "rp_proportion = np.array(rp_proportion)\n",
    "print(rp_proportion)\n",
    "nonrp_proportion = 1-rp_proportion\n",
    "\n",
    "bars_low = ax.bar(bar_pos, rp_proportion, \n",
    "                  width = bar_width,\n",
    "                  color=colors, alpha=0.8)\n",
    "bars_upper = ax.bar(bar_pos, nonrp_proportion, \n",
    "                    width = bar_width,\n",
    "                    bottom=rp_proportion, color=colors, alpha=0.2)\n",
    "\n",
    "ax.set_xlim(0.4,3.6)\n",
    "ax.set_ylim(-0.01, 1.01)\n",
    "ax.set_xticks(bar_pos, bar_pos)\n",
    "\n",
    "# pv\n",
    "hgap_big = 0.4\n",
    "hgap_small = 0.01\n",
    "hgap_txt = 0.1\n",
    "for j, p in enumerate(p21[:]):\n",
    "    x1 = 1\n",
    "    x2 = x1+1\n",
    "    bar1_max = rp_proportion[0] \n",
    "    bar2_max = rp_proportion[1] \n",
    "    bar12_max = np.maximum(bar1_max, bar2_max)\n",
    "    \n",
    "    if p<=0.05:\n",
    "        ax.plot(\n",
    "            [x1, x1, x2, x2],\n",
    "            [bar1_max+hgap_txt, bar12_max+hgap_big*1.7, bar12_max+hgap_big*1.7, bar2_max+hgap_txt],\n",
    "            lw=1, \n",
    "            color='black'\n",
    "        )\n",
    "\n",
    "        ax.text((x1+x2)/2, bar12_max+hgap_big*1.7+hgap_small, sig_symb(p), ha='center', va='center')\n",
    "    \n",
    "# pv\n",
    "hgap_big = 0.3\n",
    "hgap_small = 0.01\n",
    "hgap_txt = 0.1\n",
    "for j, p in enumerate(p13[:]):\n",
    "    x1 = 1\n",
    "    x2 = x1+2\n",
    "    bar1_max = rp_proportion[0]\n",
    "    bar2_max = rp_proportion[2]\n",
    "    bar12_max = np.maximum(bar1_max, bar2_max)\n",
    "    \n",
    "    if p<=0.05:\n",
    "        ax.plot(\n",
    "            [x1, x1, x2, x2],\n",
    "            [bar1_max+hgap_txt, bar12_max+hgap_big*2, bar12_max+hgap_big*2, bar2_max+hgap_txt],\n",
    "            lw=1, \n",
    "            color='black'\n",
    "        )\n",
    "\n",
    "        ax.text((x1+x2)/2, bar12_max+hgap_big*2+hgap_small, sig_symb(p), ha='center', va='center')\n",
    "\n",
    "# plt.savefig(f'figs/fig_RP_all.pdf', dpi=300, bbox_inches='tight')"
   ]
  },
  {
   "cell_type": "code",
   "execution_count": null,
   "id": "dd5fe7dd",
   "metadata": {},
   "outputs": [],
   "source": []
  }
 ],
 "metadata": {
  "kernelspec": {
   "display_name": "Python 3 (ipykernel)",
   "language": "python",
   "name": "python3"
  },
  "language_info": {
   "codemirror_mode": {
    "name": "ipython",
    "version": 3
   },
   "file_extension": ".py",
   "mimetype": "text/x-python",
   "name": "python",
   "nbconvert_exporter": "python",
   "pygments_lexer": "ipython3",
   "version": "3.10.4"
  }
 },
 "nbformat": 4,
 "nbformat_minor": 5
}
