{
 "cells": [
  {
   "cell_type": "markdown",
   "id": "330c608c-4b68-461f-bd9f-c97282047741",
   "metadata": {},
   "source": [
    "### Demo ELLA analysis\n",
    "\n",
    "Code for \"A Complete Demo\": https://jadexq.github.io/ELLA/complete_demo.html"
   ]
  },
  {
   "cell_type": "code",
   "execution_count": 1,
   "id": "ab2edca3-f07b-4125-993e-3f524bb3915d",
   "metadata": {},
   "outputs": [],
   "source": [
    "# import ELLA\n",
    "from ELLA.ELLA import model_beta, model_null, loss_ll, ELLA\n",
    "ella_demo = ELLA(dataset='demo')"
   ]
  },
  {
   "cell_type": "markdown",
   "id": "28a3a80a-5eed-4ff7-ad66-545e6cada387",
   "metadata": {},
   "source": [
    "#### Data pre-processing"
   ]
  },
  {
   "cell_type": "code",
   "execution_count": 2,
   "id": "08da15cf-e751-4803-85a4-bc3ea569942b",
   "metadata": {},
   "outputs": [
    {
     "name": "stdout",
     "output_type": "stream",
     "text": [
      "Number of cell types 1\n",
      "Average number of genes 50.0\n",
      "Average number of cells 20.0\n",
      "Number of default kernels 22\n"
     ]
    }
   ],
   "source": [
    "# load data\n",
    "ella_demo.load_data(data_path='input/complete_demo_data.pkl')"
   ]
  },
  {
   "cell_type": "code",
   "execution_count": 3,
   "id": "de1f206a-6e1d-49ce-9992-9287656f5919",
   "metadata": {},
   "outputs": [
    {
     "name": "stderr",
     "output_type": "stream",
     "text": [
      "Processing cells: 100%|█████████████████████████████████████████████████████████████████████████████████████████████████████████████████████████████████████████████████████| 20/20 [00:05<00:00,  3.41it/s]"
     ]
    },
    {
     "name": "stdout",
     "output_type": "stream",
     "text": [
      "Number of cells registered 20\n"
     ]
    },
    {
     "name": "stderr",
     "output_type": "stream",
     "text": [
      "\n"
     ]
    }
   ],
   "source": [
    "# register cells\n",
    "ella_demo.register_cells()"
   ]
  },
  {
   "cell_type": "code",
   "execution_count": 4,
   "id": "2b58094c-5f93-4282-aac3-d66a6555fe30",
   "metadata": {},
   "outputs": [
    {
     "name": "stderr",
     "output_type": "stream",
     "text": [
      "Preparing data for fibroblast: 100%|████████████████████████████████████████████████████████████████████████████████████████████████████████████████████████████████████████| 50/50 [00:00<00:00, 56.03it/s]\n"
     ]
    }
   ],
   "source": [
    "# prepare data for model fitting\n",
    "ella_demo.nhpp_prepare() "
   ]
  },
  {
   "cell_type": "markdown",
   "id": "04727bd4-d2e9-4527-82d5-47246b38c31e",
   "metadata": {},
   "source": [
    "#### Model fitting"
   ]
  },
  {
   "cell_type": "code",
   "execution_count": null,
   "id": "8ce2ce37-a822-43ba-8247-73105b79332a",
   "metadata": {},
   "outputs": [],
   "source": [
    "# fit nhpp model\n",
    "# ella_demo.nhpp_fit()\n",
    "\n",
    "# load saved results\n",
    "ella_demo.load_nhpp_fit_results(res_path='output/nhpp_fit_results_saved.pkl')"
   ]
  },
  {
   "cell_type": "markdown",
   "id": "9f681ec3-bc55-45ba-9f06-1e6e5ec5ae0d",
   "metadata": {},
   "source": [
    "#### Testing and estimation"
   ]
  },
  {
   "cell_type": "code",
   "execution_count": null,
   "id": "41e30fd9-8288-4a6a-954a-07b033ca02c0",
   "metadata": {},
   "outputs": [],
   "source": [
    "# expression intensity estimation\n",
    "ella_demo.weighted_density_est()"
   ]
  },
  {
   "cell_type": "code",
   "execution_count": null,
   "id": "1b19d7db-fa5d-459d-beab-d0189e866276",
   "metadata": {},
   "outputs": [],
   "source": [
    "# likelihood ratio test\n",
    "ella_demo.compute_pv()"
   ]
  },
  {
   "cell_type": "markdown",
   "id": "2ca0382d",
   "metadata": {},
   "source": [
    "#### Pattern clustering"
   ]
  },
  {
   "cell_type": "code",
   "execution_count": null,
   "id": "d08ffa09",
   "metadata": {},
   "outputs": [],
   "source": [
    "ella_demo.pattern_clustering()"
   ]
  },
  {
   "cell_type": "code",
   "execution_count": null,
   "id": "50e2695b",
   "metadata": {},
   "outputs": [],
   "source": [
    "ella_demo.pattern_labeling(K=5)"
   ]
  },
  {
   "cell_type": "markdown",
   "id": "5430bebd-5253-4820-a97c-002993598411",
   "metadata": {},
   "source": [
    "#### Check out ELLA's results"
   ]
  },
  {
   "cell_type": "code",
   "execution_count": null,
   "id": "6def6ba7-288b-47f2-8097-6700877b872c",
   "metadata": {},
   "outputs": [],
   "source": [
    "import numpy as np\n",
    "import pandas as pd\n",
    "import matplotlib.pyplot as plt\n",
    "import alphashape\n",
    "\n",
    "red = '#c0362c'\n",
    "lightorange = '#fabc2e'\n",
    "lightgreen = '#93c572'\n",
    "lightblue = '#5d8aa8'\n",
    "darkgray ='#545454'\n",
    "darkblue = '#284d88'\n",
    "colors = [red, lightorange, lightgreen, lightblue, darkblue]"
   ]
  },
  {
   "cell_type": "code",
   "execution_count": null,
   "id": "d2c5237d-a365-4da0-b558-83c724a623e0",
   "metadata": {},
   "outputs": [],
   "source": [
    "# cell IDs\n",
    "cells = ella_demo.cell_list_dict['fibroblast']\n",
    "# gene IDs\n",
    "genes = ella_demo.gene_list_dict['fibroblast']\n",
    "# FDR corrected p values\n",
    "pv = ella_demo.pv_fdr_tl['fibroblast']\n",
    "# estimated expression intensities\n",
    "lam = ella_demo.weighted_lam_est['fibroblast']\n",
    "# pattern cluster label\n",
    "lab = ella_demo.labels_dict['fibroblast']\n",
    "# demo data\n",
    "demo_data = pd.read_pickle('input/complete_demo_data.pkl')\n",
    "# cell segmentations\n",
    "cell_seg = demo_data['cell_seg']\n",
    "# nucleus segmentations\n",
    "nucleus_seg = demo_data['nucleus_seg']\n",
    "# gene expressions\n",
    "expr = demo_data['expr']"
   ]
  },
  {
   "cell_type": "code",
   "execution_count": null,
   "id": "0a59c60e-c2bd-4f08-960e-2abd6aa73ddf",
   "metadata": {},
   "outputs": [],
   "source": [
    "# plot cells and genes\n",
    "cl_plot= ['5-9', '11-5', '6-10', '4-8', '5-0']\n",
    "K = 5\n",
    "\n",
    "nr = K\n",
    "nc = len(cl_plot)+1\n",
    "ss_nr = 2\n",
    "ss_nc = 2\n",
    "fig = plt.figure(figsize=(nc*ss_nc, nr*ss_nr), dpi=300)\n",
    "gs = fig.add_gridspec(nr, nc,\n",
    "                      width_ratios=[1]*nc,\n",
    "                      height_ratios=[1]*nr)\n",
    "gs.update(wspace=0.1, hspace=0.1)\n",
    "\n",
    "# plot estimated expression intensities \n",
    "for k in range(K):\n",
    "    ax = plt.subplot(gs[k,0])\n",
    "    lams_k = np.array(lam)[lab==k,:]\n",
    "    for j in range(lams_k.shape[0]):\n",
    "        lam_g = lams_k[j,:]\n",
    "        lam_g_std = (lam_g-np.min(lam_g))/(np.max(lam_g)-np.min(lam_g))\n",
    "        ax.plot(np.linspace(0,1,len(lam_g_std)), lam_g_std, lw=1, alpha=0.8, color=colors[k])\n",
    "    ax.set_xlim((-0.2, 1.2))\n",
    "    ax.set_ylim((-0.2, 1.2))\n",
    "    ax.set_xticks([])\n",
    "    ax.set_yticks([])\n",
    "    ax.set_xlabel('')\n",
    "    ax.set_ylabel(f'Cluster {k+1}')\n",
    "    ax.spines['top'].set_visible(False)\n",
    "    ax.spines['right'].set_visible(False)\n",
    "    ax.spines['left'].set_visible(False)\n",
    "    ax.spines['bottom'].set_visible(False)\n",
    "\n",
    "# plot cells and genes\n",
    "for i, c in enumerate(cl_plot):\n",
    "    for k in range(K):\n",
    "        ax = plt.subplot(gs[k,i+1])\n",
    "        gl = np.array(genes)[lab==k]\n",
    "        cell_seg_c = cell_seg[cell_seg.cell==c]\n",
    "        nucleus_seg_c = nucleus_seg[nucleus_seg.cell==c]\n",
    "        expr_c = expr[expr.cell==c]\n",
    "\n",
    "        # cell segmentation\n",
    "        x_reduced = (cell_seg_c.x.values//10) * 10 # reduce resolution to speedup alphashape\n",
    "        y_reduced = (cell_seg_c.y.values//10) * 10\n",
    "        points = np.stack((x_reduced, y_reduced)).transpose()\n",
    "        unique_points = np.unique(points, axis=0)\n",
    "        alpha_shape_ = alphashape.alphashape(unique_points, 0.1)\n",
    "        cb_x_, cb_y_ = alpha_shape_.exterior.xy\n",
    "        ax.plot(cb_x_, cb_y_, \n",
    "                alpha=0.5,\n",
    "                color=darkgray, lw=1, zorder=1)\n",
    "\n",
    "        # nuclear segmentation\n",
    "        x_reduced = (nucleus_seg_c.x.values//10) * 10 # reduce res to speedup alphashape\n",
    "        y_reduced = (nucleus_seg_c.y.values//10) * 10\n",
    "        points = np.stack((x_reduced, y_reduced)).transpose()\n",
    "        unique_points = np.unique(points, axis=0)\n",
    "        alpha_shape_ = alphashape.alphashape(unique_points, 0.1)\n",
    "        cb_x_, cb_y_ = alpha_shape_.exterior.xy\n",
    "        ax.plot(cb_x_, cb_y_, \n",
    "                alpha=0.5,\n",
    "                color=darkgray, lw=1, zorder=1)\n",
    "\n",
    "        # gene expr\n",
    "        expr_c_g = expr_c[expr_c.gene.isin(gl)]\n",
    "        ax.scatter(expr_c_g.x,\n",
    "                   expr_c_g.y,\n",
    "                   s = 20,\n",
    "                   edgecolor='none',\n",
    "                   color=colors[k],\n",
    "                   alpha=0.5,\n",
    "                   zorder=2)\n",
    "\n",
    "        # cell center\n",
    "        xc = expr_c.centerX.iloc[0]\n",
    "        yc = expr_c.centerY.iloc[0]\n",
    "        ax.scatter(xc, yc, c=darkgray, marker='+',lw=1, s=60, zorder=3)\n",
    "\n",
    "        ax.set_aspect('equal', adjustable='box')\n",
    "        #ax.axis('off')\n",
    "        ax.spines['top'].set_visible(False)\n",
    "        ax.spines['right'].set_visible(False)\n",
    "        ax.spines['left'].set_visible(False)\n",
    "        ax.spines['bottom'].set_visible(False)\n",
    "        ax.set_xticks([])\n",
    "        ax.set_yticks([])\n",
    "        \n",
    "        if k==0:\n",
    "            ax.set_title(c)"
   ]
  },
  {
   "cell_type": "code",
   "execution_count": null,
   "id": "62033d31-947c-4ca1-9349-09fdcad91440",
   "metadata": {},
   "outputs": [],
   "source": []
  }
 ],
 "metadata": {
  "kernelspec": {
   "display_name": "Python 3 (ipykernel)",
   "language": "python",
   "name": "python3"
  },
  "language_info": {
   "codemirror_mode": {
    "name": "ipython",
    "version": 3
   },
   "file_extension": ".py",
   "mimetype": "text/x-python",
   "name": "python",
   "nbconvert_exporter": "python",
   "pygments_lexer": "ipython3",
   "version": "3.10.14"
  }
 },
 "nbformat": 4,
 "nbformat_minor": 5
}
