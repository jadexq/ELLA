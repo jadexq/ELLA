{
 "cells": [
  {
   "cell_type": "markdown",
   "id": "4eca0e76",
   "metadata": {},
   "source": [
    "### Transcription factor proportion"
   ]
  },
  {
   "cell_type": "code",
   "execution_count": null,
   "id": "817c1f09",
   "metadata": {},
   "outputs": [],
   "source": [
    "import time\n",
    "import timeit\n",
    "import pickle\n",
    "import numpy as np\n",
    "import pandas as pd\n",
    "import matplotlib.pyplot as plt\n",
    "from matplotlib import colors as mcolors\n",
    "from tqdm import tqdm\n",
    "# from scipy.stats import beta\n",
    "# from scipy.stats import wilcoxon\n",
    "from scipy.stats import mannwhitneyu\n",
    "# from collections import defaultdict\n",
    "import scipy.stats as stats\n",
    "\n",
    "# transparent background\n",
    "plt.rcParams.update({\n",
    "    \"figure.facecolor\":  (0.0, 0.0, 0.0, 0.0),  \n",
    "    \"axes.facecolor\":    (0.0, 0.0, 0.0, 0.0),  \n",
    "})"
   ]
  },
  {
   "cell_type": "code",
   "execution_count": 2,
   "id": "2788a6a9",
   "metadata": {},
   "outputs": [
    {
     "data": {
      "image/png": "[encoded data removed]",
      "text/plain": [
       "<Figure size 1000x150 with 1 Axes>"
      ]
     },
     "metadata": {
      "needs_background": "light"
     },
     "output_type": "display_data"
    }
   ],
   "source": [
    "# define colors\n",
    "purple = '#856088'\n",
    "pink = '#F25278'\n",
    "red = '#d96256'\n",
    "lightgreen = '#93c572'\n",
    "darkgreen = '#4c9141'\n",
    "lightblue = '#5d8aa8'\n",
    "darkblue = '#284d88'\n",
    "white = '#fafafa'\n",
    "lightgray = '#d3d3d3'\n",
    "darkgray ='#545454'\n",
    "lightorange = '#fabc2e'\n",
    "darkorange = '#fb9912'\n",
    "lightyellow = '#e4d00a'\n",
    "lightgreen2 = '#32CD32'\n",
    "lightblue2 = '#189AB4'\n",
    "darkblue2 = '#05445E'\n",
    "lightpink = '#F79AC0'\n",
    "darkorange2 = '#FA8128'\n",
    "darkyellow = '#BDA55D'\n",
    "lightgray2 = '#E2E0D4'\n",
    "lightgray3 = '#BFBBA4'\n",
    "\n",
    "colors = [\n",
    "    red, lightorange, lightgreen, lightblue, darkblue, \n",
    "    darkgray, lightgray, purple, darkgreen, darkorange,\n",
    "    pink, darkorange2, lightblue2, lightgreen2, lightyellow,\n",
    "    lightpink, darkyellow, darkblue2, lightgray2, lightgray3\n",
    "]\n",
    "\n",
    "plt.figure(figsize=(10, 1.5))\n",
    "plt.bar(range(len(colors)), height=1, color=colors)\n",
    "__ = plt.axis('off')"
   ]
  },
  {
   "cell_type": "markdown",
   "id": "5a269021",
   "metadata": {},
   "source": [
    "#### load data"
   ]
  },
  {
   "cell_type": "code",
   "execution_count": 3,
   "id": "48e73943",
   "metadata": {},
   "outputs": [],
   "source": [
    "# load ella results\n",
    "fn = '../ella/output_ella/ella_seqfish.pkl'\n",
    "res_dict = pd.read_pickle(fn)\n",
    "types_list = res_dict['types_list']\n",
    "genes_dict = res_dict['genes_dict']\n",
    "cells_dict = res_dict['cells_dict']\n",
    "p_fdr_dict = res_dict['p_fdr_dict']\n",
    "score_dict = res_dict['score_dict']\n",
    "lam_dict = res_dict['lam_dict']\n",
    "label_dict = res_dict['label_dict']\n",
    "del res_dict"
   ]
  },
  {
   "cell_type": "markdown",
   "id": "37f96e3d",
   "metadata": {},
   "source": [
    "#### transcription factors"
   ]
  },
  {
   "cell_type": "code",
   "execution_count": 4,
   "id": "5f999bb4",
   "metadata": {},
   "outputs": [
    {
     "name": "stdout",
     "output_type": "stream",
     "text": [
      "total #TF 1385\n",
      "included #TF 244\n",
      "sig #TF 244\n"
     ]
    }
   ],
   "source": [
    "# TF genes\n",
    "fn = 'input/Browse Transcription Factors mm9 - resource_browser.csv'\n",
    "tab = pd.read_csv(fn)\n",
    "tf_list = tab.Symbol.unique().tolist()\n",
    "print(f'total #TF {len(tf_list)}')\n",
    "\n",
    "list1_lower = [item.lower() for item in tf_list]\n",
    "list2_lower = [item.lower() for item in genes_dict['fibroblast']]\n",
    "seqfish_TFs = set(list1_lower).intersection(set(list2_lower))\n",
    "print(f'included #TF {len(seqfish_TFs)}')\n",
    "\n",
    "list1_lower = [item.lower() for item in tf_list]\n",
    "list2_lower = [item.lower() for item in np.array(genes_dict['fibroblast'])[p_fdr_dict['fibroblast']<=0.05]]\n",
    "seqfish_TFs_sig = set(list1_lower).intersection(set(list2_lower))\n",
    "print(f'sig #TF {len(seqfish_TFs_sig)}')"
   ]
  },
  {
   "cell_type": "code",
   "execution_count": 5,
   "id": "433e2ad8",
   "metadata": {},
   "outputs": [
    {
     "name": "stdout",
     "output_type": "stream",
     "text": [
      "#TF avl in fibroblast 244\n"
     ]
    }
   ],
   "source": [
    "# TF included\n",
    "tf_dict = {}\n",
    "for t in types_list:\n",
    "    gl_t = genes_dict[t]\n",
    "    tf_dict[t] = list(set(gl_t).intersection(tf_list))\n",
    "    print(f'#TF avl in {t} {len(tf_dict[t])}')"
   ]
  },
  {
   "cell_type": "code",
   "execution_count": 6,
   "id": "173fa809",
   "metadata": {},
   "outputs": [],
   "source": [
    "# get pv, scores, labels of included TFs genes\n",
    "tf_gene_list_dict = {}\n",
    "tf_pv_fdr_dict = {}\n",
    "tf_scores_dict = {}\n",
    "tf_labels_dict = {}\n",
    "for t in types_list:\n",
    "    tf_t = np.array(tf_dict[t])\n",
    "    gl_t = np.array(genes_dict[t])\n",
    "    pv_fdr_t = np.array(p_fdr_dict[t])\n",
    "    scores_t = np.array(score_dict[t])\n",
    "    labels_t = np.array(label_dict[t])\n",
    "    tf_pv_fdr_t = []\n",
    "    tf_scores_t = []\n",
    "    tf_labels_t = []\n",
    "    for ig, g in enumerate(tf_t):\n",
    "        idx = np.where(gl_t == g)[0][0]\n",
    "        tf_pv_fdr_t.append(pv_fdr_t[idx])\n",
    "        tf_scores_t.append(scores_t[idx])\n",
    "        tf_labels_t.append(labels_t[idx])\n",
    "    tf_pv_fdr_dict[t] = tf_pv_fdr_t\n",
    "    tf_scores_dict[t] = tf_scores_t\n",
    "    tf_labels_dict[t] = tf_labels_t\n",
    "    nsig_ = np.sum(np.array(tf_pv_fdr_t)<=0.05)"
   ]
  },
  {
   "cell_type": "code",
   "execution_count": 7,
   "id": "5e213c81",
   "metadata": {},
   "outputs": [
    {
     "name": "stdout",
     "output_type": "stream",
     "text": [
      "%TF=3.03%\n",
      "%TF=17.84%\n",
      "%TF=2.97%\n",
      "%TF=8.51%\n",
      "%TF=7.50%\n",
      "%TF=0.00%\n"
     ]
    }
   ],
   "source": [
    "# tf proportion in each cluster\n",
    "tf_prop_list = []\n",
    "tf_num_list = []\n",
    "for t in types_list:\n",
    "    labels_t = label_dict[t]\n",
    "    tf_labels_t = tf_labels_dict[t]\n",
    "    for k in [0,1,2,3,4,-1]:\n",
    "        tf_prop = np.sum(np.array(tf_labels_t)==k)/np.sum(labels_t==k)\n",
    "        tf_prop_list.append(tf_prop)\n",
    "        tf_num_list.append(np.sum(np.array(tf_labels_t)==k))\n",
    "        print(f'%TF={tf_prop*100:.2f}%')"
   ]
  },
  {
   "cell_type": "code",
   "execution_count": 19,
   "id": "ad271242",
   "metadata": {},
   "outputs": [
    {
     "name": "stdout",
     "output_type": "stream",
     "text": [
      "p=0.00028731439662462615\n",
      "1-3 TF=12.56%\n",
      "4-5 TF=7.73%\n"
     ]
    }
   ],
   "source": [
    "# fisher's test\n",
    "# cluster 1-3 vs 4-5\n",
    "tf_label_all = np.concatenate(list(tf_labels_dict.values()))\n",
    "label_all = np.concatenate([lst for lst in label_dict.values()])\n",
    "\n",
    "# number of sig tf with label=\n",
    "n11 = np.sum((tf_label_all<=2)&(tf_label_all!=-1))\n",
    "# number of sig tf with label=\n",
    "n12 = np.sum(tf_label_all>2)\n",
    "# number of sig non-tf with label=\n",
    "n21 = np.sum((label_all<=2)&(label_all!=-1)) - n11\n",
    "# number of sig non-tf with label=\n",
    "n22 = np.sum(label_all>2) - n12\n",
    "\n",
    "#       label=     label=\n",
    "data = [[n11,      n12], # SRP\n",
    "        [n21,      n22]] # non-SRP\n",
    "\n",
    "# fisher test\n",
    "odd_ratio, p_value1 = stats.fisher_exact(data)\n",
    "print(f'p={p_value1}')\n",
    "print(f'1-3 TF={n11/(n11+n21)*100:.2f}%')\n",
    "print(f'4-5 TF={n12/(n12+n22)*100:.2f}%')\n",
    "\n",
    "p12=[p_value1]"
   ]
  },
  {
   "cell_type": "code",
   "execution_count": 20,
   "id": "479ad616",
   "metadata": {},
   "outputs": [
    {
     "name": "stdout",
     "output_type": "stream",
     "text": [
      "p=0.00021848434654599222\n",
      "1-3 TF=12.56%\n",
      "4-5,-1 TF=7.72%\n"
     ]
    }
   ],
   "source": [
    "# fisher's test\n",
    "# cluster 1-3 vs 4-5,-1\n",
    "tf_label_all = np.concatenate(list(tf_labels_dict.values()))\n",
    "label_all = np.concatenate([lst for lst in label_dict.values()])\n",
    "\n",
    "# number of sig tf with label=\n",
    "n11 = np.sum((tf_label_all<=2)&(tf_label_all!=-1))\n",
    "# number of sig tf with label=\n",
    "n12 = np.sum((tf_label_all>2)|(tf_label_all==-1))\n",
    "# number of sig non-tf with label=\n",
    "n21 = np.sum((label_all<=2)&(label_all!=-1)) - n11\n",
    "# number of sig non-tf with label=\n",
    "n22 = np.sum((label_all>2)|(label_all==-1)) - n12\n",
    "\n",
    "#       label=     label=\n",
    "data = [[n11,      n12], # SRP\n",
    "        [n21,      n22]] # non-SRP\n",
    "\n",
    "# fisher test\n",
    "odd_ratio, p_value2 = stats.fisher_exact(data)\n",
    "print(f'p={p_value2}')\n",
    "print(f'1-3 TF={n11/(n11+n21)*100:.2f}%')\n",
    "print(f'4-5,-1 TF={n12/(n12+n22)*100:.2f}%')\n",
    "\n",
    "p13=[p_value2]"
   ]
  },
  {
   "cell_type": "code",
   "execution_count": 21,
   "id": "369a2a36",
   "metadata": {},
   "outputs": [],
   "source": [
    "def sig_symb(p_value):\n",
    "    if p_value <= 0.001:\n",
    "        sig_symbol = '***'\n",
    "    elif p_value <= 0.01:\n",
    "        sig_symbol = '**'\n",
    "    elif p_value <= 0.05:\n",
    "        sig_symbol = '*'\n",
    "    else:\n",
    "        sig_symbol = ''\n",
    "    return sig_symbol"
   ]
  },
  {
   "cell_type": "code",
   "execution_count": 24,
   "id": "efb92dfb",
   "metadata": {},
   "outputs": [
    {
     "name": "stdout",
     "output_type": "stream",
     "text": [
      "[0.12556732 0.07729237 0.07718121]\n"
     ]
    },
    {
     "data": {
      "image/png": "[encoded data removed]",
      "text/plain": [
       "<Figure size 525x1050 with 1 Axes>"
      ]
     },
     "metadata": {
      "needs_background": "light"
     },
     "output_type": "display_data"
    }
   ],
   "source": [
    "# bar plot of all clusters\n",
    "\n",
    "bar_width = 0.8\n",
    "colors = [red, darkgreen, darkgray]\n",
    "\n",
    "nr = 1\n",
    "nc = 1\n",
    "ss_nr = 3.5\n",
    "ss_nc = 7/4\n",
    "fig = plt.figure(figsize=(nc*ss_nc, nr*ss_nr), dpi=300)\n",
    "gs = fig.add_gridspec(nr, nc,\n",
    "                      width_ratios=[1]*nc,\n",
    "                      height_ratios=[1]*nr)\n",
    "gs.update(wspace=0.0, hspace=0.0)\n",
    "ax = plt.subplot(gs[0, 0])\n",
    "\n",
    "bar_pos = np.array([1,2,3])\n",
    "tf_proportion = []\n",
    "# cluster 0-2\n",
    "tf_proportion.append(np.sum(np.logical_or.reduce([tf_label_all==0, tf_label_all==1, tf_label_all==2]))/np.sum(np.logical_or.reduce([label_all==0, label_all==1, label_all==2])))\n",
    "# cluster 3-4\n",
    "tf_proportion.append(np.sum(np.logical_or.reduce([tf_label_all==3, tf_label_all==4]))/np.sum(np.logical_or.reduce([label_all==3, label_all==4])))\n",
    "# other than 3-4,-1\n",
    "tf_proportion.append(np.sum(np.logical_or.reduce([tf_label_all==3, tf_label_all==4, tf_label_all==-1]))/np.sum(np.logical_or.reduce([label_all==3, label_all==4, label_all==-1])))\n",
    "tf_proportion = np.array(tf_proportion)\n",
    "print(tf_proportion)\n",
    "nontf_proportion = 1-tf_proportion\n",
    "\n",
    "bars_low = ax.bar(bar_pos, tf_proportion,\n",
    "                  width = bar_width,\n",
    "                  color=colors, alpha=0.8)\n",
    "bars_upper = ax.bar(bar_pos, nontf_proportion,\n",
    "                    width = bar_width,\n",
    "                    bottom=tf_proportion, color=colors, alpha=0.2)\n",
    "\n",
    "ax.set_xlim(0.4,3.6)\n",
    "ax.set_ylim(-0.01, 1.01)\n",
    "ax.set_xticks(bar_pos, bar_pos)\n",
    "\n",
    "# pv\n",
    "hgap_big = 0.4\n",
    "hgap_small = 0.01\n",
    "hgap_txt = 0.1\n",
    "for j, p in enumerate(p12[:]):\n",
    "    x1 = 1\n",
    "    x2 = x1+1\n",
    "    bar1_max = tf_proportion[0]\n",
    "    bar2_max = tf_proportion[1]\n",
    "    bar12_max = np.maximum(bar1_max, bar2_max)\n",
    "\n",
    "    if p<=0.05:\n",
    "        ax.plot(\n",
    "            [x1, x1, x2, x2],\n",
    "            [bar1_max+hgap_txt, bar12_max+hgap_big*1.5, bar12_max+hgap_big*1.5, bar2_max+hgap_txt],\n",
    "            lw=1,\n",
    "            color='black'\n",
    "        )\n",
    "\n",
    "        ax.text((x1+x2)/2, bar12_max+hgap_big*1.5+hgap_small, sig_symb(p), ha='center', va='center')\n",
    "\n",
    "# pv\n",
    "hgap_big = 0.4\n",
    "hgap_small = 0.01\n",
    "hgap_txt = 0.1\n",
    "for j, p in enumerate(p13[:]):\n",
    "    x1 = 1\n",
    "    x2 = x1+2\n",
    "    bar1_max = tf_proportion[0]\n",
    "    bar2_max = tf_proportion[2]\n",
    "    bar12_max = np.maximum(bar1_max, bar2_max)\n",
    "\n",
    "    if p<=0.05:\n",
    "        ax.plot(\n",
    "            [x1, x1, x2, x2],\n",
    "            [bar1_max+hgap_txt, bar12_max+hgap_big*1.8, bar12_max+hgap_big*1.8, bar2_max+hgap_txt],\n",
    "            lw=1,\n",
    "            color='black'\n",
    "        )\n",
    "\n",
    "        ax.text((x1+x2)/2, bar12_max+hgap_big*1.8+hgap_small, sig_symb(p), ha='center', va='center')\n",
    "\n",
    "# plt.savefig(f'figs/fig_tf_all.pdf', dpi=300, bbox_inches='tight')"
   ]
  },
  {
   "cell_type": "code",
   "execution_count": null,
   "id": "68b546d1",
   "metadata": {},
   "outputs": [],
   "source": []
  }
 ],
 "metadata": {
  "kernelspec": {
   "display_name": "Python 3 (ipykernel)",
   "language": "python",
   "name": "python3"
  },
  "language_info": {
   "codemirror_mode": {
    "name": "ipython",
    "version": 3
   },
   "file_extension": ".py",
   "mimetype": "text/x-python",
   "name": "python",
   "nbconvert_exporter": "python",
   "pygments_lexer": "ipython3",
   "version": "3.10.4"
  }
 },
 "nbformat": 4,
 "nbformat_minor": 5
}
