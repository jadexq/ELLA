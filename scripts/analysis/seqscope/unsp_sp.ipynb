{
 "cells": [
  {
   "cell_type": "markdown",
   "id": "c0e3ef1c",
   "metadata": {},
   "source": [
    "### Unspliced spliced ratio"
   ]
  },
  {
   "cell_type": "code",
   "execution_count": null,
   "id": "c9935061",
   "metadata": {},
   "outputs": [],
   "source": [
    "import time\n",
    "import timeit\n",
    "import pickle\n",
    "import numpy as np\n",
    "import pandas as pd\n",
    "import matplotlib.pyplot as plt\n",
    "from matplotlib import colors as mcolors\n",
    "from tqdm import tqdm\n",
    "from scipy.stats import mannwhitneyu\n",
    "\n",
    "# transparent background\n",
    "plt.rcParams.update({\n",
    "    \"figure.facecolor\":  (0.0, 0.0, 0.0, 0.0),  \n",
    "    \"axes.facecolor\":    (0.0, 0.0, 0.0, 0.0),  \n",
    "})"
   ]
  },
  {
   "cell_type": "code",
   "execution_count": 2,
   "id": "1b992620",
   "metadata": {},
   "outputs": [
    {
     "data": {
      "image/png": "[encoded data removed]",
      "text/plain": [
       "<Figure size 1000x150 with 1 Axes>"
      ]
     },
     "metadata": {
      "needs_background": "light"
     },
     "output_type": "display_data"
    }
   ],
   "source": [
    "# define colors\n",
    "purple = '#856088'\n",
    "pink = '#F25278'\n",
    "red = '#d96256'\n",
    "lightgreen = '#93c572'\n",
    "darkgreen = '#4c9141'\n",
    "lightblue = '#5d8aa8'\n",
    "darkblue = '#284d88'\n",
    "white = '#fafafa'\n",
    "lightgray = '#d3d3d3'\n",
    "darkgray ='#545454'\n",
    "lightorange = '#fabc2e'\n",
    "darkorange = '#fb9912'\n",
    "lightyellow = '#e4d00a'\n",
    "lightgreen2 = '#32CD32'\n",
    "lightblue2 = '#189AB4'\n",
    "darkblue2 = '#05445E'\n",
    "lightpink = '#F79AC0'\n",
    "darkorange2 = '#FA8128'\n",
    "darkyellow = '#BDA55D'\n",
    "lightgray2 = '#E2E0D4'\n",
    "lightgray3 = '#BFBBA4'\n",
    "\n",
    "colors = [\n",
    "    red, lightorange, lightgreen, lightblue, darkblue, \n",
    "    darkgray, lightgray, purple, darkgreen, darkorange,\n",
    "    pink, darkorange2, lightblue2, lightgreen2, lightyellow,\n",
    "    lightpink, darkyellow, darkblue2, lightgray2, lightgray3\n",
    "]\n",
    "\n",
    "plt.figure(figsize=(10, 1.5))\n",
    "plt.bar(range(len(colors)), height=1, color=colors)\n",
    "__ = plt.axis('off')"
   ]
  },
  {
   "cell_type": "markdown",
   "id": "cd9379b8",
   "metadata": {},
   "source": [
    "#### load data"
   ]
  },
  {
   "cell_type": "code",
   "execution_count": 5,
   "id": "dcb9216e",
   "metadata": {},
   "outputs": [],
   "source": [
    "# load ella seqscope results\n",
    "fn = '../ella/output_ella/ella_seqscope.pkl'\n",
    "res_dict = pd.read_pickle(fn)\n",
    "types_list = res_dict['types_list']\n",
    "genes_dict = res_dict['genes_dict']\n",
    "cells_dict = res_dict['cells_dict']\n",
    "p_fdr_dict = res_dict['p_fdr_dict']\n",
    "score_dict = res_dict['score_dict']\n",
    "lam_dict = res_dict['lam_dict']\n",
    "label_dict = res_dict['label_dict']\n",
    "del res_dict"
   ]
  },
  {
   "cell_type": "code",
   "execution_count": 6,
   "id": "984a2998",
   "metadata": {},
   "outputs": [],
   "source": [
    "# load seqscope processed un/sp data\n",
    "path = '../seqscope_unsp_dict.pkl'\n",
    "pickle_dict = pd.read_pickle(path)\n",
    "seqscope_type_list = pickle_dict['seqscope_type_list']\n",
    "seqscope_gene_list_dict = pickle_dict['seqscope_gene_list_dict']\n",
    "seqscope_cell_list_dict = pickle_dict['seqscope_cell_list_dict']\n",
    "seqscope_unsp_df = pickle_dict['seqscope_unsp_df']\n",
    "seqscope_sp_df = pickle_dict['seqscope_sp_df'] "
   ]
  },
  {
   "cell_type": "markdown",
   "id": "9b14550e",
   "metadata": {},
   "source": [
    "#### compute ratio"
   ]
  },
  {
   "cell_type": "code",
   "execution_count": 7,
   "id": "9e1774b6",
   "metadata": {},
   "outputs": [],
   "source": [
    "def compute_ratio(type_list, gene_list_dict, cell_list_dict, sp_df, unsp_df, c0=1):\n",
    "    '''\n",
    "    Function of computing the avg unsp/sp ratio of all avl cells for each gene in each cell type\n",
    "    Args:\n",
    "        c0: add this const to both nominator and denominator (=1 by default)\n",
    "        type_list: list of cell types\n",
    "        gene_list_dict\n",
    "        cell_list_dict\n",
    "        sp_df\n",
    "        unsp_df\n",
    "    Returns:\n",
    "        dict of cell types, each has the ratio for all genes, invalid values are -1\n",
    "        dict of cell types, number of cells avl for each gene\n",
    "    '''\n",
    "    ratio_dict = {} # ratio\n",
    "    ncavl_dict = {} # num of cells avl\n",
    "\n",
    "    for t in type_list:\n",
    "        print(f'compute unsp/sp ratio for cell type {t}')\n",
    "        gl_t = gene_list_dict[t]\n",
    "        cl_t = cell_list_dict[t]\n",
    "        unsp_df_t = unsp_df[unsp_df.cell.isin(cl_t)].copy()\n",
    "        sp_df_t = sp_df[sp_df.cell.isin(cl_t)].copy()\n",
    "        ratio_t = np.full(len(gl_t), -1.0)\n",
    "        ncavl_t = np.full(len(gl_t), -1.0)\n",
    "        for ig, g in enumerate(gl_t[:]):\n",
    "            unsp_df_t_g = unsp_df_t[unsp_df_t.gene==g]\n",
    "            sp_df_t_g = sp_df_t[sp_df_t.gene==g]\n",
    "            cl_t_g = np.unique(unsp_df_t_g.cell.unique().tolist()+sp_df_t_g.cell.unique().tolist()).tolist()\n",
    "            if len(cl_t_g)>0:\n",
    "                ratio_t_c = np.full(len(cl_t_g), -1.0)\n",
    "                for ic, c in enumerate(cl_t_g):\n",
    "                    unsp_df_t_g_c = unsp_df_t_g[unsp_df_t_g.cell==c]\n",
    "                    sp_df_t_g_c = sp_df_t_g[sp_df_t_g.cell==c]\n",
    "                    n_unsp = unsp_df_t_g_c.umi.sum()\n",
    "                    n_sp = sp_df_t_g_c.umi.sum()\n",
    "                    ratio_t_c[ic] = (n_unsp+c0)/(n_sp+c0) # add c0\n",
    "                # for each gene, the mean ratio of all cells\n",
    "                ratio_t[ig] = np.mean(ratio_t_c) \n",
    "                ncavl_t[ig] = len(cl_t_g)\n",
    "            else:\n",
    "                ratio_t[ig] = -1\n",
    "        ratio_dict[t] = ratio_t\n",
    "        ncavl_dict[t] = ncavl_t\n",
    "    \n",
    "    return ratio_dict, ncavl_dict"
   ]
  },
  {
   "cell_type": "code",
   "execution_count": 8,
   "id": "9cf43779",
   "metadata": {},
   "outputs": [
    {
     "name": "stdout",
     "output_type": "stream",
     "text": [
      "compute unsp/sp ratio for cell type H1\n",
      "compute unsp/sp ratio for cell type H2\n",
      "compute unsp/sp ratio for cell type TD1\n",
      "compute unsp/sp ratio for cell type TD2\n",
      "Time:  635.074079472106\n"
     ]
    }
   ],
   "source": [
    "# compute ratio_dict and ncavl_dict\n",
    "start = timeit.default_timer()\n",
    "ratio_dict, ncavl_dict =  compute_ratio(seqscope_type_list, \n",
    "                                        seqscope_gene_list_dict, \n",
    "                                        seqscope_cell_list_dict, \n",
    "                                        seqscope_sp_df, \n",
    "                                        seqscope_unsp_df, \n",
    "                                        c0=1)\n",
    "stop = timeit.default_timer()\n",
    "print('Time: ', stop - start) # ~426s"
   ]
  },
  {
   "cell_type": "code",
   "execution_count": 9,
   "id": "04423e3b",
   "metadata": {},
   "outputs": [
    {
     "name": "stdout",
     "output_type": "stream",
     "text": [
      "gl1=1295 gl2=1295 com=1295\n",
      "gl1=1318 gl2=1318 com=1318\n",
      "gl1=497 gl2=497 com=497\n",
      "gl1=1349 gl2=1349 com=1349\n"
     ]
    }
   ],
   "source": [
    "# check if the two gene lists are identical\n",
    "for t in types_list:\n",
    "    gl1 = seqscope_gene_list_dict[t]\n",
    "    gl2 = genes_dict[t]\n",
    "    com = list(set(gl1).intersection(gl2))\n",
    "    print(f'gl1={len(gl1)} gl2={len(gl2)} com={len(com)}')"
   ]
  },
  {
   "cell_type": "code",
   "execution_count": 10,
   "id": "f61be53c",
   "metadata": {},
   "outputs": [],
   "source": [
    "# build df\n",
    "ratio_df_dict = {}\n",
    "for t in types_list:\n",
    "    pv_t = p_fdr_dict[t]\n",
    "    label_t = label_dict[t]\n",
    "    score_t = score_dict[t]\n",
    "    gene_t = genes_dict[t]\n",
    "    ratio_t = ratio_dict[t]\n",
    "    ratio_df_dict[t] = pd.DataFrame({'gene':gene_t, 'pv':pv_t, 'label':label_t, 'score':score_t, 'ratio':ratio_t})"
   ]
  },
  {
   "cell_type": "code",
   "execution_count": 11,
   "id": "11b5f6fb",
   "metadata": {},
   "outputs": [],
   "source": [
    "# save for later use\n",
    "path = 'output/ratio_df_dict.pkl'\n",
    "with open(path, 'wb') as f:\n",
    "    pickle.dump(ratio_df_dict, f)"
   ]
  },
  {
   "cell_type": "code",
   "execution_count": 12,
   "id": "6312ed77",
   "metadata": {},
   "outputs": [],
   "source": [
    "# load ratio_df_dict\n",
    "path = 'output/ratio_df_dict.pkl'\n",
    "ratio_df_dict = pd.read_pickle(path)"
   ]
  },
  {
   "cell_type": "markdown",
   "id": "b0e741b9",
   "metadata": {},
   "source": [
    "#### all types together"
   ]
  },
  {
   "cell_type": "code",
   "execution_count": 13,
   "id": "807ff4d2",
   "metadata": {},
   "outputs": [
    {
     "data": {
      "text/html": [
       "<div>\n",
       "<style scoped>\n",
       "    .dataframe tbody tr th:only-of-type {\n",
       "        vertical-align: middle;\n",
       "    }\n",
       "\n",
       "    .dataframe tbody tr th {\n",
       "        vertical-align: top;\n",
       "    }\n",
       "\n",
       "    .dataframe thead th {\n",
       "        text-align: right;\n",
       "    }\n",
       "</style>\n",
       "<table border=\"1\" class=\"dataframe\">\n",
       "  <thead>\n",
       "    <tr style=\"text-align: right;\">\n",
       "      <th></th>\n",
       "      <th>gene</th>\n",
       "      <th>pv</th>\n",
       "      <th>label</th>\n",
       "      <th>score</th>\n",
       "      <th>ratio</th>\n",
       "    </tr>\n",
       "  </thead>\n",
       "  <tbody>\n",
       "    <tr>\n",
       "      <th>0</th>\n",
       "      <td>Alb</td>\n",
       "      <td>0.000458</td>\n",
       "      <td>2</td>\n",
       "      <td>0.595768</td>\n",
       "      <td>0.007497</td>\n",
       "    </tr>\n",
       "    <tr>\n",
       "      <th>1</th>\n",
       "      <td>mt-Co1</td>\n",
       "      <td>0.000525</td>\n",
       "      <td>2</td>\n",
       "      <td>0.595768</td>\n",
       "      <td>0.221634</td>\n",
       "    </tr>\n",
       "    <tr>\n",
       "      <th>2</th>\n",
       "      <td>Gm26924</td>\n",
       "      <td>0.000476</td>\n",
       "      <td>2</td>\n",
       "      <td>0.595768</td>\n",
       "      <td>0.022623</td>\n",
       "    </tr>\n",
       "  </tbody>\n",
       "</table>\n",
       "</div>"
      ],
      "text/plain": [
       "      gene        pv  label     score     ratio\n",
       "0      Alb  0.000458      2  0.595768  0.007497\n",
       "1   mt-Co1  0.000525      2  0.595768  0.221634\n",
       "2  Gm26924  0.000476      2  0.595768  0.022623"
      ]
     },
     "execution_count": 13,
     "metadata": {},
     "output_type": "execute_result"
    }
   ],
   "source": [
    "# merged df\n",
    "merged_df = pd.concat(ratio_df_dict.values(), ignore_index=True)\n",
    "merged_df = merged_df[merged_df.ratio>-1]\n",
    "merged_df.head(3)"
   ]
  },
  {
   "cell_type": "code",
   "execution_count": 29,
   "id": "2ebc51a1",
   "metadata": {},
   "outputs": [
    {
     "name": "stdout",
     "output_type": "stream",
     "text": [
      "1 vs 2-5 \n",
      "p=7.911069303413832e-21\n",
      "fc=2.5210343912286004\n",
      "1 vs others \n",
      "p=0.5776468097776155\n",
      "fc=1.080536060287949\n"
     ]
    }
   ],
   "source": [
    "# wilcoxon cluster 1 vs 2-5 \n",
    "sample1 = merged_df['ratio'][(merged_df.label==0)].values\n",
    "sample2 = merged_df['ratio'][(merged_df.label==1)|(merged_df.label==2)|(merged_df.label==3)|(merged_df.label==4)].values\n",
    "__statistic, p_value1 = mannwhitneyu(sample1, sample2)\n",
    "print(f'1 vs 2-5 \\np={p_value1}')\n",
    "print(f'fc={np.mean(sample1)/np.mean(sample2)}')\n",
    "p12 = [p_value1]\n",
    "\n",
    "# wilcoxon cluster 1 vs all else\n",
    "sample3 = merged_df['ratio'][(merged_df.label==-1)|(merged_df.label==1)|(merged_df.label==2)|(merged_df.label==3)|(merged_df.label==4)].values\n",
    "__statistic, p_value2 = mannwhitneyu(sample1, sample3)\n",
    "print(f'1 vs others \\np={p_value2}')\n",
    "print(f'fc={np.mean(sample1)/np.mean(sample3)}')\n",
    "p13 = [p_value2]"
   ]
  },
  {
   "cell_type": "raw",
   "id": "8f62c302",
   "metadata": {},
   "source": [
    "# hist to check \n",
    "nr = 3\n",
    "nc = 1\n",
    "ss_nr = 1.5\n",
    "ss_nc = 3\n",
    "fig = plt.figure(figsize=(nc*ss_nc, nr*ss_nr), dpi=300)\n",
    "gs = fig.add_gridspec(nr,nc,\n",
    "                      width_ratios=[1]*nc,\n",
    "                      height_ratios=[1]*nr)\n",
    "gs.update(wspace=0.0, hspace=0.0)\n",
    "\n",
    "ax = plt.subplot(gs[0, 0])\n",
    "ax.hist(sample1, color=red)\n",
    "ax.set_xlim(0,5)\n",
    "ax = plt.subplot(gs[1, 0])\n",
    "ax.hist(sample2, color=darkyellow)\n",
    "ax.set_xlim(0,5)\n",
    "ax = plt.subplot(gs[2, 0])\n",
    "ax.hist(sample3, color=lightgray3)\n",
    "ax.set_xlim(0,5)"
   ]
  },
  {
   "cell_type": "code",
   "execution_count": 26,
   "id": "bd903d27",
   "metadata": {},
   "outputs": [],
   "source": [
    "# bar plot\n",
    "means = [\n",
    "    (merged_df.ratio)[merged_df.label==0].mean(),\n",
    "    (merged_df.ratio)[(merged_df.label!=0)&(merged_df.label!=-1)].mean(),\n",
    "    (merged_df.ratio)[merged_df.label!=-1].mean(),\n",
    "]\n",
    "\n",
    "# Individual data points for each category\n",
    "data_points = [\n",
    "    (merged_df.ratio)[merged_df.label==0],\n",
    "    (merged_df.ratio)[(merged_df.label!=0)&(merged_df.label!=-1)],\n",
    "    (merged_df.ratio)[merged_df.label!=-1],\n",
    "]\n",
    "\n",
    "# remove outliers\n",
    "lbs = []\n",
    "ubs = []\n",
    "data_points2 = []\n",
    "for j in range(len(data_points)):\n",
    "    data_j = data_points[j]\n",
    "    \n",
    "    # IQR\n",
    "    Q1 = np.percentile(data_j, 25)\n",
    "    Q3 = np.percentile(data_j, 75)\n",
    "    # IQR = Q3 - Q1\n",
    "    lower_bound = Q1\n",
    "    upper_bound = Q3\n",
    "    lbs.append(np.maximum(means[j]-lower_bound,0))\n",
    "    ubs.append(np.maximum(upper_bound-means[j],0))\n",
    "    \n",
    "    data_j2 = data_j[(data_j >= lower_bound) & (data_j <= upper_bound)]\n",
    "    \n",
    "    data_points2.append(data_j2)"
   ]
  },
  {
   "cell_type": "code",
   "execution_count": 27,
   "id": "3498924e",
   "metadata": {},
   "outputs": [],
   "source": [
    "def sig_symb(p_value):\n",
    "    if p_value <= 0.001:\n",
    "        sig_symbol = '***'\n",
    "    elif p_value <= 0.01:\n",
    "        sig_symbol = '**'\n",
    "    elif p_value <= 0.05:\n",
    "        sig_symbol = '*'\n",
    "    else:\n",
    "        sig_symbol = ''\n",
    "    return sig_symbol"
   ]
  },
  {
   "cell_type": "code",
   "execution_count": 41,
   "id": "0c6440d6",
   "metadata": {},
   "outputs": [
    {
     "data": {
      "image/png": "[encoded data removed]",
      "text/plain": [
       "<Figure size 525x1050 with 1 Axes>"
      ]
     },
     "metadata": {
      "needs_background": "light"
     },
     "output_type": "display_data"
    }
   ],
   "source": [
    "nr = 1\n",
    "nc = 1\n",
    "ss_nr = 3.5\n",
    "ss_nc = 7/4\n",
    "fig = plt.figure(figsize=(nc*ss_nc, nr*ss_nr), dpi=300)\n",
    "gs = fig.add_gridspec(nr,nc,\n",
    "                      width_ratios=[1]*nc,\n",
    "                      height_ratios=[1]*nr)\n",
    "gs.update(wspace=0.0, hspace=0.0)\n",
    "ax = plt.subplot(gs[0, 0])\n",
    "\n",
    "colors = [red, darkgreen, darkgray]\n",
    "bar_pos = np.array([1,2,3])\n",
    "\n",
    "# bar\n",
    "bars = ax.bar(bar_pos, means, yerr=np.array([lbs, ubs]), \n",
    "              capsize=5, \n",
    "              color=colors,\n",
    "              zorder=1,\n",
    "              alpha=0.4)\n",
    "# the std \n",
    "bars = ax.bar(bar_pos, means, yerr=np.array([lbs, ubs]), \n",
    "              capsize=5, \n",
    "              zorder=3,\n",
    "              alpha=0)\n",
    "\n",
    "# Define the width of the spread\n",
    "width = bars[0].get_width() / 1.0\n",
    "\n",
    "# Adding spread dots\n",
    "for _i, (i, data) in enumerate(zip(bar_pos, data_points2)):\n",
    "    # Spread dots around the center of the bar\n",
    "    x = np.random.normal(i, width/10, size=len(data))\n",
    "    ax.plot(x, data, '.', \n",
    "            color=colors[_i], \n",
    "            markeredgewidth=0, mec='none', alpha=0.7, zorder=1)\n",
    "\n",
    "# add 1 vs 2-5 pv\n",
    "hgap_big = 0.1\n",
    "hgap_small = 0.02\n",
    "for j, p in enumerate(p12[:]):\n",
    "    x1 = bar_pos[::3][j]\n",
    "    x2 = x1+1\n",
    "    bar1_max = means[j*3]+ubs[j*3]\n",
    "    bar2_max = means[j*3+1]+ubs[j*3+1]\n",
    "    bar12_max = np.maximum(bar1_max, bar2_max)\n",
    "    \n",
    "    if p<=0.05:\n",
    "        ax.plot(\n",
    "            [x1, x1, x2, x2],\n",
    "            [bar1_max+hgap_small, bar12_max+hgap_big, bar12_max+hgap_big, bar2_max+hgap_small],\n",
    "            lw=1, \n",
    "            color='black'\n",
    "        )\n",
    "\n",
    "        ax.text((x1+x2)/2, bar12_max+hgap_big+hgap_small, sig_symb(p), ha='center', va='center')\n",
    "    \n",
    "# add 1 vs others pv\n",
    "hgap_big = 0.1*2\n",
    "hgap_small = 0.02\n",
    "for j, p in enumerate(p13[:]):\n",
    "    x1 = bar_pos[::3][j]\n",
    "    x2 = x1+2\n",
    "    bar1_max = means[j*3]+ubs[j*3]\n",
    "    bar2_max = means[j*3+2]+ubs[j*3+2]\n",
    "    bar12_max = np.maximum(bar1_max, bar2_max)\n",
    "    \n",
    "    if p<=0.05:\n",
    "        ax.plot(\n",
    "            [x1, x1, x2, x2],\n",
    "            [bar1_max+hgap_small, bar12_max+hgap_big, bar12_max+hgap_big, bar2_max+hgap_small],\n",
    "            lw=1, \n",
    "            color='black'\n",
    "        )\n",
    "\n",
    "        ax.text((x1+x2)/2, bar12_max+hgap_big+hgap_small, sig_symb(p), ha='center', va='center')\n",
    "    \n",
    "ax.set_xlabel('')\n",
    "ax.set_ylabel('')\n",
    "ax.set_title('')\n",
    "ax.set_ylim((0, 1.17))\n",
    "\n",
    "# plt.savefig(f'figs/fig_unsp_all.pdf', dpi=300, bbox_inches='tight')"
   ]
  },
  {
   "cell_type": "code",
   "execution_count": null,
   "id": "bb6a55ea",
   "metadata": {},
   "outputs": [],
   "source": []
  }
 ],
 "metadata": {
  "kernelspec": {
   "display_name": "Python 3 (ipykernel)",
   "language": "python",
   "name": "python3"
  },
  "language_info": {
   "codemirror_mode": {
    "name": "ipython",
    "version": 3
   },
   "file_extension": ".py",
   "mimetype": "text/x-python",
   "name": "python",
   "nbconvert_exporter": "python",
   "pygments_lexer": "ipython3",
   "version": "3.10.4"
  }
 },
 "nbformat": 4,
 "nbformat_minor": 5
}
