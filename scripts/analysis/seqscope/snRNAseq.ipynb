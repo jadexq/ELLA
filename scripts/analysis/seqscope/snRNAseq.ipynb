{
 "cells": [
  {
   "cell_type": "markdown",
   "id": "ffde10c1",
   "metadata": {},
   "source": [
    "### Validation with snRNAseq\n",
    "\n",
    "Step4 -- validate sn seq hepatocytes with seqscope hepatocytes"
   ]
  },
  {
   "cell_type": "code",
   "execution_count": null,
   "id": "12f2c83f",
   "metadata": {},
   "outputs": [],
   "source": [
    "import time\n",
    "import pickle\n",
    "import numpy as np\n",
    "import pandas as pd\n",
    "import matplotlib.pyplot as plt\n",
    "from matplotlib import colors as mcolors\n",
    "from tqdm import tqdm\n",
    "from scipy.stats import beta\n",
    "# from scipy.stats import wilcoxon\n",
    "from scipy.stats import mannwhitneyu\n",
    "\n",
    "# transparent background\n",
    "plt.rcParams.update({\n",
    "    \"figure.facecolor\":  (0.0, 0.0, 0.0, 0.0),  \n",
    "    \"axes.facecolor\":    (0.0, 0.0, 0.0, 0.0),  \n",
    "})"
   ]
  },
  {
   "cell_type": "code",
   "execution_count": 2,
   "id": "982cfe3b",
   "metadata": {},
   "outputs": [
    {
     "data": {
      "image/png": "[encoded data removed]",
      "text/plain": [
       "<Figure size 1000x150 with 1 Axes>"
      ]
     },
     "metadata": {
      "needs_background": "light"
     },
     "output_type": "display_data"
    }
   ],
   "source": [
    "# define colors\n",
    "purple = '#856088'\n",
    "pink = '#F25278'\n",
    "red = '#d96256'\n",
    "lightgreen = '#93c572'\n",
    "darkgreen = '#4c9141'\n",
    "lightblue = '#5d8aa8'\n",
    "darkblue = '#284d88'\n",
    "white = '#fafafa'\n",
    "lightgray = '#d3d3d3'\n",
    "darkgray ='#545454'\n",
    "lightorange = '#fabc2e'\n",
    "darkorange = '#fb9912'\n",
    "lightyellow = '#e4d00a'\n",
    "lightgreen2 = '#32CD32'\n",
    "lightblue2 = '#189AB4'\n",
    "darkblue2 = '#05445E'\n",
    "lightpink = '#F79AC0'\n",
    "darkorange2 = '#FA8128'\n",
    "darkyellow = '#BDA55D'\n",
    "lightgray2 = '#E2E0D4'\n",
    "lightgray3 = '#BFBBA4'\n",
    "\n",
    "colors = [\n",
    "    red, lightorange, lightgreen, lightblue, darkblue, \n",
    "    darkgray, lightgray, purple, darkgreen, darkorange,\n",
    "    pink, darkorange2, lightblue2, lightgreen2, lightyellow,\n",
    "    lightpink, darkyellow, darkblue2, lightgray2, lightgray3\n",
    "]\n",
    "\n",
    "plt.figure(figsize=(10, 1.5))\n",
    "plt.bar(range(len(colors)), height=1, color=colors)\n",
    "__ = plt.axis('off')"
   ]
  },
  {
   "cell_type": "markdown",
   "id": "814f32fa",
   "metadata": {},
   "source": [
    "#### load data"
   ]
  },
  {
   "cell_type": "code",
   "execution_count": 3,
   "id": "575a450f",
   "metadata": {},
   "outputs": [],
   "source": [
    "# load processed sn rna seq data\n",
    "path = '../validation6_snRNAseq/seqscope/output/sn.pkl'\n",
    "pickle_dict = pd.read_pickle(path)\n",
    "sn_counts = pickle_dict['counts']\n",
    "sn_norm_counts = pickle_dict['norm_counts']\n",
    "sn_genes = pickle_dict['genes']\n",
    "sn_cells = pickle_dict['cells']"
   ]
  },
  {
   "cell_type": "code",
   "execution_count": 24,
   "id": "39800184",
   "metadata": {},
   "outputs": [],
   "source": [
    "# load ella seqscope results\n",
    "fn = '../ella/output_ella/ella_seqscope.pkl'\n",
    "res_dict = pd.read_pickle(fn)\n",
    "types_list = res_dict['types_list']\n",
    "genes_dict = res_dict['genes_dict']\n",
    "cells_dict = res_dict['cells_dict']\n",
    "p_fdr_dict = res_dict['p_fdr_dict']\n",
    "score_dict = res_dict['score_dict']\n",
    "lam_dict = res_dict['lam_dict']\n",
    "label_dict = res_dict['label_dict']\n",
    "del res_dict"
   ]
  },
  {
   "cell_type": "code",
   "execution_count": 25,
   "id": "0bf5816a",
   "metadata": {},
   "outputs": [],
   "source": [
    "# load seqsope gene expr\n",
    "path='../ella/__input/seqscope_data_dict.pkl'\n",
    "pickle_dict = pd.read_pickle(path)\n",
    "data_df = pickle_dict['data_df']\n",
    "del pickle_dict"
   ]
  },
  {
   "cell_type": "markdown",
   "id": "7c3bf437",
   "metadata": {},
   "source": [
    "#### genes to validate"
   ]
  },
  {
   "cell_type": "code",
   "execution_count": 28,
   "id": "ba05808d",
   "metadata": {},
   "outputs": [
    {
     "name": "stdout",
     "output_type": "stream",
     "text": [
      "#genes to validate H1 1233\n",
      "#genes to validate H2 1259\n",
      "#genes to validate TD1 466\n",
      "#genes to validate TD2 1276\n"
     ]
    }
   ],
   "source": [
    "validate_genes_dict = {}\n",
    "for t in types_list:\n",
    "    validate_genes_dict[t] = list(set(sn_genes).intersection(genes_dict[t]))\n",
    "    print(f'#genes to validate {t} {len(validate_genes_dict[t])}')"
   ]
  },
  {
   "cell_type": "markdown",
   "id": "767f0cff",
   "metadata": {},
   "source": [
    "#### compute sn/sc ratio for `validate_gene_dict`"
   ]
  },
  {
   "cell_type": "code",
   "execution_count": 33,
   "id": "7186ccfc",
   "metadata": {},
   "outputs": [
    {
     "name": "stderr",
     "output_type": "stream",
     "text": [
      "Processing: 100%|██████████████████████████████████████████████████████████████████████████████████████████████████████████████████████████████████| 4/4 [16:43<00:00, 250.97s/it]\n"
     ]
    }
   ],
   "source": [
    "# compute ratios\n",
    "ratio_dict = {}\n",
    "for t in tqdm(types_list, desc='Processing'):\n",
    "    genes_t = validate_genes_dict[t]\n",
    "    ratio_t = np.zeros(len(genes_t))\n",
    "    for ig, g in enumerate(genes_t):\n",
    "        # avg gene count per cell in sc data\n",
    "        ig_sn = np.where(sn_genes == g)[0][0]\n",
    "        sn_avg = np.mean(sn_counts[:,ig_sn])\n",
    "        # avg gene count per cell in seqscope\n",
    "        nc = len(cells_dict[t])\n",
    "        f1 = data_df.cell.isin(cells_dict[t])\n",
    "        f2 = data_df.gene==g\n",
    "        df_g = data_df[f1&f2]\n",
    "        umi_sum = df_g.umi.sum()\n",
    "        avg = umi_sum/nc\n",
    "        # sn/sc ratio\n",
    "        ratio_g = sn_avg/avg\n",
    "        ratio_t[ig] = ratio_g\n",
    "    ratio_dict[t]= ratio_t\n",
    "# 20min\n",
    "\n",
    "# save\n",
    "# path = 'output/snRNAseq_ratio_dict'\n",
    "# with open(path, 'wb') as f:\n",
    "#     pickle.dump(ratio_dict, f)\n",
    "\n",
    "# load\n",
    "# path = 'output/snRNAseq_ratio_dict'\n",
    "# ratio_dict = pd.read_pickle(path)"
   ]
  },
  {
   "cell_type": "code",
   "execution_count": 34,
   "id": "1e145adb",
   "metadata": {},
   "outputs": [],
   "source": [
    "# find genes and their ratio, label, score \n",
    "ratio_df_dict = {}\n",
    "for t in types_list:\n",
    "    pv_t = p_fdr_dict[t]\n",
    "    label_t = label_dict[t]\n",
    "    score_t = score_dict[t]\n",
    "    \n",
    "    genes_t = np.array(genes_dict[t])\n",
    "    genes2_t = list(set(genes_t).intersection(validate_genes_dict[t]))\n",
    "\n",
    "    ratio2_t = np.zeros(len(genes2_t))\n",
    "    score2_t = np.zeros(len(genes2_t))\n",
    "    label2_t = np.zeros(len(genes2_t))\n",
    "    \n",
    "    for ig, g in enumerate(genes2_t):\n",
    "        ig_ratio = np.where(np.array(validate_genes_dict[t]) == g)[0][0]\n",
    "        ratio_g = ratio_dict[t][ig_ratio]\n",
    "        ratio2_t[ig] = ratio_g\n",
    "        ig_score = np.where(np.array(genes_dict[t]) == g)[0][0]\n",
    "        score_g = score_t[ig_score]\n",
    "        label_g = label_t[ig_score]\n",
    "        score2_t[ig] = score_g\n",
    "        label2_t[ig] = label_g\n",
    "    ratio_df_dict[t] = pd.DataFrame({'gene':genes2_t, 'ratio':ratio2_t, 'score':score2_t, 'label':label2_t})"
   ]
  },
  {
   "cell_type": "markdown",
   "id": "257b680c",
   "metadata": {},
   "source": [
    "#### all types merged together"
   ]
  },
  {
   "cell_type": "code",
   "execution_count": 35,
   "id": "dabfc79d",
   "metadata": {},
   "outputs": [
    {
     "data": {
      "text/html": [
       "<div>\n",
       "<style scoped>\n",
       "    .dataframe tbody tr th:only-of-type {\n",
       "        vertical-align: middle;\n",
       "    }\n",
       "\n",
       "    .dataframe tbody tr th {\n",
       "        vertical-align: top;\n",
       "    }\n",
       "\n",
       "    .dataframe thead th {\n",
       "        text-align: right;\n",
       "    }\n",
       "</style>\n",
       "<table border=\"1\" class=\"dataframe\">\n",
       "  <thead>\n",
       "    <tr style=\"text-align: right;\">\n",
       "      <th></th>\n",
       "      <th>gene</th>\n",
       "      <th>ratio</th>\n",
       "      <th>score</th>\n",
       "      <th>label</th>\n",
       "    </tr>\n",
       "  </thead>\n",
       "  <tbody>\n",
       "    <tr>\n",
       "      <th>0</th>\n",
       "      <td>Phb2</td>\n",
       "      <td>3.253682</td>\n",
       "      <td>0.172374</td>\n",
       "      <td>-1.0</td>\n",
       "    </tr>\n",
       "    <tr>\n",
       "      <th>1</th>\n",
       "      <td>Dpyd</td>\n",
       "      <td>163.727049</td>\n",
       "      <td>0.071566</td>\n",
       "      <td>-1.0</td>\n",
       "    </tr>\n",
       "    <tr>\n",
       "      <th>2</th>\n",
       "      <td>H2-T23</td>\n",
       "      <td>7.435806</td>\n",
       "      <td>0.726818</td>\n",
       "      <td>-1.0</td>\n",
       "    </tr>\n",
       "  </tbody>\n",
       "</table>\n",
       "</div>"
      ],
      "text/plain": [
       "     gene       ratio     score  label\n",
       "0    Phb2    3.253682  0.172374   -1.0\n",
       "1    Dpyd  163.727049  0.071566   -1.0\n",
       "2  H2-T23    7.435806  0.726818   -1.0"
      ]
     },
     "execution_count": 35,
     "metadata": {},
     "output_type": "execute_result"
    }
   ],
   "source": [
    "# merge together\n",
    "merged_df = pd.concat(ratio_df_dict.values(), ignore_index=True)\n",
    "merged_df.head(3)"
   ]
  },
  {
   "cell_type": "code",
   "execution_count": 36,
   "id": "c6cb4b27",
   "metadata": {},
   "outputs": [
    {
     "name": "stdout",
     "output_type": "stream",
     "text": [
      "1 vs 2-5 \n",
      "p=4.8958179069689535e-22\n",
      "fc=15.310602855819148\n",
      "1 vs others \n",
      "p=1.3647231101264491e-11\n",
      "fc=4.803891986479897\n"
     ]
    }
   ],
   "source": [
    "# wilcoxon cluster 1 vs 2-5 \n",
    "sample1 = merged_df['ratio'][(merged_df.label==0)].values\n",
    "sample2 = merged_df['ratio'][(merged_df.label==1)|(merged_df.label==2)|(merged_df.label==3)|(merged_df.label==4)].values\n",
    "__statistic, p_value1 = mannwhitneyu(sample1, sample2)\n",
    "print(f'1 vs 2-5 \\np={p_value1}')\n",
    "print(f'fc={np.mean(sample1)/np.mean(sample2)}')\n",
    "p12 = [p_value1]\n",
    "\n",
    "# wilcoxon cluster 1 vs all else\n",
    "sample3 = merged_df['ratio'][(merged_df.label==-1)|(merged_df.label==1)|(merged_df.label==2)|(merged_df.label==3)|(merged_df.label==4)].values\n",
    "__statistic, p_value2 = mannwhitneyu(sample1, sample3)\n",
    "print(f'1 vs others \\np={p_value2}')\n",
    "print(f'fc={np.mean(sample1)/np.mean(sample3)}')\n",
    "p13 = [p_value2]"
   ]
  },
  {
   "cell_type": "code",
   "execution_count": 37,
   "id": "41dd2588",
   "metadata": {},
   "outputs": [],
   "source": [
    "# bar plot\n",
    "means = [\n",
    "    (merged_df.ratio)[merged_df.label==0].mean(),\n",
    "    (merged_df.ratio)[(merged_df.label!=0)&(merged_df.label!=-1)].mean(),\n",
    "    (merged_df.ratio)[merged_df.label!=-1].mean(),\n",
    "]\n",
    "\n",
    "# Individual data points for each category\n",
    "data_points = [\n",
    "    (merged_df.ratio)[merged_df.label==0],\n",
    "    (merged_df.ratio)[(merged_df.label!=0)&(merged_df.label!=-1)],\n",
    "    (merged_df.ratio)[merged_df.label!=-1],\n",
    "]\n",
    "\n",
    "# remove outliers\n",
    "lbs = []\n",
    "ubs = []\n",
    "data_points2 = []\n",
    "for j in range(len(data_points)):\n",
    "    data_j = data_points[j]\n",
    "    \n",
    "    # IQR\n",
    "    Q1 = np.percentile(data_j, 25)\n",
    "    Q3 = np.percentile(data_j, 75)\n",
    "    # IQR = Q3 - Q1\n",
    "    lower_bound = Q1\n",
    "    upper_bound = Q3\n",
    "    lbs.append(np.maximum(means[j]-lower_bound,0))\n",
    "    ubs.append(np.maximum(upper_bound-means[j],0))\n",
    "    \n",
    "    data_j2 = data_j[(data_j >= lower_bound) & (data_j <= upper_bound)]\n",
    "    \n",
    "    data_points2.append(data_j2)"
   ]
  },
  {
   "cell_type": "code",
   "execution_count": 38,
   "id": "16c1e2d1",
   "metadata": {},
   "outputs": [],
   "source": [
    "def sig_symb(p_value):\n",
    "    if p_value <= 0.001:\n",
    "        sig_symbol = '***'\n",
    "    elif p_value <= 0.01:\n",
    "        sig_symbol = '**'\n",
    "    elif p_value <= 0.05:\n",
    "        sig_symbol = '*'\n",
    "    else:\n",
    "        sig_symbol = ''\n",
    "    return sig_symbol"
   ]
  },
  {
   "cell_type": "code",
   "execution_count": 52,
   "id": "477569b2",
   "metadata": {},
   "outputs": [
    {
     "data": {
      "image/png": "[encoded data removed]",
      "text/plain": [
       "<Figure size 525x1050 with 1 Axes>"
      ]
     },
     "metadata": {
      "needs_background": "light"
     },
     "output_type": "display_data"
    }
   ],
   "source": [
    "nr = 1\n",
    "nc = 1\n",
    "ss_nr = 3.5\n",
    "ss_nc = 7/4\n",
    "fig = plt.figure(figsize=(nc*ss_nc, nr*ss_nr), dpi=300)\n",
    "gs = fig.add_gridspec(nr,nc,\n",
    "                      width_ratios=[1]*nc,\n",
    "                      height_ratios=[1]*nr)\n",
    "gs.update(wspace=0.0, hspace=0.0)\n",
    "ax = plt.subplot(gs[0, 0])\n",
    "\n",
    "colors = [red, darkgreen, darkgray]\n",
    "bar_pos = np.array([1,2,3])\n",
    "\n",
    "# bar\n",
    "bars = ax.bar(bar_pos, means, yerr=np.array([lbs, ubs]), \n",
    "              capsize=5, \n",
    "              color=colors,\n",
    "              zorder=1,\n",
    "              alpha=0.4)\n",
    "# the std \n",
    "bars = ax.bar(bar_pos, means, yerr=np.array([lbs, ubs]), \n",
    "              capsize=5, \n",
    "              zorder=3,\n",
    "              alpha=0)\n",
    "\n",
    "# Define the width of the spread\n",
    "width = bars[0].get_width() / 1.0\n",
    "\n",
    "# Adding spread dots\n",
    "for _i, (i, data) in enumerate(zip(bar_pos, data_points2)):\n",
    "    # Spread dots around the center of the bar\n",
    "    x = np.random.normal(i, width/10, size=len(data))\n",
    "    ax.plot(x, data, '.', \n",
    "            color=colors[_i], \n",
    "            markeredgewidth=0, mec='none', alpha=0.7, zorder=1)\n",
    "\n",
    "# add 1 vs 2-5 pv\n",
    "hgap_big = 10\n",
    "hgap_small = 2\n",
    "for j, p in enumerate(p12[:]):\n",
    "    x1 = bar_pos[::3][j]\n",
    "    x2 = x1+1\n",
    "    bar1_max = means[j*3]+ubs[j*3]\n",
    "    bar2_max = means[j*3+1]+ubs[j*3+1]\n",
    "    bar12_max = np.maximum(bar1_max, bar2_max)\n",
    "    \n",
    "    if p<=0.05:\n",
    "        ax.plot(\n",
    "            [x1, x1, x2, x2],\n",
    "            [bar1_max+hgap_small, bar12_max+hgap_big, bar12_max+hgap_big, bar2_max+hgap_small],\n",
    "            lw=1, \n",
    "            color='black'\n",
    "        )\n",
    "\n",
    "        ax.text((x1+x2)/2, bar12_max+hgap_big+hgap_small, sig_symb(p), ha='center', va='center')\n",
    "    \n",
    "# add 1 vs others pv\n",
    "hgap_big = 10*2\n",
    "hgap_small = 2\n",
    "for j, p in enumerate(p13[:]):\n",
    "    x1 = bar_pos[::3][j]\n",
    "    x2 = x1+2\n",
    "    bar1_max = means[j*3]+ubs[j*3]\n",
    "    bar2_max = means[j*3+2]+ubs[j*3+2]\n",
    "    bar12_max = np.maximum(bar1_max, bar2_max)\n",
    "    \n",
    "    if p<=0.05:\n",
    "        ax.plot(\n",
    "            [x1, x1, x2, x2],\n",
    "            [bar1_max+hgap_small, bar12_max+hgap_big, bar12_max+hgap_big, bar2_max+hgap_small],\n",
    "            lw=1, \n",
    "            color='black'\n",
    "        )\n",
    "\n",
    "        ax.text((x1+x2)/2, bar12_max+hgap_big+hgap_small, sig_symb(p), ha='center', va='center')\n",
    "    \n",
    "ax.set_xlabel('')\n",
    "ax.set_ylabel('')\n",
    "ax.set_title('')\n",
    "ax.set_ylim((0, 115))\n",
    "\n",
    "# plt.savefig(f'figs/fig_snRNAseq_all.pdf', dpi=300, bbox_inches='tight')"
   ]
  },
  {
   "cell_type": "code",
   "execution_count": null,
   "id": "f8ad5c7f",
   "metadata": {},
   "outputs": [],
   "source": []
  }
 ],
 "metadata": {
  "kernelspec": {
   "display_name": "Python 3 (ipykernel)",
   "language": "python",
   "name": "python3"
  },
  "language_info": {
   "codemirror_mode": {
    "name": "ipython",
    "version": 3
   },
   "file_extension": ".py",
   "mimetype": "text/x-python",
   "name": "python",
   "nbconvert_exporter": "python",
   "pygments_lexer": "ipython3",
   "version": "3.10.4"
  }
 },
 "nbformat": 4,
 "nbformat_minor": 5
}
