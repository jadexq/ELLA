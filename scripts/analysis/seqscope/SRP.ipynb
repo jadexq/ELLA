{
 "cells": [
  {
   "cell_type": "markdown",
   "id": "92a7acab",
   "metadata": {},
   "source": [
    "### Genes with SRP"
   ]
  },
  {
   "cell_type": "code",
   "execution_count": null,
   "id": "4fb6c756",
   "metadata": {},
   "outputs": [],
   "source": [
    "import time\n",
    "import timeit\n",
    "import pickle\n",
    "import numpy as np\n",
    "import pandas as pd\n",
    "import matplotlib.pyplot as plt\n",
    "from matplotlib import colors as mcolors\n",
    "from tqdm import tqdm\n",
    "from scipy.stats import mannwhitneyu\n",
    "import scipy.stats as stats\n",
    "\n",
    "# transparent background\n",
    "plt.rcParams.update({\n",
    "    \"figure.facecolor\":  (0.0, 0.0, 0.0, 0.0),  \n",
    "    \"axes.facecolor\":    (0.0, 0.0, 0.0, 0.0),  \n",
    "})"
   ]
  },
  {
   "cell_type": "code",
   "execution_count": 2,
   "id": "551cdcd8",
   "metadata": {},
   "outputs": [
    {
     "data": {
      "image/png": "[encoded data removed]",
      "text/plain": [
       "<Figure size 1000x150 with 1 Axes>"
      ]
     },
     "metadata": {
      "needs_background": "light"
     },
     "output_type": "display_data"
    }
   ],
   "source": [
    "# define colors\n",
    "purple = '#856088'\n",
    "pink = '#F25278'\n",
    "red = '#d96256'\n",
    "lightgreen = '#93c572'\n",
    "darkgreen = '#4c9141'\n",
    "lightblue = '#5d8aa8'\n",
    "darkblue = '#284d88'\n",
    "white = '#fafafa'\n",
    "lightgray = '#d3d3d3'\n",
    "darkgray ='#545454'\n",
    "lightorange = '#fabc2e'\n",
    "darkorange = '#fb9912'\n",
    "lightyellow = '#e4d00a'\n",
    "lightgreen2 = '#32CD32'\n",
    "lightblue2 = '#189AB4'\n",
    "darkblue2 = '#05445E'\n",
    "lightpink = '#F79AC0'\n",
    "darkorange2 = '#FA8128'\n",
    "darkyellow = '#BDA55D'\n",
    "lightgray2 = '#E2E0D4'\n",
    "lightgray3 = '#BFBBA4'\n",
    "\n",
    "colors = [\n",
    "    red, lightorange, lightgreen, lightblue, darkblue, \n",
    "    darkgray, lightgray, purple, darkgreen, darkorange,\n",
    "    pink, darkorange2, lightblue2, lightgreen2, lightyellow,\n",
    "    lightpink, darkyellow, darkblue2, lightgray2, lightgray3\n",
    "]\n",
    "\n",
    "plt.figure(figsize=(10, 1.5))\n",
    "plt.bar(range(len(colors)), height=1, color=colors)\n",
    "__ = plt.axis('off')"
   ]
  },
  {
   "cell_type": "markdown",
   "id": "547d4746",
   "metadata": {},
   "source": [
    "#### load data"
   ]
  },
  {
   "cell_type": "code",
   "execution_count": 3,
   "id": "4b3b51c9",
   "metadata": {},
   "outputs": [
    {
     "data": {
      "text/html": [
       "<div>\n",
       "<style scoped>\n",
       "    .dataframe tbody tr th:only-of-type {\n",
       "        vertical-align: middle;\n",
       "    }\n",
       "\n",
       "    .dataframe tbody tr th {\n",
       "        vertical-align: top;\n",
       "    }\n",
       "\n",
       "    .dataframe thead th {\n",
       "        text-align: right;\n",
       "    }\n",
       "</style>\n",
       "<table border=\"1\" class=\"dataframe\">\n",
       "  <thead>\n",
       "    <tr style=\"text-align: right;\">\n",
       "      <th></th>\n",
       "      <th>gene</th>\n",
       "      <th>origin</th>\n",
       "      <th>feature</th>\n",
       "      <th>start</th>\n",
       "      <th>end</th>\n",
       "      <th>score</th>\n",
       "      <th>dot1</th>\n",
       "      <th>dot2</th>\n",
       "      <th>evidence</th>\n",
       "    </tr>\n",
       "  </thead>\n",
       "  <tbody>\n",
       "    <tr>\n",
       "      <th>5</th>\n",
       "      <td>Pkhd1</td>\n",
       "      <td>DeepSig</td>\n",
       "      <td>Signal peptide</td>\n",
       "      <td>1</td>\n",
       "      <td>18</td>\n",
       "      <td>1.00</td>\n",
       "      <td>.</td>\n",
       "      <td>.</td>\n",
       "      <td>evidence=ECO:0000256</td>\n",
       "    </tr>\n",
       "    <tr>\n",
       "      <th>8</th>\n",
       "      <td>Col19a1</td>\n",
       "      <td>DeepSig</td>\n",
       "      <td>Signal peptide</td>\n",
       "      <td>1</td>\n",
       "      <td>23</td>\n",
       "      <td>0.99</td>\n",
       "      <td>.</td>\n",
       "      <td>.</td>\n",
       "      <td>evidence=ECO:0000256</td>\n",
       "    </tr>\n",
       "    <tr>\n",
       "      <th>12</th>\n",
       "      <td>Col5a2</td>\n",
       "      <td>DeepSig</td>\n",
       "      <td>Signal peptide</td>\n",
       "      <td>1</td>\n",
       "      <td>26</td>\n",
       "      <td>1.00</td>\n",
       "      <td>.</td>\n",
       "      <td>.</td>\n",
       "      <td>evidence=ECO:0000256</td>\n",
       "    </tr>\n",
       "  </tbody>\n",
       "</table>\n",
       "</div>"
      ],
      "text/plain": [
       "       gene   origin         feature  start  end  score dot1 dot2  \\\n",
       "5     Pkhd1  DeepSig  Signal peptide      1   18   1.00    .    .   \n",
       "8   Col19a1  DeepSig  Signal peptide      1   23   0.99    .    .   \n",
       "12   Col5a2  DeepSig  Signal peptide      1   26   1.00    .    .   \n",
       "\n",
       "                evidence  \n",
       "5   evidence=ECO:0000256  \n",
       "8   evidence=ECO:0000256  \n",
       "12  evidence=ECO:0000256  "
      ]
     },
     "execution_count": 3,
     "metadata": {},
     "output_type": "execute_result"
    }
   ],
   "source": [
    "# load processed seqscope SRP data\n",
    "path = '../validation5_SRP/output/seqscope_SRP_dict.pkl'\n",
    "pickle_dict = pd.read_pickle(path)\n",
    "SRP_df = pickle_dict['seqscope_SRP_df'] # score>=0.95 are kept\n",
    "srp_list = SRP_df.gene.tolist()\n",
    "SRP_df.head(3)"
   ]
  },
  {
   "cell_type": "code",
   "execution_count": 4,
   "id": "c5b2e4e1",
   "metadata": {},
   "outputs": [],
   "source": [
    "# load ella seqscope results\n",
    "fn = '../ella/output_ella/ella_seqscope.pkl'\n",
    "res_dict = pd.read_pickle(fn)\n",
    "types_list = res_dict['types_list']\n",
    "genes_dict = res_dict['genes_dict']\n",
    "cells_dict = res_dict['cells_dict']\n",
    "p_fdr_dict = res_dict['p_fdr_dict']\n",
    "score_dict = res_dict['score_dict']\n",
    "lam_dict = res_dict['lam_dict']\n",
    "label_dict = res_dict['label_dict']\n",
    "del res_dict"
   ]
  },
  {
   "cell_type": "code",
   "execution_count": 5,
   "id": "74eb74e6",
   "metadata": {},
   "outputs": [
    {
     "name": "stdout",
     "output_type": "stream",
     "text": [
      "#SRP avl in H1 201\n",
      "#SRP avl in H2 201\n",
      "#SRP avl in TD1 124\n",
      "#SRP avl in TD2 203\n"
     ]
    }
   ],
   "source": [
    "# #SRP avl in gene lists\n",
    "srp_dict = {}\n",
    "for t in types_list:\n",
    "    gl_t = genes_dict[t]\n",
    "    srp_dict[t] = list(set(gl_t).intersection(srp_list))\n",
    "    print(f'#SRP avl in {t} {len(srp_dict[t])}')"
   ]
  },
  {
   "cell_type": "code",
   "execution_count": 6,
   "id": "cf09e4b4",
   "metadata": {},
   "outputs": [
    {
     "name": "stdout",
     "output_type": "stream",
     "text": [
      "#sig SRP in H1 35\n",
      "#sig SRP in H2 32\n",
      "#sig SRP in TD1 16\n",
      "#sig SRP in TD2 33\n"
     ]
    }
   ],
   "source": [
    "# get pv, scores, labels of SRP avl genes\n",
    "# get the pv_fdr and scores of SRP avl\n",
    "srp_gene_list_dict = {}\n",
    "srp_pv_fdr_dict = {}\n",
    "srp_scores_dict = {}\n",
    "srp_labels_dict = {}\n",
    "for t in types_list:\n",
    "    srp_t = np.array(srp_dict[t])\n",
    "    gl_t = np.array(genes_dict[t])\n",
    "    pv_fdr_t = np.array(p_fdr_dict[t])\n",
    "    scores_t = np.array(score_dict[t])\n",
    "    labels_t = np.array(label_dict[t])\n",
    "    srp_pv_fdr_t = []\n",
    "    srp_scores_t = []\n",
    "    srp_labels_t = []\n",
    "    for ig, g in enumerate(srp_t):\n",
    "        idx = np.where(gl_t == g)[0][0]\n",
    "        srp_pv_fdr_t.append(pv_fdr_t[idx])\n",
    "        srp_scores_t.append(scores_t[idx])\n",
    "        srp_labels_t.append(labels_t[idx])\n",
    "    srp_pv_fdr_dict[t] = srp_pv_fdr_t\n",
    "    srp_scores_dict[t] = srp_scores_t\n",
    "    srp_labels_dict[t] = srp_labels_t\n",
    "    nsig_ = np.sum(np.array(srp_pv_fdr_t)<=0.05)\n",
    "    print(f'#sig SRP in {t} {nsig_}')"
   ]
  },
  {
   "cell_type": "markdown",
   "id": "53304324",
   "metadata": {},
   "source": [
    "#### all types together"
   ]
  },
  {
   "cell_type": "code",
   "execution_count": 40,
   "id": "bbcbf55e",
   "metadata": {},
   "outputs": [
    {
     "name": "stdout",
     "output_type": "stream",
     "text": [
      "p=1.719548528184856e-05\n",
      "1-4 SRP=40.57%\n",
      "0 SRP=16.83%\n"
     ]
    }
   ],
   "source": [
    "# cluster 1-4 vs 0\n",
    "srp_label_all = np.concatenate([lst for lst in srp_labels_dict.values()])\n",
    "label_all = np.concatenate([lst for lst in label_dict.values()])\n",
    "\n",
    "# number of sig SRP with label=1-4\n",
    "n11 = np.sum(srp_label_all>0)\n",
    "# number of sig SRP with label=0\n",
    "n12 = np.sum(srp_label_all==0)\n",
    "# number of sig non-SRP with label=1-4\n",
    "n21 = np.sum(label_all>0) - n11\n",
    "# number of sig non-SRP with label=0\n",
    "n22 = np.sum(label_all==0) - n12\n",
    "\n",
    "#       label=1-4  label=-1,0\n",
    "data = [[n11,      n12], # SRP\n",
    "        [n21,      n22]] # non-SRP\n",
    "\n",
    "# fisher test\n",
    "odd_ratio, p_value1 = stats.fisher_exact(data)\n",
    "print(f'p={p_value1}')\n",
    "print(f'1-4 SRP={n11/(n11+n21)*100:.2f}%')\n",
    "print(f'0 SRP={n12/(n12+n22)*100:.2f}%')\n",
    "\n",
    "p12 = [p_value1]"
   ]
  },
  {
   "cell_type": "code",
   "execution_count": 41,
   "id": "d2e0467b",
   "metadata": {},
   "outputs": [
    {
     "name": "stdout",
     "output_type": "stream",
     "text": [
      "p=9.405690221950929e-21\n",
      "1-4 SRP=40.57%\n",
      "-1,0 SRP=14.95%\n"
     ]
    }
   ],
   "source": [
    "# cluster 1-4 vs all others\n",
    "# number of sig SRP with label=1-4\n",
    "n11 = np.sum(srp_label_all>0)\n",
    "# number of sig SRP with label=-1,0\n",
    "n12 = np.sum(srp_label_all<=0)\n",
    "# number of sig non-SRP with label=1-4\n",
    "n21 = np.sum(label_all>0) - n11\n",
    "# number of sig non-SRP with label=-1,0\n",
    "n22 = np.sum(label_all<=0) - n12\n",
    "\n",
    "#       label=1-4  label=-1,0\n",
    "data = [[n11,      n12], # SRP\n",
    "        [n21,      n22]] # non-SRP\n",
    "\n",
    "# fisher test\n",
    "odd_ratio, p_value2 = stats.fisher_exact(data)\n",
    "print(f'p={p_value2}')\n",
    "print(f'1-4 SRP={n11/(n11+n21)*100:.2f}%')\n",
    "print(f'-1,0 SRP={n12/(n12+n22)*100:.2f}%')\n",
    "\n",
    "p13 = [p_value2]"
   ]
  },
  {
   "cell_type": "code",
   "execution_count": 42,
   "id": "dbe00b84",
   "metadata": {},
   "outputs": [],
   "source": [
    "def sig_symb(p_value):\n",
    "    if p_value <= 0.001:\n",
    "        sig_symbol = '***'\n",
    "    elif p_value <= 0.01:\n",
    "        sig_symbol = '**'\n",
    "    elif p_value <= 0.05:\n",
    "        sig_symbol = '*'\n",
    "    else:\n",
    "        sig_symbol = ''\n",
    "    return sig_symbol"
   ]
  },
  {
   "cell_type": "code",
   "execution_count": 62,
   "id": "f9eb2d1e",
   "metadata": {},
   "outputs": [
    {
     "name": "stdout",
     "output_type": "stream",
     "text": [
      "[0.16831683 0.4057377  0.1633777 ]\n"
     ]
    },
    {
     "data": {
      "image/png": "[encoded data removed]",
      "text/plain": [
       "<Figure size 525x1050 with 1 Axes>"
      ]
     },
     "metadata": {
      "needs_background": "light"
     },
     "output_type": "display_data"
    }
   ],
   "source": [
    "# bar plot of all clusters\n",
    "\n",
    "bar_width = 0.8\n",
    "colors = [red, darkgreen, darkgray]\n",
    "\n",
    "nr = 1\n",
    "nc = 1\n",
    "ss_nr = 3.5\n",
    "ss_nc = 7/4\n",
    "fig = plt.figure(figsize=(nc*ss_nc, nr*ss_nr), dpi=300)\n",
    "gs = fig.add_gridspec(nr, nc,\n",
    "                      width_ratios=[1]*nc,\n",
    "                      height_ratios=[1]*nr)\n",
    "gs.update(wspace=0.0, hspace=0.0)\n",
    "ax = plt.subplot(gs[0, 0])\n",
    "\n",
    "bar_pos = np.array([1,2,3])\n",
    "srp_proportion = []\n",
    "# cluster 1\n",
    "srp_proportion.append(np.sum(srp_label_all==0)/np.sum(label_all==0))\n",
    "# cluster 2-5\n",
    "srp_proportion.append(np.sum(np.logical_and(srp_label_all!=0,srp_label_all!=-1))/np.sum(np.logical_and(label_all!=0, label_all!=-1)))\n",
    "# other than cluster 1\n",
    "srp_proportion.append(np.sum(srp_label_all!=0)/np.sum(label_all!=0))\n",
    "srp_proportion = np.array(srp_proportion)\n",
    "print(srp_proportion)\n",
    "nonsrp_proportion = 1-srp_proportion\n",
    "\n",
    "bars_low = ax.bar(bar_pos, srp_proportion, \n",
    "                  width = bar_width,\n",
    "                  color=colors, alpha=0.8)\n",
    "bars_upper = ax.bar(bar_pos, nonsrp_proportion, \n",
    "                    width = bar_width,\n",
    "                    bottom=srp_proportion, color=colors, alpha=0.2)\n",
    "\n",
    "ax.set_xlim(0.4,3.6)\n",
    "ax.set_ylim(-0.01, 1.01)\n",
    "ax.set_xticks(bar_pos, bar_pos)\n",
    "\n",
    "# pv\n",
    "hgap_big = 0.4\n",
    "hgap_small = 0.02\n",
    "hgap_txt = 0.1\n",
    "for j, p in enumerate(p12[:]):\n",
    "    x1 = 1\n",
    "    x2 = x1+1\n",
    "    bar1_max = srp_proportion[0]\n",
    "    bar2_max = srp_proportion[1]\n",
    "    bar12_max = np.maximum(bar1_max, bar2_max)\n",
    "    \n",
    "    if p<=0.05:\n",
    "        ax.plot(\n",
    "            [x1, x1, x2, x2],\n",
    "            [bar1_max+hgap_txt, bar12_max+hgap_big, bar12_max+hgap_big, bar2_max+hgap_txt],\n",
    "            lw=1, \n",
    "            color='black'\n",
    "        )\n",
    "\n",
    "        ax.text((x1+x2)/2, bar12_max+hgap_big+hgap_small, sig_symb(p), ha='center', va='center')\n",
    "    \n",
    "# pv\n",
    "hgap_big = 0.4\n",
    "hgap_small = 0.02\n",
    "hgap_txt = 0.1\n",
    "for j, p in enumerate(p13[:]):\n",
    "    x1 = 2\n",
    "    x2 = x1+1\n",
    "    bar1_max = srp_proportion[1]\n",
    "    bar2_max = srp_proportion[2]\n",
    "    bar12_max = np.maximum(bar1_max, bar2_max)\n",
    "    \n",
    "    if p<=0.05:\n",
    "        ax.plot(\n",
    "            [x1, x1, x2, x2],\n",
    "            [bar1_max+hgap_txt, bar12_max+hgap_big, bar12_max+hgap_big, bar2_max+hgap_txt],\n",
    "            lw=1, \n",
    "            color='black'\n",
    "        )\n",
    "\n",
    "        ax.text((x1+x2)/2, bar12_max+hgap_big+hgap_small, sig_symb(p), ha='center', va='center')\n",
    "\n",
    "# plt.savefig(f'figs/fig_SRP_all2.pdf', dpi=300, bbox_inches='tight')"
   ]
  },
  {
   "cell_type": "code",
   "execution_count": null,
   "id": "76645e6e",
   "metadata": {},
   "outputs": [],
   "source": []
  }
 ],
 "metadata": {
  "kernelspec": {
   "display_name": "Python 3 (ipykernel)",
   "language": "python",
   "name": "python3"
  },
  "language_info": {
   "codemirror_mode": {
    "name": "ipython",
    "version": 3
   },
   "file_extension": ".py",
   "mimetype": "text/x-python",
   "name": "python",
   "nbconvert_exporter": "python",
   "pygments_lexer": "ipython3",
   "version": "3.10.4"
  }
 },
 "nbformat": 4,
 "nbformat_minor": 5
}
