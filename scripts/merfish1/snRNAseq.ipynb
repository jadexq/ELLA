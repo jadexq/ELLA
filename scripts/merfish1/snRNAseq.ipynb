{
 "cells": [
  {
   "cell_type": "markdown",
   "id": "29df06e4",
   "metadata": {},
   "source": [
    "### Ratio of sn/sc"
   ]
  },
  {
   "cell_type": "code",
   "execution_count": null,
   "id": "9a1eb5cd",
   "metadata": {},
   "outputs": [],
   "source": [
    "import time\n",
    "import timeit\n",
    "import pickle\n",
    "import numpy as np\n",
    "import pandas as pd\n",
    "import matplotlib.pyplot as plt\n",
    "from matplotlib import colors as mcolors\n",
    "from tqdm import tqdm\n",
    "from scipy.stats import mannwhitneyu\n",
    "import scipy.stats as stats\n",
    "\n",
    "# transparent background\n",
    "plt.rcParams.update({\n",
    "    \"figure.facecolor\":  (0.0, 0.0, 0.0, 0.0),  \n",
    "    \"axes.facecolor\":    (0.0, 0.0, 0.0, 0.0),  \n",
    "})"
   ]
  },
  {
   "cell_type": "code",
   "execution_count": 3,
   "id": "6ff6986d",
   "metadata": {},
   "outputs": [
    {
     "data": {
      "image/png": "[encoded data removed]",
      "text/plain": [
       "<Figure size 1000x150 with 1 Axes>"
      ]
     },
     "metadata": {
      "needs_background": "light"
     },
     "output_type": "display_data"
    }
   ],
   "source": [
    "# define colors\n",
    "purple = '#856088'\n",
    "pink = '#F25278'\n",
    "red = '#d96256'\n",
    "lightgreen = '#93c572'\n",
    "darkgreen = '#4c9141'\n",
    "lightblue = '#5d8aa8'\n",
    "darkblue = '#284d88'\n",
    "white = '#fafafa'\n",
    "lightgray = '#d3d3d3'\n",
    "darkgray ='#545454'\n",
    "lightorange = '#fabc2e'\n",
    "darkorange = '#fb9912'\n",
    "lightyellow = '#e4d00a'\n",
    "lightgreen2 = '#32CD32'\n",
    "lightblue2 = '#189AB4'\n",
    "darkblue2 = '#05445E'\n",
    "lightpink = '#F79AC0'\n",
    "darkorange2 = '#FA8128'\n",
    "darkyellow = '#BDA55D'\n",
    "lightgray2 = '#E2E0D4'\n",
    "lightgray3 = '#BFBBA4'\n",
    "\n",
    "colors = [\n",
    "    red, lightorange, lightgreen, lightblue, darkblue, \n",
    "    darkgray, lightgray, purple, darkgreen, darkorange,\n",
    "    pink, darkorange2, lightblue2, lightgreen2, lightyellow,\n",
    "    lightpink, darkyellow, darkblue2, lightgray2, lightgray3\n",
    "]\n",
    "\n",
    "plt.figure(figsize=(10, 1.5))\n",
    "plt.bar(range(len(colors)), height=1, color=colors)\n",
    "__ = plt.axis('off')"
   ]
  },
  {
   "cell_type": "markdown",
   "id": "8bf5c378",
   "metadata": {},
   "source": [
    "#### load data"
   ]
  },
  {
   "cell_type": "code",
   "execution_count": 4,
   "id": "c6689059",
   "metadata": {},
   "outputs": [
    {
     "data": {
      "text/html": [
       "<div>\n",
       "<style scoped>\n",
       "    .dataframe tbody tr th:only-of-type {\n",
       "        vertical-align: middle;\n",
       "    }\n",
       "\n",
       "    .dataframe tbody tr th {\n",
       "        vertical-align: top;\n",
       "    }\n",
       "\n",
       "    .dataframe thead th {\n",
       "        text-align: right;\n",
       "    }\n",
       "</style>\n",
       "<table border=\"1\" class=\"dataframe\">\n",
       "  <thead>\n",
       "    <tr style=\"text-align: right;\">\n",
       "      <th></th>\n",
       "      <th>barcode_idx</th>\n",
       "      <th>feature_idx</th>\n",
       "      <th>count</th>\n",
       "      <th>umi</th>\n",
       "      <th>barcode</th>\n",
       "      <th>feature</th>\n",
       "      <th>_type</th>\n",
       "      <th>type</th>\n",
       "    </tr>\n",
       "  </thead>\n",
       "  <tbody>\n",
       "    <tr>\n",
       "      <th>3115</th>\n",
       "      <td>685</td>\n",
       "      <td>120</td>\n",
       "      <td>2</td>\n",
       "      <td>3204046</td>\n",
       "      <td>AAACCCAAGCCTATTG</td>\n",
       "      <td>Lmbrd1</td>\n",
       "      <td>Ext_L23</td>\n",
       "      <td>EX</td>\n",
       "    </tr>\n",
       "    <tr>\n",
       "      <th>3116</th>\n",
       "      <td>685</td>\n",
       "      <td>198</td>\n",
       "      <td>2</td>\n",
       "      <td>1572250</td>\n",
       "      <td>AAACCCAAGCCTATTG</td>\n",
       "      <td>Unc50</td>\n",
       "      <td>Ext_L23</td>\n",
       "      <td>EX</td>\n",
       "    </tr>\n",
       "    <tr>\n",
       "      <th>3117</th>\n",
       "      <td>685</td>\n",
       "      <td>228</td>\n",
       "      <td>1</td>\n",
       "      <td>14055112</td>\n",
       "      <td>AAACCCAAGCCTATTG</td>\n",
       "      <td>Rnf149</td>\n",
       "      <td>Ext_L23</td>\n",
       "      <td>EX</td>\n",
       "    </tr>\n",
       "    <tr>\n",
       "      <th>3118</th>\n",
       "      <td>685</td>\n",
       "      <td>256</td>\n",
       "      <td>1</td>\n",
       "      <td>14384360</td>\n",
       "      <td>AAACCCAAGCCTATTG</td>\n",
       "      <td>Pantr1</td>\n",
       "      <td>Ext_L23</td>\n",
       "      <td>EX</td>\n",
       "    </tr>\n",
       "    <tr>\n",
       "      <th>3119</th>\n",
       "      <td>685</td>\n",
       "      <td>261</td>\n",
       "      <td>1</td>\n",
       "      <td>13463740</td>\n",
       "      <td>AAACCCAAGCCTATTG</td>\n",
       "      <td>Tgfbrap1</td>\n",
       "      <td>Ext_L23</td>\n",
       "      <td>EX</td>\n",
       "    </tr>\n",
       "  </tbody>\n",
       "</table>\n",
       "</div>"
      ],
      "text/plain": [
       "      barcode_idx  feature_idx  count       umi           barcode   feature  \\\n",
       "3115          685          120      2   3204046  AAACCCAAGCCTATTG    Lmbrd1   \n",
       "3116          685          198      2   1572250  AAACCCAAGCCTATTG     Unc50   \n",
       "3117          685          228      1  14055112  AAACCCAAGCCTATTG    Rnf149   \n",
       "3118          685          256      1  14384360  AAACCCAAGCCTATTG    Pantr1   \n",
       "3119          685          261      1  13463740  AAACCCAAGCCTATTG  Tgfbrap1   \n",
       "\n",
       "        _type type  \n",
       "3115  Ext_L23   EX  \n",
       "3116  Ext_L23   EX  \n",
       "3117  Ext_L23   EX  \n",
       "3118  Ext_L23   EX  \n",
       "3119  Ext_L23   EX  "
      ]
     },
     "execution_count": 4,
     "metadata": {},
     "output_type": "execute_result"
    }
   ],
   "source": [
    "# load processed snRNAseq data\n",
    "path = 'input/df_valid.pkl'\n",
    "sn_df = pd.read_pickle(path)['df_valid']\n",
    "sn_df.head()"
   ]
  },
  {
   "cell_type": "code",
   "execution_count": 5,
   "id": "b701dc87",
   "metadata": {},
   "outputs": [],
   "source": [
    "# load ella results\n",
    "fn = '../ella/output_ella/ella_merfish_mouse_brain.pkl'\n",
    "res_dict = pd.read_pickle(fn)\n",
    "types_list = res_dict['types_list']\n",
    "genes_dict = res_dict['genes_dict']\n",
    "cells_dict = res_dict['cells_dict']\n",
    "p_fdr_dict = res_dict['p_fdr_dict']\n",
    "score_dict = res_dict['score_dict']\n",
    "lam_dict = res_dict['lam_dict']\n",
    "label_dict = res_dict['label_dict']\n",
    "del res_dict"
   ]
  },
  {
   "cell_type": "code",
   "execution_count": 7,
   "id": "c5b716a4",
   "metadata": {},
   "outputs": [],
   "source": [
    "# load ella intput df\n",
    "fn = '../ella/input/merfish_mouse_brain_data_dict.pkl'\n",
    "data_dict = pd.read_pickle(fn)\n",
    "data_df = data_dict['data_df']"
   ]
  },
  {
   "cell_type": "markdown",
   "id": "13c6ca1a",
   "metadata": {},
   "source": [
    "#### gene list to validate"
   ]
  },
  {
   "cell_type": "code",
   "execution_count": 8,
   "id": "a6ca8c6e",
   "metadata": {},
   "outputs": [
    {
     "name": "stdout",
     "output_type": "stream",
     "text": [
      "EX #833\n",
      "IN #777\n",
      "Astr #512\n",
      "Oligo #674\n"
     ]
    }
   ],
   "source": [
    "gl_2valid_dict = {}\n",
    "for t in types_list:\n",
    "    # all genes in ella\n",
    "    gl_t = np.array(genes_dict[t])\n",
    "    pv_t = p_fdr_dict[t]\n",
    "    # genes with sn\n",
    "    df_t = sn_df[sn_df.type==t]\n",
    "    sn_gl_t = df_t.feature.unique()\n",
    "    # com genes\n",
    "    com_t = list(set(gl_t).intersection(set(sn_gl_t)))\n",
    "    print(f'{t} #{len(com_t)}')\n",
    "    gl_2valid_dict[t] = list(com_t)"
   ]
  },
  {
   "cell_type": "markdown",
   "id": "d3a8050f",
   "metadata": {},
   "source": [
    "#### find sn counts"
   ]
  },
  {
   "cell_type": "code",
   "execution_count": 9,
   "id": "72b5f3f3",
   "metadata": {},
   "outputs": [],
   "source": [
    "# avg gene count per cell in sn data\n",
    "sn_avg_dict = {}\n",
    "for t in types_list:\n",
    "    com_t = gl_2valid_dict[t]\n",
    "    df_t = sn_df[sn_df.type==t]\n",
    "    df_t_gbF = df_t.groupby('feature')\n",
    "    \n",
    "    sn_avg_t = []\n",
    "    for g in com_t[:]:\n",
    "        df_t_g = df_t_gbF.get_group(g)\n",
    "        sn_avg_t.append(df_t_g.umi.mean())\n",
    "        \n",
    "    sn_avg_dict[t] = np.array(sn_avg_t)"
   ]
  },
  {
   "cell_type": "markdown",
   "id": "1776e53c",
   "metadata": {},
   "source": [
    "#### find sc counts"
   ]
  },
  {
   "cell_type": "code",
   "execution_count": 10,
   "id": "82fd72ba",
   "metadata": {},
   "outputs": [
    {
     "name": "stdout",
     "output_type": "stream",
     "text": [
      "EX minavg=1.00 maxavg=30.78\n",
      "IN minavg=1.00 maxavg=29.63\n",
      "Astr minavg=1.00 maxavg=12.33\n",
      "Oligo minavg=1.00 maxavg=27.26\n"
     ]
    }
   ],
   "source": [
    "# avg gene count per cell in our data\n",
    "sc_avg_dict = {}\n",
    "for t in types_list[:]:\n",
    "    com_t = gl_2valid_dict[t]\n",
    "    df_t = data_df[data_df.type==t]\n",
    "    df_t_gbG = df_t.groupby('gene')\n",
    "    \n",
    "    sc_avg_t = []\n",
    "    for g in com_t[:]:\n",
    "        df_t_g = df_t_gbG.get_group(g)\n",
    "        sc_avg_g = np.mean(df_t_g[['umi','cell']].groupby('cell').sum().values)\n",
    "        sc_avg_t.append(sc_avg_g)\n",
    "        \n",
    "    sc_avg_dict[t] = np.array(sc_avg_t)\n",
    "    print(f'{t} minavg={np.min(sc_avg_t):.2f} maxavg={np.max(sc_avg_t):.2f}')"
   ]
  },
  {
   "cell_type": "markdown",
   "id": "6ee8d422",
   "metadata": {},
   "source": [
    "#### compute sn/sc ratio for `gl_2valid_dict`"
   ]
  },
  {
   "cell_type": "code",
   "execution_count": 37,
   "id": "387d44b2",
   "metadata": {},
   "outputs": [
    {
     "name": "stdout",
     "output_type": "stream",
     "text": [
      "EX min=155907.89 max=16725463.00\n",
      "IN min=37375.37 max=16634682.00\n",
      "Astr min=455133.78 max=12369385.28\n",
      "Oligo min=179477.59 max=14993485.00\n"
     ]
    }
   ],
   "source": [
    "ratio_dict = {}\n",
    "for t in types_list[:]:\n",
    "    com_t = gl_2valid_dict[t]\n",
    "    sn_t = sn_avg_dict[t]\n",
    "    sc_t = sc_avg_dict[t]\n",
    "    ratio_t = sn_t/sc_t\n",
    "    ratio_dict[t] = ratio_t\n",
    "    print(f'{t} min={np.min(ratio_t):.2f} max={np.max(ratio_t):.2f}')"
   ]
  },
  {
   "cell_type": "code",
   "execution_count": 48,
   "id": "acd57434",
   "metadata": {},
   "outputs": [],
   "source": [
    "# find genes and their ratio, label, score \n",
    "validate_genes_dict = gl_2valid_dict\n",
    "\n",
    "ratio_df_dict = {}\n",
    "for t in types_list:\n",
    "    pv_t = p_fdr_dict[t]\n",
    "    label_t = label_dict[t]\n",
    "    score_t = score_dict[t]\n",
    "    \n",
    "    genes_t = np.array(genes_dict[t])\n",
    "    genes2_t = list(set(genes_t).intersection(validate_genes_dict[t]))\n",
    "\n",
    "    ratio2_t = np.zeros(len(genes2_t))\n",
    "    score2_t = np.zeros(len(genes2_t))\n",
    "    label2_t = np.zeros(len(genes2_t))\n",
    "    sn2_t = np.zeros(len(genes2_t))\n",
    "    sc2_t = np.zeros(len(genes2_t))\n",
    "    \n",
    "    for ig, g in enumerate(genes2_t):\n",
    "        ig_ratio = np.where(np.array(validate_genes_dict[t]) == g)[0][0]\n",
    "        ratio_g = ratio_dict[t][ig_ratio]\n",
    "        sn_g = sn_avg_dict[t][ig_ratio]\n",
    "        sc_g = sc_avg_dict[t][ig_ratio]\n",
    "        ratio2_t[ig] = ratio_g\n",
    "        ig_score = np.where(np.array(genes_dict[t]) == g)[0][0]\n",
    "        score_g = score_t[ig_score]\n",
    "        label_g = label_t[ig_score]\n",
    "        score2_t[ig] = score_g\n",
    "        label2_t[ig] = label_g\n",
    "        sn2_t[ig] = sn_g\n",
    "        sc2_t[ig] = sc_g\n",
    "    ratio_df_dict[t] = pd.DataFrame({'gene':genes2_t, 'ratio':ratio2_t, 'score':score2_t, 'label':label2_t, 'sn':sn2_t, 'sc':sc2_t})"
   ]
  },
  {
   "cell_type": "markdown",
   "id": "66790669",
   "metadata": {},
   "source": [
    "#### all types together"
   ]
  },
  {
   "cell_type": "code",
   "execution_count": 72,
   "id": "1934fe24",
   "metadata": {},
   "outputs": [
    {
     "data": {
      "text/html": [
       "<div>\n",
       "<style scoped>\n",
       "    .dataframe tbody tr th:only-of-type {\n",
       "        vertical-align: middle;\n",
       "    }\n",
       "\n",
       "    .dataframe tbody tr th {\n",
       "        vertical-align: top;\n",
       "    }\n",
       "\n",
       "    .dataframe thead th {\n",
       "        text-align: right;\n",
       "    }\n",
       "</style>\n",
       "<table border=\"1\" class=\"dataframe\">\n",
       "  <thead>\n",
       "    <tr style=\"text-align: right;\">\n",
       "      <th></th>\n",
       "      <th>gene</th>\n",
       "      <th>ratio</th>\n",
       "      <th>score</th>\n",
       "      <th>label</th>\n",
       "      <th>sn</th>\n",
       "      <th>sc</th>\n",
       "    </tr>\n",
       "  </thead>\n",
       "  <tbody>\n",
       "    <tr>\n",
       "      <th>0</th>\n",
       "      <td>Fam20a</td>\n",
       "      <td>8.351584e+06</td>\n",
       "      <td>0.494960</td>\n",
       "      <td>-1.0</td>\n",
       "      <td>9.440921e+06</td>\n",
       "      <td>1.130435</td>\n",
       "    </tr>\n",
       "    <tr>\n",
       "      <th>1</th>\n",
       "      <td>Scn7a</td>\n",
       "      <td>6.831205e+06</td>\n",
       "      <td>0.121970</td>\n",
       "      <td>0.0</td>\n",
       "      <td>8.801745e+06</td>\n",
       "      <td>1.288462</td>\n",
       "    </tr>\n",
       "    <tr>\n",
       "      <th>2</th>\n",
       "      <td>Aff2</td>\n",
       "      <td>5.180305e+06</td>\n",
       "      <td>0.605848</td>\n",
       "      <td>-1.0</td>\n",
       "      <td>9.145918e+06</td>\n",
       "      <td>1.765517</td>\n",
       "    </tr>\n",
       "  </tbody>\n",
       "</table>\n",
       "</div>"
      ],
      "text/plain": [
       "     gene         ratio     score  label            sn        sc\n",
       "0  Fam20a  8.351584e+06  0.494960   -1.0  9.440921e+06  1.130435\n",
       "1   Scn7a  6.831205e+06  0.121970    0.0  8.801745e+06  1.288462\n",
       "2    Aff2  5.180305e+06  0.605848   -1.0  9.145918e+06  1.765517"
      ]
     },
     "execution_count": 72,
     "metadata": {},
     "output_type": "execute_result"
    }
   ],
   "source": [
    "# merge together\n",
    "_merged_df = pd.concat(ratio_df_dict.values(), ignore_index=True)\n",
    "_merged_df.head(3)"
   ]
  },
  {
   "cell_type": "code",
   "execution_count": 177,
   "id": "18377179",
   "metadata": {},
   "outputs": [
    {
     "name": "stderr",
     "output_type": "stream",
     "text": [
      "/tmp/ipykernel_2469097/143066240.py:5: FutureWarning: The default value of numeric_only in DataFrameGroupBy.mean is deprecated. In a future version, numeric_only will default to False. Either specify numeric_only or select only columns which should be valid for the function.\n",
      "  merged_df.groupby('label').mean()\n"
     ]
    },
    {
     "data": {
      "text/html": [
       "<div>\n",
       "<style scoped>\n",
       "    .dataframe tbody tr th:only-of-type {\n",
       "        vertical-align: middle;\n",
       "    }\n",
       "\n",
       "    .dataframe tbody tr th {\n",
       "        vertical-align: top;\n",
       "    }\n",
       "\n",
       "    .dataframe thead th {\n",
       "        text-align: right;\n",
       "    }\n",
       "</style>\n",
       "<table border=\"1\" class=\"dataframe\">\n",
       "  <thead>\n",
       "    <tr style=\"text-align: right;\">\n",
       "      <th></th>\n",
       "      <th>ratio</th>\n",
       "      <th>score</th>\n",
       "      <th>sn</th>\n",
       "      <th>sc</th>\n",
       "    </tr>\n",
       "    <tr>\n",
       "      <th>label</th>\n",
       "      <th></th>\n",
       "      <th></th>\n",
       "      <th></th>\n",
       "      <th></th>\n",
       "    </tr>\n",
       "  </thead>\n",
       "  <tbody>\n",
       "    <tr>\n",
       "      <th>-1.0</th>\n",
       "      <td>4.296697e+06</td>\n",
       "      <td>0.535854</td>\n",
       "      <td>8.835656e+06</td>\n",
       "      <td>2.501341</td>\n",
       "    </tr>\n",
       "    <tr>\n",
       "      <th>0.0</th>\n",
       "      <td>5.588951e+06</td>\n",
       "      <td>0.164947</td>\n",
       "      <td>8.935353e+06</td>\n",
       "      <td>1.880348</td>\n",
       "    </tr>\n",
       "    <tr>\n",
       "      <th>1.0</th>\n",
       "      <td>5.734003e+06</td>\n",
       "      <td>0.446656</td>\n",
       "      <td>8.893841e+06</td>\n",
       "      <td>1.823403</td>\n",
       "    </tr>\n",
       "    <tr>\n",
       "      <th>2.0</th>\n",
       "      <td>4.667575e+06</td>\n",
       "      <td>0.615929</td>\n",
       "      <td>8.892293e+06</td>\n",
       "      <td>2.441006</td>\n",
       "    </tr>\n",
       "    <tr>\n",
       "      <th>3.0</th>\n",
       "      <td>4.301995e+06</td>\n",
       "      <td>0.748085</td>\n",
       "      <td>9.064095e+06</td>\n",
       "      <td>2.912524</td>\n",
       "    </tr>\n",
       "  </tbody>\n",
       "</table>\n",
       "</div>"
      ],
      "text/plain": [
       "              ratio     score            sn        sc\n",
       "label                                                \n",
       "-1.0   4.296697e+06  0.535854  8.835656e+06  2.501341\n",
       " 0.0   5.588951e+06  0.164947  8.935353e+06  1.880348\n",
       " 1.0   5.734003e+06  0.446656  8.893841e+06  1.823403\n",
       " 2.0   4.667575e+06  0.615929  8.892293e+06  2.441006\n",
       " 3.0   4.301995e+06  0.748085  9.064095e+06  2.912524"
      ]
     },
     "execution_count": 177,
     "metadata": {},
     "output_type": "execute_result"
    }
   ],
   "source": [
    "merged_df = _merged_df.copy()\n",
    "merged_df[(merged_df.label==-1)&(merged_df.sc<1.5)] = np.nan #!!!<<<\n",
    "merged_df = merged_df.dropna()\n",
    "merged_df.groupby('label').mean()"
   ]
  },
  {
   "cell_type": "code",
   "execution_count": 179,
   "id": "c7930ba1",
   "metadata": {},
   "outputs": [
    {
     "name": "stdout",
     "output_type": "stream",
     "text": [
      "1-2 vs 3-4 \n",
      "p=1.4416518364554874e-15\n",
      "fc=1.2500117334245855\n",
      "1-2 vs others \n",
      "p=2.0608133271785764e-31\n",
      "fc=1.2887173622115213\n"
     ]
    }
   ],
   "source": [
    "# wilcoxon cluster 1-2 vs 3-4 \n",
    "sample1 = merged_df['ratio'][(merged_df.label==0)|(merged_df.label==1)].values\n",
    "sample2 = merged_df['ratio'][(merged_df.label==2)|(merged_df.label==3)].values\n",
    "__statistic, p_value1 = mannwhitneyu(sample1, sample2)\n",
    "print(f'1-2 vs 3-4 \\np={p_value1}')\n",
    "print(f'fc={np.mean(sample1)/np.mean(sample2)}')\n",
    "p12 = [p_value1]\n",
    "\n",
    "# wilcoxon cluster 1 vs all else\n",
    "sample3_df = merged_df[['ratio', 'sc']][(merged_df.label==-1)|(merged_df.label==2)|(merged_df.label==3)]\n",
    "sample3 = sample3_df[sample3_df.sc>-999].ratio.values\n",
    "__statistic, p_value2 = mannwhitneyu(sample1, sample3)\n",
    "print(f'1-2 vs others \\np={p_value2}')\n",
    "print(f'fc={np.mean(sample1)/np.mean(sample3)}')\n",
    "p13 = [p_value2]"
   ]
  },
  {
   "cell_type": "code",
   "execution_count": 180,
   "id": "dcb8c404",
   "metadata": {},
   "outputs": [],
   "source": [
    "# bar plot\n",
    "means = [\n",
    "    (merged_df.ratio)[(merged_df.label==0)|(merged_df.label==1)].mean(),\n",
    "    (merged_df.ratio)[(merged_df.label==2)|(merged_df.label==3)].mean(),\n",
    "    (merged_df.ratio)[(merged_df.label==-1)|(merged_df.label==2)|(merged_df.label==3)].mean(),\n",
    "]\n",
    "\n",
    "# Individual data points for each category\n",
    "data_points = [\n",
    "    (merged_df.ratio)[(merged_df.label==0)|(merged_df.label==1)],\n",
    "    (merged_df.ratio)[(merged_df.label==2)|(merged_df.label==3)],\n",
    "    (merged_df.ratio)[(merged_df.label==-1)|(merged_df.label==2)|(merged_df.label==3)],\n",
    "]\n",
    "\n",
    "# remove outliers\n",
    "lbs = []\n",
    "ubs = []\n",
    "data_points2 = []\n",
    "for j in range(len(data_points)):\n",
    "    data_j = data_points[j]\n",
    "    \n",
    "    # IQR\n",
    "    Q1 = np.percentile(data_j, 25)\n",
    "    Q3 = np.percentile(data_j, 75)\n",
    "    # IQR = Q3 - Q1\n",
    "    lower_bound = Q1\n",
    "    upper_bound = Q3\n",
    "    lbs.append(np.maximum(means[j]-lower_bound,0))\n",
    "    ubs.append(np.maximum(upper_bound-means[j],0))\n",
    "    \n",
    "    data_j2 = data_j[(data_j >= lower_bound) & (data_j <= upper_bound)]\n",
    "    \n",
    "    data_points2.append(data_j2)"
   ]
  },
  {
   "cell_type": "code",
   "execution_count": 181,
   "id": "477a873c",
   "metadata": {},
   "outputs": [],
   "source": [
    "def sig_symb(p_value):\n",
    "    if p_value <= 0.001:\n",
    "        sig_symbol = '***'\n",
    "    elif p_value <= 0.01:\n",
    "        sig_symbol = '**'\n",
    "    elif p_value <= 0.05:\n",
    "        sig_symbol = '*'\n",
    "    else:\n",
    "        sig_symbol = ''\n",
    "    return sig_symbol"
   ]
  },
  {
   "cell_type": "code",
   "execution_count": 182,
   "id": "07cca7a8",
   "metadata": {},
   "outputs": [
    {
     "data": {
      "image/png": "[encoded data removed]",
      "text/plain": [
       "<Figure size 525x1050 with 1 Axes>"
      ]
     },
     "metadata": {
      "needs_background": "light"
     },
     "output_type": "display_data"
    }
   ],
   "source": [
    "nr = 1\n",
    "nc = 1\n",
    "ss_nr = 3.5\n",
    "ss_nc = 7/4\n",
    "fig = plt.figure(figsize=(nc*ss_nc, nr*ss_nr), dpi=300)\n",
    "gs = fig.add_gridspec(nr,nc,\n",
    "                      width_ratios=[1]*nc,\n",
    "                      height_ratios=[1]*nr)\n",
    "gs.update(wspace=0.0, hspace=0.0)\n",
    "ax = plt.subplot(gs[0, 0])\n",
    "\n",
    "colors = [red, darkgreen, darkgray]\n",
    "bar_pos = np.array([1,2,3])\n",
    "\n",
    "# bar\n",
    "bars = ax.bar(bar_pos, means, yerr=np.array([lbs, ubs]), \n",
    "              capsize=5, \n",
    "              color=colors,\n",
    "              zorder=1,\n",
    "              alpha=0.4)\n",
    "# the std \n",
    "bars = ax.bar(bar_pos, means, yerr=np.array([lbs, ubs]), \n",
    "              capsize=5, \n",
    "              zorder=3,\n",
    "              alpha=0)\n",
    "\n",
    "# Define the width of the spread\n",
    "width = bars[0].get_width() / 1.0\n",
    "\n",
    "# Adding spread dots\n",
    "for _i, (i, data) in enumerate(zip(bar_pos, data_points2)):\n",
    "    # Spread dots around the center of the bar\n",
    "    x = np.random.normal(i, width/10, size=len(data))\n",
    "    ax.plot(x, data, '.', \n",
    "            color=colors[_i], \n",
    "            markersize=3,\n",
    "            markeredgewidth=0, mec='none', alpha=0.5, zorder=1)\n",
    "\n",
    "# add 1 vs 2-5 pv\n",
    "hgap_big = 5e5\n",
    "hgap_small = 1e5\n",
    "for j, p in enumerate(p12[:]):\n",
    "    x1 = bar_pos[::3][j]\n",
    "    x2 = x1+1\n",
    "    bar1_max = means[j*3]+ubs[j*3]\n",
    "    bar2_max = means[j*3+1]+ubs[j*3+1]\n",
    "    bar12_max = np.maximum(bar1_max, bar2_max)\n",
    "    \n",
    "    if p<=0.05:\n",
    "        ax.plot(\n",
    "            [x1, x1, x2, x2],\n",
    "            [bar1_max+hgap_small, bar12_max+hgap_big, bar12_max+hgap_big, bar2_max+hgap_small],\n",
    "            lw=1, \n",
    "            color='black'\n",
    "        )\n",
    "\n",
    "        ax.text((x1+x2)/2, bar12_max+hgap_big+hgap_small, sig_symb(p), ha='center', va='center')\n",
    "    \n",
    "# add 1 vs others pv\n",
    "hgap_big = 5e5*2\n",
    "hgap_small = 1e5\n",
    "for j, p in enumerate(p13[:]):\n",
    "    x1 = bar_pos[::3][j]\n",
    "    x2 = x1+2\n",
    "    bar1_max = means[j*3]+ubs[j*3]\n",
    "    bar2_max = means[j*3+2]+ubs[j*3+2]\n",
    "    bar12_max = np.maximum(bar1_max, bar2_max)\n",
    "    \n",
    "    if p<=0.05:\n",
    "        ax.plot(\n",
    "            [x1, x1, x2, x2],\n",
    "            [bar1_max+hgap_small, bar12_max+hgap_big, bar12_max+hgap_big, bar2_max+hgap_small],\n",
    "            lw=1, \n",
    "            color='black'\n",
    "        )\n",
    "\n",
    "        ax.text((x1+x2)/2, bar12_max+hgap_big+hgap_small, sig_symb(p), ha='center', va='center')\n",
    "    \n",
    "ax.set_xlabel('')\n",
    "ax.set_ylabel('')\n",
    "ax.set_title('')\n",
    "ax.set_ylim((0, 9e6))\n",
    "\n",
    "# plt.savefig(f'figs/fig_snRNAseq_all.pdf', dpi=300, bbox_inches='tight')"
   ]
  },
  {
   "cell_type": "code",
   "execution_count": null,
   "id": "73d82abe",
   "metadata": {},
   "outputs": [],
   "source": []
  }
 ],
 "metadata": {
  "kernelspec": {
   "display_name": "Python 3 (ipykernel)",
   "language": "python",
   "name": "python3"
  },
  "language_info": {
   "codemirror_mode": {
    "name": "ipython",
    "version": 3
   },
   "file_extension": ".py",
   "mimetype": "text/x-python",
   "name": "python",
   "nbconvert_exporter": "python",
   "pygments_lexer": "ipython3",
   "version": "3.10.4"
  }
 },
 "nbformat": 4,
 "nbformat_minor": 5
}
