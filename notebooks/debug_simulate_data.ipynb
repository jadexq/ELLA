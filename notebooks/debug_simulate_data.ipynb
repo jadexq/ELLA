{
 "cells": [
  {
   "cell_type": "code",
   "execution_count": null,
   "metadata": {},
   "outputs": [],
   "source": [
    "from ella.data.simulate_data import *\n",
    "\n",
    "import matplotlib.pyplot as plt"
   ]
  },
  {
   "cell_type": "code",
   "execution_count": 34,
   "metadata": {},
   "outputs": [],
   "source": [
    "n_genes: int = 2 #!!!\n",
    "n_cells: int = 1 #!!!\n",
    "SC_TOTAL: float = 1.0\n",
    "genes_data: List[Dict] = []\n",
    "for idx_gene in range(n_genes):\n",
    "    gene_data: Dict = {\"gene_id\": idx_gene}\n",
    "    gene_data[\"cells\"] = []\n",
    "    for idx_cell in range(n_cells):\n",
    "        cell_info: Dict = {\"cell_id\": idx_cell}\n",
    "        r_bins: List[Bin] = generate_r_bins(5) \n",
    "        lambda_star_i: List[float] = generate_lambda_star_i(\n",
    "            r_bins=r_bins,\n",
    "            a0=1.0, #!!!\n",
    "            b0=4.0, #!!!\n",
    "            alpha=1.0, #!!!\n",
    "            beta=0.0, #!!!\n",
    "            sigma0_squared=0.01,\n",
    "            rho=0.0,\n",
    "            sc_total=SC_TOTAL,\n",
    "        )\n",
    "        cell_info[\"points\"] = generate_data(\n",
    "            count_per_cell=1000, #!!!\n",
    "            lambda_star_i=lambda_star_i,\n",
    "            r_bins=r_bins,\n",
    "        )\n",
    "        cell_info[\"sc_total\"] = SC_TOTAL\n",
    "        gene_data[\"cells\"].append(cell_info)\n",
    "    genes_data.append(gene_data)\n",
    "\n",
    "out_path = Path(\"simulated_data.jsonl\")\n",
    "out_path.parent.mkdir(exist_ok=True, parents=True)\n",
    "# with out_path.open(\"w\", encoding=\"utf-8\") as f:\n",
    "#     for gene_data in genes_data:\n",
    "#         f.write(f\"{json.dumps(gene_data)}\\n\")"
   ]
  },
  {
   "cell_type": "code",
   "execution_count": 35,
   "metadata": {},
   "outputs": [
    {
     "data": {
      "text/plain": [
       "(array([ 27.,  25.,  54.,  54., 107.,  95., 155., 156., 162., 165.]),\n",
       " array([0.00898343, 0.10798875, 0.20699408, 0.3059994 , 0.40500472,\n",
       "        0.50401004, 0.60301536, 0.70202068, 0.80102601, 0.90003133,\n",
       "        0.99903665]),\n",
       " <BarContainer object of 10 artists>)"
      ]
     },
     "execution_count": 35,
     "metadata": {},
     "output_type": "execute_result"
    },
    {
     "data": {
      "image/png": "[encoded data removed]",
      "text/plain": [
       "<Figure size 640x480 with 1 Axes>"
      ]
     },
     "metadata": {},
     "output_type": "display_data"
    }
   ],
   "source": [
    "plt.hist(cell_info[\"points\"])"
   ]
  },
  {
   "cell_type": "code",
   "execution_count": 36,
   "metadata": {},
   "outputs": [
    {
     "name": "stdout",
     "output_type": "stream",
     "text": [
      "varphi=2.916\n",
      "lambda_i=2.9200139256503044\n",
      "lambda_star_i=1.8346988594405778\n",
      "varphi=1.3719999999999999\n",
      "lambda_i=1.3692915509084231\n",
      "lambda_star_i=2.581053766173886\n",
      "varphi=0.49999999999999994\n",
      "lambda_i=0.5017907062189855\n",
      "lambda_star_i=1.5764219962971988\n",
      "varphi=0.10799999999999994\n",
      "lambda_i=0.10686689439028028\n",
      "lambda_star_i=0.47002515045984516\n",
      "varphi=0.003999999999999998\n",
      "lambda_i=0.0005268974633657569\n",
      "lambda_star_i=0.0029795349601889265\n"
     ]
    }
   ],
   "source": [
    "r_bins=r_bins\n",
    "a0=1.0 #!!!\n",
    "b0=4.0 #!!!\n",
    "alpha=0.0 #!!!\n",
    "beta=1.0 #!!!\n",
    "sigma0_squared=0.00001\n",
    "rho=0.0\n",
    "sc_total=SC_TOTAL\n",
    "results: List[float] = []\n",
    "for r_bin in r_bins:\n",
    "    r_mid = r_bin.mid\n",
    "    varphi: float = beta_dist.pdf(r_mid, a0, b0)\n",
    "    print(f'varphi={varphi}')\n",
    "    epsilon_i: float = np.random.normal(0, np.sqrt(sigma0_squared + rho * varphi))\n",
    "    lambda_i: float = alpha + beta * varphi + epsilon_i\n",
    "    print(f'lambda_i={lambda_i}')\n",
    "    lambda_star_i: float = sc_total * 2 * pi * r_mid * lambda_i\n",
    "    lambda_star_i = max(lambda_star_i, 0)\n",
    "    print(f'lambda_star_i={lambda_star_i}')\n",
    "    results.append(lambda_star_i)"
   ]
  },
  {
   "cell_type": "code",
   "execution_count": 37,
   "metadata": {},
   "outputs": [
    {
     "data": {
      "text/plain": [
       "0.003999999999999998"
      ]
     },
     "execution_count": 37,
     "metadata": {},
     "output_type": "execute_result"
    }
   ],
   "source": [
    "varphi"
   ]
  },
  {
   "cell_type": "code",
   "execution_count": null,
   "metadata": {},
   "outputs": [],
   "source": []
  }
 ],
 "metadata": {
  "kernelspec": {
   "display_name": "ella2",
   "language": "python",
   "name": "python3"
  },
  "language_info": {
   "codemirror_mode": {
    "name": "ipython",
    "version": 3
   },
   "file_extension": ".py",
   "mimetype": "text/x-python",
   "name": "python",
   "nbconvert_exporter": "python",
   "pygments_lexer": "ipython3",
   "version": "3.9.21"
  }
 },
 "nbformat": 4,
 "nbformat_minor": 2
}
